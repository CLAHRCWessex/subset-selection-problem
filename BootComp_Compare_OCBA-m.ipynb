{
 "cells": [
  {
   "cell_type": "markdown",
   "metadata": {},
   "source": [
    "# Bootcomp  - selection of top m of k simulated systems"
   ]
  },
  {
   "cell_type": "markdown",
   "metadata": {},
   "source": [
    "This Jupyter _Python 3_ notebook has been written to accompany the WSC18 paper:\n",
    "\n",
    "**PRACTICAL CONSIDERATIONS IN SELECTING THE BEST SET OF SIMULATED SYSTEMS**  _by Christine Currie and Tom Monks.\n",
    "\n",
    "The notebook provides a worked example of using BootComp to conduct a 2 stage screening and search of a simulation model.    It is a simple example that does not consider chance constraints.  Note that Bootcomp would typically be used in a multiple KPI situation.\n",
    "\n"
   ]
  },
  {
   "cell_type": "markdown",
   "metadata": {},
   "source": [
    "## 1. Preamble"
   ]
  },
  {
   "cell_type": "markdown",
   "metadata": {},
   "source": [
    "### 1.1. Detail of the simulation model"
   ]
  },
  {
   "cell_type": "markdown",
   "metadata": {},
   "source": [
    "The simulation model was used in a 2017 project in the UK to help a hospital, a community healthcare provider and a clinical commissioning group design and plan a new community rehabilitation ward.  In the UK, patients who require rehabilitation are often stuck in a queuing system where there must wait (inappropriately) in a acute hospital bed for a space in the rehabilitaiton ward.  The model investigated the sizing of the new ward in order to minimise patient waiting time whilst meeting probabilitic constraints regarding ward occupancy (bed utilization) and the number of transfers between single sex bays."
   ]
  },
  {
   "cell_type": "markdown",
   "metadata": {},
   "source": [
    "<img src=\"images/DToC.jpg\" alt=\"Delayed Transfers of Care Model\" title=\"Simulation Model and KPIs\" />"
   ]
  },
  {
   "cell_type": "markdown",
   "metadata": {},
   "source": [
    "### 1.2. Output data"
   ]
  },
  {
   "cell_type": "markdown",
   "metadata": {},
   "source": [
    "The output data for the example analysis are bundled with git repository.  There are three .csv files in the data/ directory for 'waiting times', 'utilization' and 'transfers'.  \n",
    "\n",
    "The model itself is not needed.  There are 50 replications of 1151 competing designs points.  Users can vary the number of replications used in the two stage procedure.  \n",
    "\n",
    "The experimental design is also included for reference."
   ]
  },
  {
   "cell_type": "markdown",
   "metadata": {},
   "source": [
    "## 2. Prerequisites"
   ]
  },
  {
   "cell_type": "markdown",
   "metadata": {},
   "source": [
    "### 2.1. BootComp Modules"
   ]
  },
  {
   "cell_type": "code",
   "execution_count": 1,
   "metadata": {
    "collapsed": false
   },
   "outputs": [],
   "source": [
    "import Bootstrap as bs\n",
    "import BootIO as io\n",
    "import ConvFuncs as cf"
   ]
  },
  {
   "cell_type": "code",
   "execution_count": 2,
   "metadata": {
    "collapsed": false
   },
   "outputs": [],
   "source": [
    "#WSC18 specific\n",
    "import Bootstrap_crn as crn\n",
    "from Bootstrap_crn import bootstrap_chance_constraint"
   ]
  },
  {
   "cell_type": "markdown",
   "metadata": {},
   "source": [
    "### 2.2. Python Data Science Modules"
   ]
  },
  {
   "cell_type": "code",
   "execution_count": 3,
   "metadata": {
    "collapsed": true
   },
   "outputs": [],
   "source": [
    "import pandas as pd\n",
    "import numpy as np\n",
    "import matplotlib.pyplot as plt\n",
    "import scipy as sp\n",
    "import scipy.stats\n",
    "%matplotlib inline\n",
    "import matplotlib as mp\n",
    "import seaborn as sns\n",
    "from numba import jit"
   ]
  },
  {
   "cell_type": "markdown",
   "metadata": {},
   "source": [
    "## 3. Procedure: Stage 1"
   ]
  },
  {
   "cell_type": "markdown",
   "metadata": {},
   "source": [
    "** Optimization Parameters **"
   ]
  },
  {
   "cell_type": "markdown",
   "metadata": {},
   "source": [
    "N_BOOTS = no. bootstraps to perform\n",
    "\n",
    "** Stage 1 **\n",
    "\n",
    "$n_1$ = no. stage 1 indeptendent replications for each systems / competing design\n",
    "\n",
    "$p_1$ = percentage of bootstrap samples that must meet chance constraint in stage 1\n",
    "\n",
    "$y_1$ proportion of bootstrap samples of primary KPI that must be within $x_1$ percent of the best system\n",
    "\n",
    "** Stage 2 **\n",
    "\n",
    "$n_2$ = no. stage 2 independent replications for each system / competigin design\n",
    "\n",
    "$p_1$ = percentage of bootstrap samples that must meet chance constraint in stage 2\n",
    "\n",
    "$y_1$ proportion of bootstrap samples of primary KPI that must be within $x_1$ percent of the best system in stage 2"
   ]
  },
  {
   "cell_type": "code",
   "execution_count": 4,
   "metadata": {
    "collapsed": false
   },
   "outputs": [
    {
     "name": "stdout",
     "output_type": "stream",
     "text": [
      "[ 0.3  0.2  0.1]\n",
      "[ 0.6   0.65  0.7   0.75  0.8   0.85  0.9   0.95]\n"
     ]
    }
   ],
   "source": [
    "N_BOOTS = 1000\n",
    "m = 3\n",
    "n_1 = 20\n",
    "n_2 = 480\n",
    "\n",
    "budget = 2000 # total number of replications\n",
    "\n",
    "gamma_1 = 0.95  # not relevant with no chance contraints\n",
    "x_1 = 0.5 \n",
    "y_1 = 0.8\n",
    "\n",
    "x1_limits = np.linspace(0.3,0.1,3)#.arange(0.05, 0.5, 0.05)\n",
    "\n",
    "\n",
    "gamma_2 = 0.95  # not relevant with no chance contraints\n",
    "x_2 = 0.3\n",
    "y_2 = 0.90\n",
    "\n",
    "y1_limits = np.linspace(0.6,0.95,8)#np.arange(0.8, 0.95, 0.05)\n",
    "\n",
    "print(x1_limits)\n",
    "print(y1_limits)\n"
   ]
  },
  {
   "cell_type": "code",
   "execution_count": null,
   "metadata": {
    "collapsed": false
   },
   "outputs": [],
   "source": []
  },
  {
   "cell_type": "code",
   "execution_count": 5,
   "metadata": {
    "collapsed": true
   },
   "outputs": [],
   "source": [
    "def simulate(file_name, reps):\n",
    "    return crn.load_systems(file_name, exclude_reps = 10000-reps)\n",
    "    "
   ]
  },
  {
   "cell_type": "code",
   "execution_count": 6,
   "metadata": {
    "collapsed": true
   },
   "outputs": [],
   "source": [
    "def simulate_experiment(model, reps, systems):\n",
    "    return model[:,:reps][systems]\n",
    "    "
   ]
  },
  {
   "cell_type": "markdown",
   "metadata": {},
   "source": [
    "### Step 1: Read in initial $ n_1 $  replications"
   ]
  },
  {
   "cell_type": "code",
   "execution_count": 7,
   "metadata": {
    "collapsed": true
   },
   "outputs": [],
   "source": [
    "model_file = \"data/EG1a.csv\""
   ]
  },
  {
   "cell_type": "code",
   "execution_count": 26,
   "metadata": {
    "collapsed": true
   },
   "outputs": [],
   "source": [
    "def indifferent(x, indifference):\n",
    "    \"\"\"\n",
    "    convert numbers to 0 or 1\n",
    "    1 = difference less than x\n",
    "    0 = difference greater than x\n",
    "    \"\"\"\n",
    "    if x > 0:\n",
    "        return 1\n",
    "    elif abs(x)<= indifference:\n",
    "        return 1\n",
    "    else:\n",
    "        return 0\n",
    "    \n",
    "\n",
    "def stage1_output(diffs, x_1, y_1, systems, best_system_index, nboots):\n",
    "    indifference = systems[best_system_index].mean() * x_1\n",
    "    df_indifference = diffs.applymap(lambda x: indifferent(x, indifference))\n",
    "    #print('x: {0}; y:{1}'.format(x_1, y_1))\n",
    "    \n",
    "    #if(x_1 == 0.1 and y_1 >= 0.94):\n",
    "    #    print(diffs)\n",
    "    #    print(df_indifference)\n",
    "    threshold = nboots * y_1\n",
    "    df_within_limit = df_indifference.sum(0)\n",
    "    df_within_limit= pd.DataFrame(df_within_limit, columns=['sum'])\n",
    "    return df_within_limit.loc[df_within_limit['sum'] >= threshold].index\n",
    "\n",
    "\n",
    "def bootcomp_run(systems, xlimits, ylimits, nboots, k, m, labels):\n",
    "    df_wait = pd.DataFrame(systems)\n",
    "    \n",
    "    args =  bs.BootstrapArguments()\n",
    "\n",
    "    args.nboots = nboots\n",
    "    args.nscenarios = k\n",
    "    args.point_estimate_func = bs.bootstrap_mean\n",
    "    \n",
    "    subset_waits = df_wait.mean()\n",
    "    subset_waits.rename('wait', inplace=True)\n",
    "    \n",
    "    subset_kpi = pd.concat([subset_waits], axis=1)\n",
    "    best_system_index = subset_kpi.sort_values(by=['wait'], ascending=False).index[0]\n",
    "    \n",
    "    feasible_systems = df_wait\n",
    "    \n",
    "    #edited here (added .mean())\n",
    "    diffs =  pd.DataFrame(feasible_systems.values.T - np.array(feasible_systems[best_system_index]).mean()).T\n",
    "    diffs[best_system_index] = 0\n",
    "    #print(diffs)                     \n",
    "    resample_diffs = bs.resample_all_scenarios(diffs.values.T.tolist(), args)\n",
    "    \n",
    "    df_boots_diffs= cf.resamples_to_df(resample_diffs, nboots)\n",
    "    df_boots_diffs.columns = labels\n",
    "\n",
    "    optim = []\n",
    "\n",
    "    for x in xlimits:\n",
    "        for y in ylimits:\n",
    "            optim.append([x, y, stage1_output(df_boots_diffs, x, y, feasible_systems, best_system_index, nboots).values])\n",
    "    \n",
    "    return pd.DataFrame(optim, columns = ['x1', 'y1', 's1 output'])"
   ]
  },
  {
   "cell_type": "code",
   "execution_count": 46,
   "metadata": {
    "collapsed": false
   },
   "outputs": [],
   "source": [
    "def test_bootcomp(budget, model, m, k, n = 20, nboots=1000):\n",
    "    #stage 1\n",
    "    \n",
    "    select_systems = [i for i in range(k)]\n",
    "    data = simulate_experiment(model = model, reps = n, systems = select_systems)\n",
    "    \n",
    "\n",
    "    results = bootcomp_run(data.T, x1_limits, y1_limits, nboots, k, m, select_systems)\n",
    "    #print(results)\n",
    "    take_forward = crn.auto_select_parameters(results)\n",
    "    print(take_forward)\n",
    "    #stage 2\n",
    "    #equal allocation of remaining budget\n",
    "    stage2_replicates = int((budget - (n * k))/len(take_forward)) + n\n",
    "    #print(stage2_replicates)\n",
    "    data = simulate_experiment(model = model, reps = n, systems = (take_forward - 1).tolist())\n",
    "    k = data.shape[0]\n",
    "    \n",
    "    results = bootcomp_run(data.T, x1_limits, y1_limits, N_BOOTS, k, m, take_forward.tolist())\n",
    "    print(results)\n",
    "    return auto_select_top_m(results, m)"
   ]
  },
  {
   "cell_type": "code",
   "execution_count": 10,
   "metadata": {
    "collapsed": false
   },
   "outputs": [],
   "source": [
    "@jit(nopython=True)\n",
    "def bootstrap(data, boots=1000):\n",
    "    \"\"\"\n",
    "       \n",
    "    Returns a numpy array containing the bootstrap resamples\n",
    "    Useful for creating a large number of experimental datasets for testing R&S routines\n",
    "    \n",
    "    @data = numpy.array of systems to boostrap\n",
    "    @boots = number of bootstrap (default = 1000)\n",
    "    \"\"\"\n",
    "\n",
    "    experiments = boots\n",
    "    designs = 10\n",
    "    samples = data.shape[1]\n",
    "\n",
    "    datasets = np.zeros((experiments, designs, samples))\n",
    "     \n",
    "    for exp in range(experiments):\n",
    "        \n",
    "        for design in range(designs):\n",
    "\n",
    "            for i in range(samples):\n",
    "\n",
    "                datasets[exp][design][i] = data[design][round(np.random.uniform(0, samples)-1)]\n",
    "      \n",
    "    return datasets"
   ]
  },
  {
   "cell_type": "code",
   "execution_count": 11,
   "metadata": {
    "collapsed": true
   },
   "outputs": [],
   "source": [
    "def cs(selected_top_m, true_top_m):\n",
    "    \"\"\"\n",
    "    Returns boolean value.  \n",
    "    True = correct selection of top m\n",
    "    False = incorrect selection (one or more of selected top m is incorrect)\n",
    "    \n",
    "    @selected_top_m - numpy.array containing the indexes of the top m means selected by the algorithm\n",
    "    @true_top_m - numpy.array containing the indexes of the true top m means\n",
    "    \n",
    "    \"\"\"\n",
    "    return np.array_equal(np.sort(selected_top_m), true_top_m)"
   ]
  },
  {
   "cell_type": "markdown",
   "metadata": {},
   "source": [
    "# Create Experimental Data"
   ]
  },
  {
   "cell_type": "code",
   "execution_count": 31,
   "metadata": {
    "collapsed": false
   },
   "outputs": [],
   "source": [
    "data = np.genfromtxt(model_file, delimiter=\",\", skip_footer=0).transpose()\n",
    "experiments = bootstrap(data, boots = 10)\n",
    "true_top_m = [7, 8, 9]\n",
    "T = 3000\n",
    "budgets = [i for i in range(1000, T + 200, 200)]"
   ]
  },
  {
   "cell_type": "code",
   "execution_count": 13,
   "metadata": {
    "collapsed": true
   },
   "outputs": [],
   "source": [
    "def auto_select_top_m(results_stage2, m):\n",
    "    df = results_stage2\n",
    "    df['length'] = df['s1 output'].str.len()\n",
    "    df_m = df.loc[df['length'] == m]\n",
    "    \n",
    "    if(df_m.shape[0] == 0):\n",
    "        df_m = df.loc[df['length'] > m]\n",
    "\n",
    "    return df_m[-1:]['s1 output'].values[0][-m:]\n"
   ]
  },
  {
   "cell_type": "code",
   "execution_count": 17,
   "metadata": {
    "collapsed": false,
    "scrolled": true
   },
   "outputs": [],
   "source": [
    "pd.DataFrame(experiments[1]).T[:20].to_clipboard(excel=True)"
   ]
  },
  {
   "cell_type": "code",
   "execution_count": 47,
   "metadata": {
    "collapsed": false,
    "scrolled": true
   },
   "outputs": [
    {
     "name": "stdout",
     "output_type": "stream",
     "text": [
      "[5 7 8 9]\n",
      "     x1    y1 s1 output\n",
      "0   0.3  0.60    [8, 9]\n",
      "1   0.3  0.65    [8, 9]\n",
      "2   0.3  0.70    [8, 9]\n",
      "3   0.3  0.75    [8, 9]\n",
      "4   0.3  0.80    [8, 9]\n",
      "5   0.3  0.85    [8, 9]\n",
      "6   0.3  0.90    [8, 9]\n",
      "7   0.3  0.95    [8, 9]\n",
      "8   0.2  0.60    [8, 9]\n",
      "9   0.2  0.65    [8, 9]\n",
      "10  0.2  0.70    [8, 9]\n",
      "11  0.2  0.75       [9]\n",
      "12  0.2  0.80       [9]\n",
      "13  0.2  0.85       [9]\n",
      "14  0.2  0.90       [9]\n",
      "15  0.2  0.95       [9]\n",
      "16  0.1  0.60       [9]\n",
      "17  0.1  0.65       [9]\n",
      "18  0.1  0.70       [9]\n",
      "19  0.1  0.75       [9]\n",
      "20  0.1  0.80       [9]\n",
      "21  0.1  0.85       [9]\n",
      "22  0.1  0.90       [9]\n",
      "23  0.1  0.95       [9]\n"
     ]
    },
    {
     "ename": "IndexError",
     "evalue": "index 0 is out of bounds for axis 0 with size 0",
     "output_type": "error",
     "traceback": [
      "\u001b[0;31m---------------------------------------------------------------------------\u001b[0m",
      "\u001b[0;31mIndexError\u001b[0m                                Traceback (most recent call last)",
      "\u001b[0;32m<ipython-input-47-7cb16ef1a6d6>\u001b[0m in \u001b[0;36m<module>\u001b[0;34m()\u001b[0m\n\u001b[0;32m----> 1\u001b[0;31m \u001b[0mx\u001b[0m \u001b[1;33m=\u001b[0m \u001b[0mtest_bootcomp\u001b[0m\u001b[1;33m(\u001b[0m\u001b[0mbudget\u001b[0m\u001b[1;33m=\u001b[0m\u001b[1;36m5000\u001b[0m\u001b[1;33m,\u001b[0m \u001b[0mmodel\u001b[0m\u001b[1;33m=\u001b[0m\u001b[0mexperiments\u001b[0m\u001b[1;33m[\u001b[0m\u001b[1;36m4\u001b[0m\u001b[1;33m]\u001b[0m\u001b[1;33m,\u001b[0m \u001b[0mn\u001b[0m \u001b[1;33m=\u001b[0m \u001b[1;36m100\u001b[0m\u001b[1;33m,\u001b[0m \u001b[0mm\u001b[0m\u001b[1;33m=\u001b[0m\u001b[1;36m3\u001b[0m\u001b[1;33m,\u001b[0m \u001b[0mk\u001b[0m\u001b[1;33m=\u001b[0m\u001b[1;36m10\u001b[0m\u001b[1;33m,\u001b[0m \u001b[0mnboots\u001b[0m \u001b[1;33m=\u001b[0m \u001b[1;36m1000\u001b[0m\u001b[1;33m)\u001b[0m\u001b[1;33m\u001b[0m\u001b[0m\n\u001b[0m\u001b[1;32m      2\u001b[0m \u001b[0mprint\u001b[0m\u001b[1;33m(\u001b[0m\u001b[0mx\u001b[0m\u001b[1;33m)\u001b[0m\u001b[1;33m\u001b[0m\u001b[0m\n",
      "\u001b[0;32m<ipython-input-46-a1263730795f>\u001b[0m in \u001b[0;36mtest_bootcomp\u001b[0;34m(budget, model, m, k, n, nboots)\u001b[0m\n\u001b[1;32m     19\u001b[0m     \u001b[0mresults\u001b[0m \u001b[1;33m=\u001b[0m \u001b[0mbootcomp_run\u001b[0m\u001b[1;33m(\u001b[0m\u001b[0mdata\u001b[0m\u001b[1;33m.\u001b[0m\u001b[0mT\u001b[0m\u001b[1;33m,\u001b[0m \u001b[0mx1_limits\u001b[0m\u001b[1;33m,\u001b[0m \u001b[0my1_limits\u001b[0m\u001b[1;33m,\u001b[0m \u001b[0mN_BOOTS\u001b[0m\u001b[1;33m,\u001b[0m \u001b[0mk\u001b[0m\u001b[1;33m,\u001b[0m \u001b[0mm\u001b[0m\u001b[1;33m,\u001b[0m \u001b[0mtake_forward\u001b[0m\u001b[1;33m.\u001b[0m\u001b[0mtolist\u001b[0m\u001b[1;33m(\u001b[0m\u001b[1;33m)\u001b[0m\u001b[1;33m)\u001b[0m\u001b[1;33m\u001b[0m\u001b[0m\n\u001b[1;32m     20\u001b[0m     \u001b[0mprint\u001b[0m\u001b[1;33m(\u001b[0m\u001b[0mresults\u001b[0m\u001b[1;33m)\u001b[0m\u001b[1;33m\u001b[0m\u001b[0m\n\u001b[0;32m---> 21\u001b[0;31m     \u001b[1;32mreturn\u001b[0m \u001b[0mauto_select_top_m\u001b[0m\u001b[1;33m(\u001b[0m\u001b[0mresults\u001b[0m\u001b[1;33m,\u001b[0m \u001b[0mm\u001b[0m\u001b[1;33m)\u001b[0m\u001b[1;33m\u001b[0m\u001b[0m\n\u001b[0m",
      "\u001b[0;32m<ipython-input-13-e93db0716c40>\u001b[0m in \u001b[0;36mauto_select_top_m\u001b[0;34m(results_stage2, m)\u001b[0m\n\u001b[1;32m      7\u001b[0m         \u001b[0mdf_m\u001b[0m \u001b[1;33m=\u001b[0m \u001b[0mdf\u001b[0m\u001b[1;33m.\u001b[0m\u001b[0mloc\u001b[0m\u001b[1;33m[\u001b[0m\u001b[0mdf\u001b[0m\u001b[1;33m[\u001b[0m\u001b[1;34m'length'\u001b[0m\u001b[1;33m]\u001b[0m \u001b[1;33m>\u001b[0m \u001b[0mm\u001b[0m\u001b[1;33m]\u001b[0m\u001b[1;33m\u001b[0m\u001b[0m\n\u001b[1;32m      8\u001b[0m \u001b[1;33m\u001b[0m\u001b[0m\n\u001b[0;32m----> 9\u001b[0;31m     \u001b[1;32mreturn\u001b[0m \u001b[0mdf_m\u001b[0m\u001b[1;33m[\u001b[0m\u001b[1;33m-\u001b[0m\u001b[1;36m1\u001b[0m\u001b[1;33m:\u001b[0m\u001b[1;33m]\u001b[0m\u001b[1;33m[\u001b[0m\u001b[1;34m's1 output'\u001b[0m\u001b[1;33m]\u001b[0m\u001b[1;33m.\u001b[0m\u001b[0mvalues\u001b[0m\u001b[1;33m[\u001b[0m\u001b[1;36m0\u001b[0m\u001b[1;33m]\u001b[0m\u001b[1;33m[\u001b[0m\u001b[1;33m-\u001b[0m\u001b[0mm\u001b[0m\u001b[1;33m:\u001b[0m\u001b[1;33m]\u001b[0m\u001b[1;33m\u001b[0m\u001b[0m\n\u001b[0m",
      "\u001b[0;31mIndexError\u001b[0m: index 0 is out of bounds for axis 0 with size 0"
     ]
    }
   ],
   "source": [
    "x = test_bootcomp(budget=5000, model=experiments[4], n = 100, m=3, k=10, nboots = 1000)\n",
    "print(x)"
   ]
  },
  {
   "cell_type": "code",
   "execution_count": 29,
   "metadata": {
    "collapsed": true
   },
   "outputs": [],
   "source": [
    "def numerical_experiment(experiments, budgets, m, n_0):\n",
    "    \"\"\"\n",
    "    Conduct a user set number of numerical experiments on the algorithm\n",
    "    for different computational budgets\n",
    "    \n",
    "    Returns:\n",
    "    1. numpy.array containing P{cs} for each budget\n",
    "        \n",
    "    @experiments numpy.array[experiments][designs][replication]\n",
    "    @budgets python.list containing budgets\n",
    "    @model_file string path to model \n",
    "    \n",
    "    \"\"\"\n",
    "    \n",
    "    n_experiments = experiments.shape[0]\n",
    "    k = experiments.shape[1]\n",
    "    \n",
    "    correct_selections = np.zeros((n_experiments, len(budgets)))\n",
    "   \n",
    "    for exp in range(n_experiments):\n",
    "\n",
    "        for t in range(len(budgets)):\n",
    "            #print(experiments[exp].shape)\n",
    "            #try:\n",
    "            selected_top_m = test_bootcomp(budget=budgets[t], model=experiments[exp],m=m, k=k, n=n_0).tolist()\n",
    "            #selected_top_m = selected_top_m[0]\n",
    "            print(selected_top_m)\n",
    "            correct_selections[exp][t] = cs(selected_top_m, true_top_m)\n",
    "            #except:\n",
    "            #    correct_selections[exp][t] = 0\n",
    "            \n",
    "            \n",
    "\n",
    "    return correct_selections\n",
    "    "
   ]
  },
  {
   "cell_type": "markdown",
   "metadata": {},
   "source": [
    "note: could do proportional allocation for stage 1 and 2.\n",
    "e.g. budget = 1000 with "
   ]
  },
  {
   "cell_type": "code",
   "execution_count": null,
   "metadata": {
    "collapsed": true
   },
   "outputs": [],
   "source": []
  },
  {
   "cell_type": "code",
   "execution_count": 34,
   "metadata": {
    "collapsed": false,
    "scrolled": true
   },
   "outputs": [
    {
     "name": "stdout",
     "output_type": "stream",
     "text": [
      "[7, 8, 9]\n",
      "[7, 8, 9]\n",
      "[7, 8, 9]\n",
      "[7, 8, 9]\n",
      "[7, 8, 9]\n",
      "[7, 8, 9]\n",
      "[7, 8, 9]\n",
      "[7, 8, 9]\n",
      "[7, 8, 9]\n",
      "[7, 8, 9]\n",
      "[7, 8, 9]\n",
      "[7, 8, 9]\n",
      "[7, 8, 9]\n",
      "[7, 8, 9]\n",
      "[7, 8, 9]\n",
      "[7, 8, 9]\n",
      "[7, 8, 9]\n",
      "[7, 8, 9]\n",
      "[7, 8, 9]\n",
      "[7, 8, 9]\n",
      "[7, 8, 9]\n",
      "[7, 8, 9]\n",
      "[7, 8, 9]\n",
      "[7, 8, 9]\n",
      "[7, 8, 9]\n",
      "[7, 8, 9]\n",
      "[7, 8, 9]\n",
      "[7, 8, 9]\n",
      "[7, 8, 9]\n",
      "[7, 8, 9]\n",
      "[7, 8, 9]\n",
      "[7, 8, 9]\n",
      "[7, 8, 9]\n",
      "[7, 8, 9]\n",
      "[7, 8, 9]\n"
     ]
    },
    {
     "ename": "IndexError",
     "evalue": "index 0 is out of bounds for axis 0 with size 0",
     "output_type": "error",
     "traceback": [
      "\u001b[0;31m---------------------------------------------------------------------------\u001b[0m",
      "\u001b[0;31mIndexError\u001b[0m                                Traceback (most recent call last)",
      "\u001b[0;32m<ipython-input-34-e7c39a6b17d9>\u001b[0m in \u001b[0;36m<module>\u001b[0;34m()\u001b[0m\n\u001b[0;32m----> 1\u001b[0;31m \u001b[0mcss\u001b[0m \u001b[1;33m=\u001b[0m \u001b[0mnumerical_experiment\u001b[0m\u001b[1;33m(\u001b[0m\u001b[0mexperiments\u001b[0m\u001b[1;33m,\u001b[0m \u001b[0mbudgets\u001b[0m\u001b[1;33m,\u001b[0m \u001b[1;36m3\u001b[0m\u001b[1;33m,\u001b[0m \u001b[1;36m50\u001b[0m\u001b[1;33m)\u001b[0m\u001b[1;33m\u001b[0m\u001b[0m\n\u001b[0m",
      "\u001b[0;32m<ipython-input-29-e497312889e5>\u001b[0m in \u001b[0;36mnumerical_experiment\u001b[0;34m(experiments, budgets, m, n_0)\u001b[0m\n\u001b[1;32m     23\u001b[0m             \u001b[1;31m#print(experiments[exp].shape)\u001b[0m\u001b[1;33m\u001b[0m\u001b[1;33m\u001b[0m\u001b[0m\n\u001b[1;32m     24\u001b[0m             \u001b[1;31m#try:\u001b[0m\u001b[1;33m\u001b[0m\u001b[1;33m\u001b[0m\u001b[0m\n\u001b[0;32m---> 25\u001b[0;31m             \u001b[0mselected_top_m\u001b[0m \u001b[1;33m=\u001b[0m \u001b[0mtest_bootcomp\u001b[0m\u001b[1;33m(\u001b[0m\u001b[0mbudget\u001b[0m\u001b[1;33m=\u001b[0m\u001b[0mbudgets\u001b[0m\u001b[1;33m[\u001b[0m\u001b[0mt\u001b[0m\u001b[1;33m]\u001b[0m\u001b[1;33m,\u001b[0m \u001b[0mmodel\u001b[0m\u001b[1;33m=\u001b[0m\u001b[0mexperiments\u001b[0m\u001b[1;33m[\u001b[0m\u001b[0mexp\u001b[0m\u001b[1;33m]\u001b[0m\u001b[1;33m,\u001b[0m\u001b[0mm\u001b[0m\u001b[1;33m=\u001b[0m\u001b[0mm\u001b[0m\u001b[1;33m,\u001b[0m \u001b[0mk\u001b[0m\u001b[1;33m=\u001b[0m\u001b[0mk\u001b[0m\u001b[1;33m,\u001b[0m \u001b[0mn\u001b[0m\u001b[1;33m=\u001b[0m\u001b[0mn_0\u001b[0m\u001b[1;33m)\u001b[0m\u001b[1;33m.\u001b[0m\u001b[0mtolist\u001b[0m\u001b[1;33m(\u001b[0m\u001b[1;33m)\u001b[0m\u001b[1;33m\u001b[0m\u001b[0m\n\u001b[0m\u001b[1;32m     26\u001b[0m             \u001b[1;31m#selected_top_m = selected_top_m[0]\u001b[0m\u001b[1;33m\u001b[0m\u001b[1;33m\u001b[0m\u001b[0m\n\u001b[1;32m     27\u001b[0m             \u001b[0mprint\u001b[0m\u001b[1;33m(\u001b[0m\u001b[0mselected_top_m\u001b[0m\u001b[1;33m)\u001b[0m\u001b[1;33m\u001b[0m\u001b[0m\n",
      "\u001b[0;32m<ipython-input-25-6af7980725f1>\u001b[0m in \u001b[0;36mtest_bootcomp\u001b[0;34m(budget, model, m, k, n, nboots)\u001b[0m\n\u001b[1;32m     19\u001b[0m     \u001b[0mresults\u001b[0m \u001b[1;33m=\u001b[0m \u001b[0mbootcomp_run\u001b[0m\u001b[1;33m(\u001b[0m\u001b[0mdata\u001b[0m\u001b[1;33m.\u001b[0m\u001b[0mT\u001b[0m\u001b[1;33m,\u001b[0m \u001b[0mx1_limits\u001b[0m\u001b[1;33m,\u001b[0m \u001b[0my1_limits\u001b[0m\u001b[1;33m,\u001b[0m \u001b[0mN_BOOTS\u001b[0m\u001b[1;33m,\u001b[0m \u001b[0mk\u001b[0m\u001b[1;33m,\u001b[0m \u001b[0mm\u001b[0m\u001b[1;33m,\u001b[0m \u001b[0mtake_forward\u001b[0m\u001b[1;33m.\u001b[0m\u001b[0mtolist\u001b[0m\u001b[1;33m(\u001b[0m\u001b[1;33m)\u001b[0m\u001b[1;33m)\u001b[0m\u001b[1;33m\u001b[0m\u001b[0m\n\u001b[1;32m     20\u001b[0m     \u001b[1;31m#print(results)\u001b[0m\u001b[1;33m\u001b[0m\u001b[1;33m\u001b[0m\u001b[0m\n\u001b[0;32m---> 21\u001b[0;31m     \u001b[1;32mreturn\u001b[0m \u001b[0mauto_select_top_m\u001b[0m\u001b[1;33m(\u001b[0m\u001b[0mresults\u001b[0m\u001b[1;33m,\u001b[0m \u001b[0mm\u001b[0m\u001b[1;33m)\u001b[0m\u001b[1;33m\u001b[0m\u001b[0m\n\u001b[0m",
      "\u001b[0;32m<ipython-input-13-e93db0716c40>\u001b[0m in \u001b[0;36mauto_select_top_m\u001b[0;34m(results_stage2, m)\u001b[0m\n\u001b[1;32m      7\u001b[0m         \u001b[0mdf_m\u001b[0m \u001b[1;33m=\u001b[0m \u001b[0mdf\u001b[0m\u001b[1;33m.\u001b[0m\u001b[0mloc\u001b[0m\u001b[1;33m[\u001b[0m\u001b[0mdf\u001b[0m\u001b[1;33m[\u001b[0m\u001b[1;34m'length'\u001b[0m\u001b[1;33m]\u001b[0m \u001b[1;33m>\u001b[0m \u001b[0mm\u001b[0m\u001b[1;33m]\u001b[0m\u001b[1;33m\u001b[0m\u001b[0m\n\u001b[1;32m      8\u001b[0m \u001b[1;33m\u001b[0m\u001b[0m\n\u001b[0;32m----> 9\u001b[0;31m     \u001b[1;32mreturn\u001b[0m \u001b[0mdf_m\u001b[0m\u001b[1;33m[\u001b[0m\u001b[1;33m-\u001b[0m\u001b[1;36m1\u001b[0m\u001b[1;33m:\u001b[0m\u001b[1;33m]\u001b[0m\u001b[1;33m[\u001b[0m\u001b[1;34m's1 output'\u001b[0m\u001b[1;33m]\u001b[0m\u001b[1;33m.\u001b[0m\u001b[0mvalues\u001b[0m\u001b[1;33m[\u001b[0m\u001b[1;36m0\u001b[0m\u001b[1;33m]\u001b[0m\u001b[1;33m[\u001b[0m\u001b[1;33m-\u001b[0m\u001b[0mm\u001b[0m\u001b[1;33m:\u001b[0m\u001b[1;33m]\u001b[0m\u001b[1;33m\u001b[0m\u001b[0m\n\u001b[0m",
      "\u001b[0;31mIndexError\u001b[0m: index 0 is out of bounds for axis 0 with size 0"
     ]
    }
   ],
   "source": [
    "css = numerical_experiment(experiments, budgets, 3, 50)"
   ]
  },
  {
   "cell_type": "code",
   "execution_count": null,
   "metadata": {
    "collapsed": false
   },
   "outputs": [],
   "source": [
    "pd.DataFrame(css)"
   ]
  },
  {
   "cell_type": "code",
   "execution_count": null,
   "metadata": {
    "collapsed": false
   },
   "outputs": [],
   "source": [
    "fig = plt.figure(figsize=(10,6))\n",
    "ax = pd.DataFrame(css, columns=budgets).mean(axis=0).plot(style='.-', ms=15)\n",
    "ax.set_ylabel(\"P{CS}\")\n",
    "ax.set_xlabel(\"Budget (max no. replications)\")\n",
    "ax.set_xticks(ticks = [i for i in range(200, 8000, 200)])\n",
    "\n",
    "ax.plot()"
   ]
  },
  {
   "cell_type": "markdown",
   "metadata": {},
   "source": [
    "### Step 2: Limit to systems that satisfy chance constraints - IGNORE"
   ]
  },
  {
   "cell_type": "markdown",
   "metadata": {},
   "source": [
    "Bootstrap function arguments"
   ]
  },
  {
   "cell_type": "code",
   "execution_count": null,
   "metadata": {
    "collapsed": true
   },
   "outputs": [],
   "source": [
    "args =  bs.BootstrapArguments()\n",
    "\n",
    "args.nboots = N_BOOTS\n",
    "args.nscenarios = N_SCENARIOS\n",
    "args.point_estimate_func = bs.bootstrap_mean"
   ]
  },
  {
   "cell_type": "markdown",
   "metadata": {},
   "source": [
    "#### No Chance constraints"
   ]
  },
  {
   "cell_type": "code",
   "execution_count": null,
   "metadata": {
    "collapsed": false,
    "scrolled": true
   },
   "outputs": [],
   "source": [
    "subset_waits = df_wait.mean()\n",
    "subset_waits.rename('wait', inplace=True)"
   ]
  },
  {
   "cell_type": "markdown",
   "metadata": {},
   "source": [
    "List and rank the systems along with their peformance measures"
   ]
  },
  {
   "cell_type": "code",
   "execution_count": null,
   "metadata": {
    "collapsed": true
   },
   "outputs": [],
   "source": [
    "subset_kpi = pd.concat([subset_waits], axis=1)"
   ]
  },
  {
   "cell_type": "code",
   "execution_count": null,
   "metadata": {
    "collapsed": true
   },
   "outputs": [],
   "source": [
    "best_system_index = subset_kpi.sort_values(by=['wait'], ascending=False).index[0]"
   ]
  },
  {
   "cell_type": "code",
   "execution_count": null,
   "metadata": {
    "collapsed": false
   },
   "outputs": [],
   "source": [
    "best_system_index"
   ]
  },
  {
   "cell_type": "markdown",
   "metadata": {},
   "source": [
    "### Step 3: setup differences"
   ]
  },
  {
   "cell_type": "code",
   "execution_count": null,
   "metadata": {
    "collapsed": true
   },
   "outputs": [],
   "source": [
    "feasible_systems = df_wait"
   ]
  },
  {
   "cell_type": "code",
   "execution_count": null,
   "metadata": {
    "collapsed": false
   },
   "outputs": [],
   "source": [
    "diffs =  pd.DataFrame(feasible_systems.values.T - np.array(feasible_systems[best_system_index])).T\n",
    "diffs"
   ]
  },
  {
   "cell_type": "markdown",
   "metadata": {},
   "source": [
    "### Step 4: Quality Bootstrap i.e. Simple bootstrap of differences"
   ]
  },
  {
   "cell_type": "code",
   "execution_count": null,
   "metadata": {
    "collapsed": false
   },
   "outputs": [],
   "source": [
    "resample_diffs = bs.resample_all_scenarios(diffs.values.T.tolist(), args)"
   ]
  },
  {
   "cell_type": "code",
   "execution_count": null,
   "metadata": {
    "collapsed": false
   },
   "outputs": [],
   "source": [
    "df_boots_diffs= cf.resamples_to_df(resample_diffs, N_BOOTS)\n",
    "df_boots_diffs.shape"
   ]
  },
  {
   "cell_type": "code",
   "execution_count": null,
   "metadata": {
    "collapsed": false
   },
   "outputs": [],
   "source": [
    "df_boots_diffs.head()"
   ]
  },
  {
   "cell_type": "markdown",
   "metadata": {},
   "source": [
    "### Step 6: Rank systems  "
   ]
  },
  {
   "cell_type": "code",
   "execution_count": null,
   "metadata": {
    "collapsed": false
   },
   "outputs": [],
   "source": [
    "\n",
    "indifference = feasible_systems[best_system_index].mean() * x_1\n",
    "indifference"
   ]
  },
  {
   "cell_type": "code",
   "execution_count": null,
   "metadata": {
    "collapsed": true
   },
   "outputs": [],
   "source": [
    "\n",
    "\n",
    "def indifferent(x, indifference):\n",
    "    \"\"\"\n",
    "    convert numbers to 0 or 1\n",
    "    1 = difference less than x\n",
    "    0 = difference greater than x\n",
    "    \"\"\"\n",
    "    if abs(x) <= indifference:\n",
    "        return 1\n",
    "    else:\n",
    "        return 0"
   ]
  },
  {
   "cell_type": "code",
   "execution_count": null,
   "metadata": {
    "collapsed": false
   },
   "outputs": [],
   "source": [
    "df_indifference = df_boots_diffs.applymap(lambda x: indifferent(x, indifference))\n",
    "df_indifference.mean()"
   ]
  },
  {
   "cell_type": "markdown",
   "metadata": {},
   "source": [
    "### Step 7: Define set $J$ where y% of bootstraps are within x% of the best mean"
   ]
  },
  {
   "cell_type": "code",
   "execution_count": null,
   "metadata": {
    "collapsed": true
   },
   "outputs": [],
   "source": [
    "\n",
    "threshold = N_BOOTS * y_1\n",
    "df_within_limit = df_indifference.sum(0)\n",
    "df_within_limit= pd.DataFrame(df_within_limit, columns=['sum'])\n",
    "take_forward = df_within_limit.loc[df_within_limit['sum'] >= threshold].index"
   ]
  },
  {
   "cell_type": "code",
   "execution_count": null,
   "metadata": {
    "collapsed": false
   },
   "outputs": [],
   "source": [
    "take_forward"
   ]
  },
  {
   "cell_type": "code",
   "execution_count": null,
   "metadata": {
    "collapsed": true
   },
   "outputs": [],
   "source": [
    "def stage1_output(x_1, y_1, systems, best_system_index):\n",
    "    indifference = systems[best_system_index].mean() * x_1\n",
    "    df_indifference = df_boots_diffs.applymap(lambda x: indifferent(x, indifference))\n",
    "    threshold = N_BOOTS * y_1\n",
    "    df_within_limit = df_indifference.sum(0)\n",
    "    df_within_limit= pd.DataFrame(df_within_limit, columns=['sum'])\n",
    "    return df_within_limit.loc[df_within_limit['sum'] >= threshold].index"
   ]
  },
  {
   "cell_type": "code",
   "execution_count": null,
   "metadata": {
    "collapsed": false
   },
   "outputs": [],
   "source": [
    "optim = []\n",
    "\n",
    "for x in x1_limits:\n",
    "    for y in y1_limits:\n",
    "        optim.append([x, y, stage1_output(x, y, feasible_systems, best_system_index).values])\n",
    "\n",
    "df = pd.DataFrame(optim, columns = ['x1', 'y1', 's1 output'])\n",
    "df['length'] = df['s1 output'].str.len()\n",
    "df.loc[df['length'] == df['length'].max()][:1]['s1 output'].values.tolist()"
   ]
  },
  {
   "cell_type": "code",
   "execution_count": null,
   "metadata": {
    "collapsed": false
   },
   "outputs": [],
   "source": [
    "take_forward = stage1_output(0.5, 0.8, feasible_systems, best_system_index).values"
   ]
  },
  {
   "cell_type": "code",
   "execution_count": null,
   "metadata": {
    "collapsed": false
   },
   "outputs": [],
   "source": [
    "take_forward"
   ]
  },
  {
   "cell_type": "code",
   "execution_count": null,
   "metadata": {
    "collapsed": true
   },
   "outputs": [],
   "source": [
    "no_stage1 = take_forward.shape[0]"
   ]
  },
  {
   "cell_type": "markdown",
   "metadata": {},
   "source": [
    "## 4. Procedure - Stage 2"
   ]
  },
  {
   "cell_type": "markdown",
   "metadata": {},
   "source": [
    "### Step 8: More replicates of promicing solutions using Common Random Numbers"
   ]
  },
  {
   "cell_type": "code",
   "execution_count": null,
   "metadata": {
    "collapsed": false
   },
   "outputs": [],
   "source": [
    "stage2_replicates = int((budget - (n_1 * N_SCENARIOS)) / len(take_forward)) + n_1\n"
   ]
  },
  {
   "cell_type": "code",
   "execution_count": null,
   "metadata": {
    "collapsed": false
   },
   "outputs": [],
   "source": [
    "df_wait_s2 = pd.DataFrame(crn.load_systems(INPUT_DATA1, exclude_reps = 10000-(stage2_replicates)))[np.array(take_forward)-1]\n",
    "\n",
    "N_SCENARIOS = len(take_forward)\n",
    "N_REPS = df_wait_s2.shape[0]\n",
    "\n",
    "print(\"Loaded waiting time data. {0} systems; {1} independent replications\".format(df_wait_s2.shape[1], df_wait_s2.shape[0]))\n"
   ]
  },
  {
   "cell_type": "code",
   "execution_count": null,
   "metadata": {
    "collapsed": true
   },
   "outputs": [],
   "source": []
  },
  {
   "cell_type": "markdown",
   "metadata": {},
   "source": [
    "### Step 9: Repeat steps 2 - 6 from stage 1"
   ]
  },
  {
   "cell_type": "markdown",
   "metadata": {},
   "source": [
    "#### Step 2 - Chance contraints . Step not applicable."
   ]
  },
  {
   "cell_type": "code",
   "execution_count": null,
   "metadata": {
    "collapsed": true
   },
   "outputs": [],
   "source": [
    "def get_subset_kpi(subset):\n",
    "    subset_waits = df_wait_s2[subset].mean()\n",
    "    subset_waits.rename('wait', inplace=True)    \n",
    "    subset_kpi = pd.concat([subset_waits, subset_utils, subset_tran], axis=1)\n",
    "    subset_kpi.index.rename('System', inplace=True)\n",
    "    \n",
    "    return subset_kpi"
   ]
  },
  {
   "cell_type": "code",
   "execution_count": null,
   "metadata": {
    "collapsed": false
   },
   "outputs": [],
   "source": [
    "\n",
    "subset_waits = df_wait_s2.mean()\n"
   ]
  },
  {
   "cell_type": "code",
   "execution_count": null,
   "metadata": {
    "collapsed": true
   },
   "outputs": [],
   "source": [
    "subset_kpi = pd.concat([subset_waits], axis=1)\n",
    "subset_kpi.index.rename('System', inplace=True)"
   ]
  },
  {
   "cell_type": "markdown",
   "metadata": {},
   "source": [
    "### Step [?]  Setup differences from best (stage 2)"
   ]
  },
  {
   "cell_type": "code",
   "execution_count": null,
   "metadata": {
    "collapsed": false
   },
   "outputs": [],
   "source": [
    "feasible_systems = df_wait_s2\n",
    "diffs =  pd.DataFrame(feasible_systems.values.T - np.array(feasible_systems[best_system_index])).T\n",
    "diffs.columns = take_forward"
   ]
  },
  {
   "cell_type": "markdown",
   "metadata": {},
   "source": [
    "### Bootstrap differences"
   ]
  },
  {
   "cell_type": "code",
   "execution_count": null,
   "metadata": {
    "collapsed": true
   },
   "outputs": [],
   "source": [
    "resample_diffs = bs.resample_all_scenarios(diffs.values.T.tolist(), args)\n"
   ]
  },
  {
   "cell_type": "code",
   "execution_count": null,
   "metadata": {
    "collapsed": false
   },
   "outputs": [],
   "source": [
    "df_boots_diffs= cf.resamples_to_df(resample_diffs, args.nboots)\n",
    "df_boots_diffs.columns = take_forward\n",
    "df_boots_diffs.shape"
   ]
  },
  {
   "cell_type": "code",
   "execution_count": null,
   "metadata": {
    "collapsed": false
   },
   "outputs": [],
   "source": [
    "indifference = feasible_systems[best_system_index].mean() * x_2\n",
    "indifference"
   ]
  },
  {
   "cell_type": "code",
   "execution_count": null,
   "metadata": {
    "collapsed": false
   },
   "outputs": [],
   "source": [
    "df_indifference = df_boots_diffs.applymap(lambda x: indifferent(x, indifference))\n",
    "df_indifference.mean()"
   ]
  },
  {
   "cell_type": "code",
   "execution_count": null,
   "metadata": {
    "collapsed": true
   },
   "outputs": [],
   "source": [
    "threshold = args.nboots * y_2\n",
    "df_within_limit = df_indifference.sum(0)\n",
    "df_within_limit= pd.DataFrame(df_within_limit, columns=['sum'])\n",
    "final_set = df_within_limit.loc[df_within_limit['sum'] >= threshold].index"
   ]
  },
  {
   "cell_type": "code",
   "execution_count": null,
   "metadata": {
    "collapsed": false
   },
   "outputs": [],
   "source": [
    "final_set"
   ]
  },
  {
   "cell_type": "markdown",
   "metadata": {},
   "source": [
    "Final set of feasible systems selected from the competing designs"
   ]
  },
  {
   "cell_type": "code",
   "execution_count": null,
   "metadata": {
    "collapsed": false
   },
   "outputs": [],
   "source": [
    "subset_kpi = get_subset_kpi(final_set)\n",
    "subset_kpi"
   ]
  },
  {
   "cell_type": "code",
   "execution_count": null,
   "metadata": {
    "collapsed": false
   },
   "outputs": [],
   "source": [
    "temp = df_doe[df_doe.index.isin(final_set)]\n",
    "#subset_kpi = subset_kpi.applymap(lambda x: '%.4f' % x)\n",
    "df_final = pd.concat([temp, subset_kpi], axis=1)\n",
    "df_final.sort_values(by=['tran', 'util', 'wait'])\n"
   ]
  },
  {
   "cell_type": "code",
   "execution_count": null,
   "metadata": {
    "collapsed": false
   },
   "outputs": [],
   "source": [
    "print('No. in final set {0}'.format(df_final.shape[0]))"
   ]
  },
  {
   "cell_type": "code",
   "execution_count": null,
   "metadata": {
    "collapsed": false
   },
   "outputs": [],
   "source": [
    "print('No. taken forward from stage 1: {0}'.format(no_stage1))"
   ]
  },
  {
   "cell_type": "code",
   "execution_count": null,
   "metadata": {
    "collapsed": true
   },
   "outputs": [],
   "source": [
    "df_final.to_clipboard(excel=True)"
   ]
  },
  {
   "cell_type": "markdown",
   "metadata": {},
   "source": [
    "## Charts for paper"
   ]
  },
  {
   "cell_type": "code",
   "execution_count": null,
   "metadata": {
    "collapsed": true
   },
   "outputs": [],
   "source": [
    "df_doe = pd.read_csv(DESIGN, index_col='System')\n",
    "df_doe.index -= 1"
   ]
  },
  {
   "cell_type": "markdown",
   "metadata": {},
   "source": [
    "Utilisation"
   ]
  },
  {
   "cell_type": "code",
   "execution_count": null,
   "metadata": {
    "collapsed": false
   },
   "outputs": [],
   "source": [
    "temp = df_doe.loc[df_doe['Number of Bays']==0]\n",
    "#temp.index += 1\n",
    "subset_waits = df_wait[temp.index].mean()\n",
    "subset_waits.rename('wait', inplace=True)\n",
    "subset_utils = df_util[temp.index].mean()\n",
    "subset_utils.rename('util', inplace=True)\n",
    "subset_trans = df_tran[temp.index].mean()\n",
    "subset_trans.rename('tran', inplace=True)\n",
    "\n",
    "\n",
    "\n",
    "subset_utils_sem = df_util[temp.index].sem()\n",
    "subset_utils_sem.rename('util_sem', inplace=True)\n",
    "\n",
    "subset_utils_count = df_util[temp.index].count()\n",
    "subset_utils_count.rename('n_util', inplace=True)\n",
    "\n",
    "import scipy as sp\n",
    "import scipy.stats\n",
    "\n",
    "subset_kpi = pd.concat([temp, subset_waits, subset_utils, subset_trans, subset_utils_sem, subset_utils_count], axis = 1)\n",
    "subset_kpi['Waiting Time (hrs)'] = round(subset_kpi['wait']*24, 2)\n",
    "\n",
    "confidence = 0.95\n",
    "\n",
    "subset_kpi['hw_95'] = subset_kpi['util_sem'] * sp.stats.t.ppf((1+confidence)/2., subset_kpi['n_util']-1)\n",
    "\n",
    "#fig = plt.figure()\n",
    "#ax = fig.add_subplot(111)\n",
    "fig, axes = plt.subplots(nrows=1, ncols=2, sharey=False)\n",
    "\n",
    "subset_kpi.sort_values('util').plot(y = 'util', x= 'Number of Singles', figsize=(20, 8), fontsize = 18, \n",
    "                                    linewidth=3, legend =False, kind='scatter', ax=axes[1], xticks=[x for x in range(43, 56, 1)], xlim=(42, 56), yerr='hw_95')#, xlim=(70, 92), ylim=(0, 35))\n",
    "axes[0].set_ylabel('Mean Waiting Time (hrs)', fontsize = 18)\n",
    "axes[1].set_xlabel('Number of Singles (beds)', fontsize = 18)\n",
    "\n",
    "\n",
    "\n",
    "\n",
    "subset_kpi.plot('Number of Singles', 'Waiting Time (hrs)', figsize=(20, 8), fontsize = 18, \n",
    "                                    linewidth=3, legend =False, kind='line', ms=10, style='o-', ax=axes[0], xlim=(42, 56),\n",
    "                                    xticks=[x for x in range(43, 56, 1)])\n",
    "axes[0].set_xlabel('Number of Singles (beds)', fontsize = 18)\n",
    "axes[1].set_ylabel('Mean Utilization (% beds)', fontsize = 18)\n",
    "axes[0].grid(True)\n",
    "axes[1].grid(True)\n",
    "axes[1].legend(['mean (n=5)','95% Confidence Interval'],fontsize=18)\n",
    "#plt.tight_layout()"
   ]
  },
  {
   "cell_type": "code",
   "execution_count": null,
   "metadata": {
    "collapsed": true
   },
   "outputs": [],
   "source": [
    "fig.savefig(\"chance_constraint_stage1.pdf\", format = 'pdf', dpi=600, bbox_inches='tight')"
   ]
  },
  {
   "cell_type": "code",
   "execution_count": null,
   "metadata": {
    "collapsed": false
   },
   "outputs": [],
   "source": [
    "subset_kpi"
   ]
  },
  {
   "cell_type": "markdown",
   "metadata": {},
   "source": [
    "Patient transfers between bays of beds"
   ]
  },
  {
   "cell_type": "code",
   "execution_count": null,
   "metadata": {
    "collapsed": false
   },
   "outputs": [],
   "source": [
    "temp=df_doe.loc[df_doe['Total beds']<=54]\n",
    "#temp.index += 1\n",
    "subset_waits = df_wait[temp.index].mean()\n",
    "subset_waits.rename('wait', inplace=True)\n",
    "subset_utils = df_tran[temp.index].mean()\n",
    "subset_utils.rename('tran', inplace=True)\n",
    "\n",
    "subset_kpi = pd.concat([temp, subset_waits, subset_utils], axis = 1)\n",
    "subset_kpi['Waiting Time (hrs)'] = round(subset_kpi['wait']*24, 2)\n",
    "\n",
    "subset_kpi.head()"
   ]
  },
  {
   "cell_type": "code",
   "execution_count": null,
   "metadata": {
    "collapsed": false
   },
   "outputs": [],
   "source": [
    "\n",
    "\n",
    "means = subset_kpi.groupby(['Size of Bays'])['tran'].mean()\n",
    "means.rename('mean', inplace=True)\n",
    "sems = subset_kpi.groupby(['Size of Bays'])['tran'].sem()\n",
    "sems.rename('sem', inplace=True)\n",
    "counts = subset_kpi.groupby(['Size of Bays'])['tran'].count()\n",
    "counts.rename('n', inplace=True)\n",
    "\n",
    "\n",
    "\n",
    "\n",
    "transfers = pd.concat([means, sems, counts], axis=1)\n",
    "confidence = 0.95\n",
    "\n",
    "transfers['hw_95'] = transfers['sem'] * sp.stats.t.ppf((1+confidence)/2., transfers['n']-1)\n",
    "\n",
    "#fig = plt.figure()\n",
    "#ax = fig.add_subplot(111)\n",
    "fig, axes = plt.subplots(nrows=1, ncols=1)\n",
    "transfers = transfers.loc[transfers.index >0]\n",
    "transfers = transfers.loc[transfers.index <27]\n",
    "transfers.plot(y='mean', x=transfers.index, figsize=(20, 8), fontsize = 14, \n",
    "                              linewidth=3, legend =False, kind='line', ax=axes, yerr='hw_95'\n",
    "              , xlim=(2, 27), xticks=[x for x in range(3, 26, 2)])\n",
    "\n",
    "axes.set_xlabel('Bay Size (beds)', fontsize = 14)\n",
    "\n",
    "axes.set_ylabel('Mean Bay Transfers', fontsize = 14)"
   ]
  },
  {
   "cell_type": "code",
   "execution_count": null,
   "metadata": {
    "collapsed": false
   },
   "outputs": [],
   "source": [
    "transfers"
   ]
  }
 ],
 "metadata": {
  "kernelspec": {
   "display_name": "Python 3",
   "language": "python",
   "name": "python3"
  },
  "language_info": {
   "codemirror_mode": {
    "name": "ipython",
    "version": 3
   },
   "file_extension": ".py",
   "mimetype": "text/x-python",
   "name": "python",
   "nbconvert_exporter": "python",
   "pygments_lexer": "ipython3",
   "version": "3.6.6"
  }
 },
 "nbformat": 4,
 "nbformat_minor": 2
}
