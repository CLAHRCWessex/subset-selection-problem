{
 "cells": [
  {
   "cell_type": "markdown",
   "metadata": {},
   "source": [
    "# Comparison of BootComp against OBCA-m on single objective problems"
   ]
  },
  {
   "cell_type": "markdown",
   "metadata": {},
   "source": [
    "This notebook reruns some of the analysis published with OBCA-m, using common random numbers (CRN) and the BootComp algorithm.\n",
    "\n",
    "All problems are single objective with no chance constraints.\n",
    "\n",
    "* The first problem has 10 system designs with a constant variance.  That task is to return the top 3 (largest) systems.\n",
    "\n",
    "* The second problem is taken from the Law inventory problem, but is adapted to operate with common random numbers\n",
    "---"
   ]
  },
  {
   "cell_type": "markdown",
   "metadata": {},
   "source": [
    "# **Parameter to help reproducibility test**\n",
    "This version of the notebook has been modified to help with reproducing the results reporting in the paper.\n",
    "\n",
    "> Advice: the parameter `N_EXPERIMENTS` controls the total number of times that the analysis is repeated.  Runtimes can take several hours for large values. It is recommended that a small number is tested initially (e.g. 10) to ensure that notebook runs all the way through without crashing and wasting computation time. "
   ]
  },
  {
   "cell_type": "code",
   "execution_count": null,
   "metadata": {},
   "outputs": [],
   "source": [
    "#in the paper we ran 10,000 experiments.\n",
    "N_EXPERIMENTS = 10_000"
   ]
  },
  {
   "cell_type": "markdown",
   "metadata": {},
   "source": [
    "---"
   ]
  },
  {
   "cell_type": "code",
   "execution_count": 51,
   "metadata": {},
   "outputs": [],
   "source": [
    "import numpy as np\n",
    "import pandas as pd\n",
    "import matplotlib.pyplot as plt\n",
    "from numba import jit\n"
   ]
  },
  {
   "cell_type": "markdown",
   "metadata": {},
   "source": [
    "As all problems used in the comparison do not have chance constraints then only the `quality_bootstrap()` function is needed"
   ]
  },
  {
   "cell_type": "code",
   "execution_count": 3,
   "metadata": {},
   "outputs": [],
   "source": [
    "from bootcomp.bootstrap import quality_bootstrap"
   ]
  },
  {
   "cell_type": "markdown",
   "metadata": {},
   "source": [
    "## Functions for creating the data used in the experiments"
   ]
  },
  {
   "cell_type": "code",
   "execution_count": 4,
   "metadata": {},
   "outputs": [],
   "source": [
    "#@jit(nopython=True)\n",
    "def bootstrap(data, boots=1000, random_state=None):\n",
    "    \"\"\"\n",
    "    Returns a numpy array containing the bootstrap resamples\n",
    "    Useful for creating a large number of experimental datasets \n",
    "    for testing R&S routines\n",
    "    \n",
    "    Keyword arguments:\n",
    "    data -- numpy.ndarray of systems to boostrap\n",
    "    boots -- integer number of bootstraps (default = 1000)\n",
    "    random_state -- int, set the numpy random number generator\n",
    "    \"\"\"\n",
    "    \n",
    "    np.random.seed(random_state)\n",
    "    experiments = boots\n",
    "    designs = 10\n",
    "    samples = data.shape[1]\n",
    "     \n",
    "    datasets = np.zeros((experiments, designs, samples))\n",
    "     \n",
    "    for exp in range(experiments):\n",
    "        \n",
    "        for design in range(designs):\n",
    "\n",
    "            for i in range(samples):\n",
    "\n",
    "                datasets[exp][design][i] = data[design][round(np.random.uniform(0, samples)-1)]\n",
    "      \n",
    "    return datasets"
   ]
  },
  {
   "cell_type": "code",
   "execution_count": 5,
   "metadata": {},
   "outputs": [],
   "source": [
    "#@jit(nopython=True)\n",
    "def crn_bootstrap(data, boots=1000, random_state=None):\n",
    "    \"\"\"\n",
    "    Returns a numpy array containing the bootstrap resamples\n",
    "    Useful for creating a large number of experimental datasets \n",
    "    for testing R&S routines.  This function assumes common\n",
    "    random numbers have been used to create the original data.\n",
    "    \n",
    "    Keyword arguments\n",
    "    data -- numpy.ndarray of systems to boostrap\n",
    "    boots -- integer number of bootstraps (default = 1000)\n",
    "    random_state -- int, set the numpy random number generator\n",
    "    \"\"\"\n",
    "    \n",
    "    np.random.seed(random_state)\n",
    "\n",
    "    experiments = boots\n",
    "    designs = data.shape[0]\n",
    "    samples = data.shape[1]\n",
    "    \n",
    "    datasets = np.zeros((experiments, designs, samples))\n",
    "     \n",
    "    for exp in range(experiments):\n",
    "        \n",
    "         for i in range(samples):\n",
    "\n",
    "                row = data.T[np.random.choice(data.shape[0])]\n",
    "                \n",
    "                for design in range(designs):\n",
    "                    datasets[exp][design][i] = row[design]  \n",
    "      \n",
    "    return datasets"
   ]
  },
  {
   "cell_type": "markdown",
   "metadata": {},
   "source": [
    "#### Use the following code to create independent samples"
   ]
  },
  {
   "cell_type": "code",
   "execution_count": 6,
   "metadata": {},
   "outputs": [],
   "source": [
    "def experiments_independent_samples(ifile_name, boots=1000, random_state=None):\n",
    "    data = np.genfromtxt(ifile_name, delimiter=\",\", skip_footer=0).transpose()\n",
    "    experiments = bootstrap(data, boots=boots, random_state=random_state)\n",
    "    return experiments"
   ]
  },
  {
   "cell_type": "markdown",
   "metadata": {},
   "source": [
    "#### Use the following code to create CRN data sets"
   ]
  },
  {
   "cell_type": "code",
   "execution_count": 7,
   "metadata": {},
   "outputs": [],
   "source": [
    "def experiments_dependent_samples(ifile_name, boots=1000, random_state=None):\n",
    "    data = np.genfromtxt(ifile_name, delimiter=\",\", skip_footer=0).transpose()\n",
    "    experiments = crn_bootstrap(data, boots=boots, random_state=random_state)\n",
    "    return experiments"
   ]
  },
  {
   "cell_type": "markdown",
   "metadata": {},
   "source": [
    "## BootComp Experiments"
   ]
  },
  {
   "cell_type": "code",
   "execution_count": 8,
   "metadata": {},
   "outputs": [],
   "source": [
    "def simulate_experiment(model, reps, systems):\n",
    "    return model[:,:reps][systems]"
   ]
  },
  {
   "cell_type": "code",
   "execution_count": 9,
   "metadata": {},
   "outputs": [],
   "source": [
    "def cs(selected_top_m, true_top_m):\n",
    "    \"\"\"Returns boolean value:\n",
    "    True = correct selection of top m\n",
    "    False = incorrect selection (one or more of selected top m is incorrect)\n",
    "    \n",
    "    Keyword arguments:\n",
    "    \n",
    "    selected_top_m --   numpy.array containing the indexes of \n",
    "                        the top m means selected by the algorithm\n",
    "                        \n",
    "    true_top_m --       numpy.array containing the indexes of \n",
    "                        the true top m means\n",
    "    \n",
    "    \"\"\"\n",
    "    return np.array_equal(np.sort(selected_top_m), true_top_m)"
   ]
  },
  {
   "cell_type": "code",
   "execution_count": 10,
   "metadata": {},
   "outputs": [],
   "source": [
    "def get_budgets(max_t, min_t, increment_t):\n",
    "    #incremental budgets 200, 400, .... T\n",
    "    budgets = [i for i in range(min_t, max_t + increment_t, increment_t)]\n",
    "    return budgets"
   ]
  },
  {
   "cell_type": "code",
   "execution_count": 11,
   "metadata": {},
   "outputs": [],
   "source": [
    "def simulate_stage(model, design_indexes, reps, x, y, boots, opt='max'):\n",
    "    \n",
    "        \n",
    "    output_data = simulate_experiment(model=model, \n",
    "                                      reps=reps, \n",
    "                                      systems=design_indexes)\n",
    "    \n",
    "    if opt == 'max':\n",
    "        best_design_index_sub = output_data.mean(axis=1).argmax()\n",
    "    else:\n",
    "        best_design_index_sub = output_data.mean(axis=1).argmin()\n",
    "    \n",
    "    best_design_index = design_indexes[best_design_index_sub]\n",
    "    \n",
    "    df_output = pd.DataFrame(output_data).T\n",
    "    df_output.columns = design_indexes \n",
    "    \n",
    "    results = quality_bootstrap(df_output, \n",
    "                                design_indexes, \n",
    "                                best_design_index, \n",
    "                                x, y, boots, cores='p')\n",
    "\n",
    "    return results"
   ]
  },
  {
   "cell_type": "code",
   "execution_count": 12,
   "metadata": {},
   "outputs": [],
   "source": [
    "def bootcomp(model, budget, m, n_0, boots, x1, y1, x2, y2, opt='max'):\n",
    "\n",
    "    #stage 1\n",
    "    #simulate n reps from all system designs\n",
    "    k = model.shape[0]\n",
    "    design_indexes = [i for i in range(k)]\n",
    "\n",
    "    stage_one_results = simulate_stage(model, design_indexes,\n",
    "                                      reps=n_0, x=x1, y=y1, boots=boots,\n",
    "                                      opt=opt)\n",
    "       \n",
    "    \n",
    "    #stage 2\n",
    "    #equal allocation of remaining budget\n",
    "    stage_two_reps = int((budget - (n_0 * k))/len(stage_one_results)) + n_0\n",
    "       \n",
    "    design_indexes = (stage_one_results).tolist()\n",
    "        \n",
    "    stage_two_results = simulate_stage(model, design_indexes,\n",
    "                                       reps=stage_two_reps, \n",
    "                                       x=x2, y=y1, boots=boots,\n",
    "                                       opt=opt)\n",
    "\n",
    "    return stage_two_results.tolist(), stage_two_reps"
   ]
  },
  {
   "cell_type": "code",
   "execution_count": 13,
   "metadata": {},
   "outputs": [],
   "source": [
    "def bootcomp_top_m(model, reps, design_indexes, m, opt='max'):\n",
    "    \n",
    "    output_data = simulate_experiment(model=model, \n",
    "                                      reps=reps, \n",
    "                                      systems=design_indexes)\n",
    "    \n",
    "    sorted_indexes = output_data.mean(axis=1).argsort()\n",
    "    \n",
    "    if opt == 'max':\n",
    "        x = sorted_indexes[-m:]\n",
    "        best_design_indexes = np.array(design_indexes)[x] \n",
    "        \n",
    "        \n",
    "    else:\n",
    "        x = sorted_indexes[:m]\n",
    "        best_design_indexes = np.array(design_indexes)[x] \n",
    "        \n",
    "    return best_design_indexes\n",
    "        \n",
    "    "
   ]
  },
  {
   "cell_type": "code",
   "execution_count": 14,
   "metadata": {},
   "outputs": [],
   "source": [
    "def numerical_experiment(experiments, budgets, m, n_0, true_top_m, \n",
    "                         x1, y1, x2, y2, nboots=1000, opt='max'):\n",
    "    \"\"\"\n",
    "    Conduct a user set number of numerical experiments on the algorithm\n",
    "    for different computational budgets\n",
    "    \n",
    "    Returns:\n",
    "    1. numpy.ndarray containing P{cs} for each budget\n",
    "        \n",
    "    Keyword arguments:\n",
    "    experiments -- numpy.ndarray[experiments][designs][replication]\n",
    "    budgets -- python list containing budgets\n",
    "    model_file -- string path to model \n",
    "    \n",
    "    \"\"\"\n",
    "    n_experiments = experiments.shape[0]\n",
    "    k = experiments.shape[1]  \n",
    "    \n",
    "    correct_selections = np.zeros((n_experiments, len(budgets)))\n",
    "   \n",
    "    for exp in range(n_experiments):\n",
    "\n",
    "        for t in range(len(budgets)):\n",
    "\n",
    "            selected_top_m, reps = bootcomp(budget=budgets[t],\n",
    "                                            model=experiments[exp],\n",
    "                                            m=m, \n",
    "                                            n_0=n_0, \n",
    "                                            boots=nboots, x1=x1, y1=y1,\n",
    "                                            x2=x2, y2=y2, opt=opt)\n",
    "            \n",
    "            \n",
    "            #BootComp can return > m solutions.  This function trims to top m \n",
    "            top_m = bootcomp_top_m(experiments[exp], reps, selected_top_m, m, opt)\n",
    "            \n",
    "            #is it the correct selection?\n",
    "            correct_selections[exp][t] = cs(top_m, true_top_m)\n",
    "                        \n",
    "    return correct_selections\n",
    "    "
   ]
  },
  {
   "cell_type": "markdown",
   "metadata": {},
   "source": [
    "## Tests 1: Top 3 systems from 10\n",
    "\n",
    "In this example we simulate 10,000 experiments of 10 competing system designs.  Each design has equal variance.  BootComp must return the 3 designs with the largest mean.\n",
    "\n",
    "**Ten Designs with CRN**\n",
    "\n",
    "Both OCBA-m and BootComp were run with 20 initial replications for each design ($n_{1}=20)$. In all of the experiments we use the following values for the BootComp parameters $\\alpha_1 = 0.2, \\alpha_2= 0.05, \\beta_1= 0.6, \\beta_2 = 0.3$. \n",
    "\n",
    "We tested budgets between 300 and 2000 and found that when competing designs use perfectly synchronized CRN, BootComp correctly selected the top three designs in all 10,000 experiments for each budget."
   ]
  },
  {
   "cell_type": "code",
   "execution_count": 15,
   "metadata": {},
   "outputs": [],
   "source": [
    "def experiment_1():\n",
    "    T = 3000\n",
    "    increment_t = 100\n",
    "    min_budget = 300\n",
    "    n_0 = 20\n",
    "    \n",
    "    #############################################################\n",
    "    #set to 10 to avoid long runtime - set to 10000 to match paper\n",
    "    n_experiments = N_EXPERIMENTS\n",
    "    ############################################################\n",
    "    #note beta_1 can be more restrictive e.g. 0.4 for CRN experiments\n",
    "    #but we use 0.6 so that it is the same as no CRN experiments which are\n",
    "    #more challenging for bootcomp and OCBA-m.\n",
    "    x1 = 0.6 \n",
    "    y1 = 0.8 # 1 - alpha\n",
    "    x2 = 0.3 \n",
    "    y2 = 0.95 # 1-alpha\n",
    "    boots=1000\n",
    "    m = 3\n",
    "    seed = 42\n",
    "\n",
    "    #specific to this implementation\n",
    "    ifile_name = 'data/EG1a_CRN.csv'\n",
    "    reps_available = 10000\n",
    "\n",
    "    #info for correct selection\n",
    "    true_top_m = np.array([7, 8, 9])\n",
    "\n",
    "    #incremental budgets 200, 400, .... T\n",
    "    budgets = get_budgets(T, min_budget, increment_t)\n",
    "    \n",
    "    #the below is some short cut code to help produce the figures in the\n",
    "    #paper - comment these out to get a full range of results (with \n",
    "    #assciated longer runtime!)\n",
    "    budgets = [600, 1400, 2000, 3000, 5000]\n",
    "    \n",
    "    #generate experimental dataset\n",
    "    experiments = experiments_dependent_samples(ifile_name, \n",
    "                                                boots=n_experiments,\n",
    "                                                random_state=seed)\n",
    "    \n",
    "    #run numerical experiment\n",
    "    css = numerical_experiment(experiments, \n",
    "                               budgets, \n",
    "                               m,\n",
    "                               n_0,\n",
    "                               true_top_m, \n",
    "                               x1, y1, x2, y2, boots)\n",
    "    return css"
   ]
  },
  {
   "cell_type": "markdown",
   "metadata": {},
   "source": [
    "**Ten designs with no CRN.**\n",
    "\n",
    "Both OCBA-m and BootComp were run with 20 initial replications for each design ($n_{1}=20)$. In all of the experiments we use the following values for the BootComp parameters $\\alpha_1 = 0.2, \\alpha_2= 0.05, \\beta_1= 0.6, \\beta_2 = 0.3$. Again using 10,000 experiments, we tested budgets of between 600 and 5000 replications.\n",
    "\n",
    "* experiment 1a: $\\alpha_1$ = 0.2\n",
    "* experiment 1b  $\\alpha_1$ = 0.3 (used to create figure 2 in paper)\n"
   ]
  },
  {
   "cell_type": "code",
   "execution_count": 16,
   "metadata": {},
   "outputs": [],
   "source": [
    "def experiment_1a_No_CRN():\n",
    "    T = 8000\n",
    "    increment_t = 100\n",
    "    min_budget = 8000\n",
    "    n_0 = 20\n",
    "    \n",
    "    #############################################################\n",
    "    #set to 10 to avoid long runtime - set to 10000 to match paper\n",
    "    n_experiments = N_EXPERIMENTS\n",
    "    ############################################################\n",
    "    \n",
    "    x1 = 0.6 \n",
    "    y1 = 0.8 # 1 - alpha\n",
    "    x2 = 0.3\n",
    "    y2 = 0.95 # 1 - alpha\n",
    "    boots= 1000\n",
    "    m = 3\n",
    "    seed = 101\n",
    "\n",
    "    #specific to this implementation\n",
    "    ifile_name = 'data/EG1a.csv'\n",
    "    reps_available = 10000\n",
    "\n",
    "    #info for correct selection\n",
    "    true_top_m = np.array([7, 8, 9])\n",
    "\n",
    "    #incremental budgets 200, 400, .... T\n",
    "    budgets = get_budgets(T, min_budget, increment_t)\n",
    "    \n",
    "    #the below is some short cut code to help produce the figures in the\n",
    "    #paper - comment these out to get a full range of results (with \n",
    "    #assciated longer runtime!)\n",
    "    budgets = [600, 1400, 2000, 3000, 5000]\n",
    "        \n",
    "    #generate experimental dataset - independent samples!\n",
    "    experiments = experiments_independent_samples(ifile_name, \n",
    "                                                  boots=n_experiments,\n",
    "                                                  random_state=seed)\n",
    "    \n",
    "    #run numerical experiment\n",
    "    css = numerical_experiment(experiments, \n",
    "                               budgets, \n",
    "                               m,\n",
    "                               n_0,\n",
    "                               true_top_m, \n",
    "                               x1, y1, x2, y2, boots)\n",
    "    return css"
   ]
  },
  {
   "cell_type": "code",
   "execution_count": 45,
   "metadata": {},
   "outputs": [],
   "source": [
    "def experiment_1b_No_CRN():\n",
    "    T = 8000\n",
    "    increment_t = 100\n",
    "    min_budget = 8000\n",
    "    n_0 = 20\n",
    "    \n",
    "    #############################################################\n",
    "    #set to 10 to avoid long runtime - set to 10000 to match paper\n",
    "    n_experiments = N_EXPERIMENTS\n",
    "    ############################################################\n",
    "    \n",
    "    x1 = 0.6\n",
    "    y1 = 0.7 #1 - alpha\n",
    "    x2 = 0.3\n",
    "    y2 = 0.95 # 1 - alpha\n",
    "    boots= 1000\n",
    "    m = 3\n",
    "    seed = 101\n",
    "\n",
    "    #specific to this implementation\n",
    "    ifile_name = 'data/EG1a.csv'\n",
    "    reps_available = 10000\n",
    "\n",
    "    #info for correct selection\n",
    "    true_top_m = np.array([7, 8, 9])\n",
    "\n",
    "    #incremental budgets 200, 400, .... T\n",
    "    budgets = get_budgets(T, min_budget, increment_t)\n",
    "    \n",
    "    #the below is some short cut code to help produce the figures in the\n",
    "    #paper - comment these out to get a full range of results (with \n",
    "    #assciated longer runtime!)\n",
    "    budgets = [600, 1400, 2000, 3000, 5000]\n",
    "        \n",
    "    #generate experimental dataset - independent samples!\n",
    "    experiments = experiments_independent_samples(ifile_name, \n",
    "                                                  boots=n_experiments,\n",
    "                                                  random_state=seed)\n",
    "    \n",
    "    #run numerical experiment\n",
    "    css = numerical_experiment(experiments, \n",
    "                               budgets, \n",
    "                               m,\n",
    "                               n_0,\n",
    "                               true_top_m, \n",
    "                               x1, y1, x2, y2, boots)\n",
    "    return css"
   ]
  },
  {
   "cell_type": "markdown",
   "metadata": {},
   "source": [
    "## Tests 2: Law Inventory Example\n",
    "\n",
    "In this example, we simulate 10,000 experiments of 9 competing system designs in the Law inventory problem. Common random numbers have been employed achieveing ~89% variance reduction. BootComp must return the 3 designs with the largest mean."
   ]
  },
  {
   "cell_type": "markdown",
   "metadata": {},
   "source": [
    "### Maximisation Test (top 3)"
   ]
  },
  {
   "cell_type": "code",
   "execution_count": 18,
   "metadata": {},
   "outputs": [],
   "source": [
    "def experiment_2():\n",
    "    T = 500\n",
    "    increment_t = 100\n",
    "    min_budget = 300\n",
    "    n_0 = 20\n",
    "    #############################################################\n",
    "    #set to 10 to avoid long runtime - set to 10000 to match paper\n",
    "    n_experiments = N_EXPERIMENTS\n",
    "    ############################################################\n",
    "    x1 = 0.6\n",
    "    y1 = 0.8\n",
    "    x2 = 0.2\n",
    "    y2 = 0.95\n",
    "    boots = 1000\n",
    "    m = 3\n",
    "    seed = 42\n",
    "\n",
    "    #specific to this implementation\n",
    "    ifile_name = 'data/EGLaw_CRN.csv'\n",
    "   \n",
    "    #info for correct selection\n",
    "    true_top_m = np.array([6, 7, 8])\n",
    "\n",
    "    #incremental budgets 200, 400, .... T\n",
    "    budgets = get_budgets(T, min_budget, increment_t)\n",
    "    \n",
    "    #generate experimental dataset\n",
    "    experiments = experiments_dependent_samples(ifile_name, \n",
    "                                                boots=n_experiments,\n",
    "                                                random_state=seed)\n",
    "    \n",
    "    #run numerical experiment\n",
    "    css = numerical_experiment(experiments, \n",
    "                               budgets, \n",
    "                               m,\n",
    "                               n_0,\n",
    "                               true_top_m, \n",
    "                               x1, y1, x2, y2, boots)\n",
    "    return css"
   ]
  },
  {
   "cell_type": "markdown",
   "metadata": {},
   "source": [
    "## Minimisation example (top 2) "
   ]
  },
  {
   "cell_type": "code",
   "execution_count": 19,
   "metadata": {},
   "outputs": [],
   "source": [
    "def experiment_3():\n",
    "    T = 1000\n",
    "    increment_t = 100\n",
    "    min_budget = 300\n",
    "    n_0 = 20\n",
    "    ##############################################################\n",
    "    #set to 10 to avoid long runtime - set to 10000 to match paper\n",
    "    n_experiments = N_EXPERIMENTS\n",
    "    ##############################################################\n",
    "    x1 = 0.1\n",
    "    y1 = 0.95\n",
    "    x2 = 0.05\n",
    "    y2 = 0.95\n",
    "    boots=1000\n",
    "    m = 2\n",
    "    opt = 'min'\n",
    "    seed = 42\n",
    "    \n",
    "    #specific to this implementation\n",
    "    ifile_name = 'data/EGLaw_CRN.csv'\n",
    "   \n",
    "    #info for correct selection\n",
    "    true_top_m = np.array([1, 2])\n",
    "\n",
    "    #incremental budgets 200, 400, .... T\n",
    "    budgets = get_budgets(T, min_budget, increment_t)\n",
    "    \n",
    "    #generate experimental dataset\n",
    "    experiments = experiments_dependent_samples(ifile_name, \n",
    "                                                boots=n_experiments,\n",
    "                                                random_state=seed)\n",
    "    \n",
    "    #run numerical experiment\n",
    "    css = numerical_experiment(experiments, \n",
    "                               budgets, \n",
    "                               m,\n",
    "                               n_0,\n",
    "                               true_top_m, \n",
    "                               x1, y1, x2, y2, boots, opt=opt)\n",
    "    return css"
   ]
  },
  {
   "cell_type": "markdown",
   "metadata": {},
   "source": [
    "## Run Experiments\n",
    "\n",
    "Note: If running a large number of experiments (e.g. 10,000) against a large number of budgets (e.g. 30) then expect runtimes of around 4-5 hours."
   ]
  },
  {
   "cell_type": "markdown",
   "metadata": {},
   "source": [
    "**OBCA-m dataset: k = 10, var=const, m=3, type=maximisation**"
   ]
  },
  {
   "cell_type": "code",
   "execution_count": 20,
   "metadata": {},
   "outputs": [],
   "source": [
    "results1 = experiment_1()"
   ]
  },
  {
   "cell_type": "code",
   "execution_count": 21,
   "metadata": {},
   "outputs": [
    {
     "data": {
      "text/plain": [
       "(10000, 5)"
      ]
     },
     "execution_count": 21,
     "metadata": {},
     "output_type": "execute_result"
    }
   ],
   "source": [
    "results1.shape"
   ]
  },
  {
   "cell_type": "code",
   "execution_count": 22,
   "metadata": {},
   "outputs": [
    {
     "data": {
      "text/html": [
       "<div>\n",
       "<style scoped>\n",
       "    .dataframe tbody tr th:only-of-type {\n",
       "        vertical-align: middle;\n",
       "    }\n",
       "\n",
       "    .dataframe tbody tr th {\n",
       "        vertical-align: top;\n",
       "    }\n",
       "\n",
       "    .dataframe thead th {\n",
       "        text-align: right;\n",
       "    }\n",
       "</style>\n",
       "<table border=\"1\" class=\"dataframe\">\n",
       "  <thead>\n",
       "    <tr style=\"text-align: right;\">\n",
       "      <th></th>\n",
       "      <th>0</th>\n",
       "      <th>1</th>\n",
       "      <th>2</th>\n",
       "      <th>3</th>\n",
       "      <th>4</th>\n",
       "    </tr>\n",
       "  </thead>\n",
       "  <tbody>\n",
       "    <tr>\n",
       "      <th>0</th>\n",
       "      <td>1.0</td>\n",
       "      <td>1.0</td>\n",
       "      <td>1.0</td>\n",
       "      <td>1.0</td>\n",
       "      <td>1.0</td>\n",
       "    </tr>\n",
       "    <tr>\n",
       "      <th>1</th>\n",
       "      <td>1.0</td>\n",
       "      <td>1.0</td>\n",
       "      <td>1.0</td>\n",
       "      <td>1.0</td>\n",
       "      <td>1.0</td>\n",
       "    </tr>\n",
       "    <tr>\n",
       "      <th>2</th>\n",
       "      <td>1.0</td>\n",
       "      <td>1.0</td>\n",
       "      <td>1.0</td>\n",
       "      <td>1.0</td>\n",
       "      <td>1.0</td>\n",
       "    </tr>\n",
       "    <tr>\n",
       "      <th>3</th>\n",
       "      <td>1.0</td>\n",
       "      <td>1.0</td>\n",
       "      <td>1.0</td>\n",
       "      <td>1.0</td>\n",
       "      <td>1.0</td>\n",
       "    </tr>\n",
       "    <tr>\n",
       "      <th>4</th>\n",
       "      <td>1.0</td>\n",
       "      <td>1.0</td>\n",
       "      <td>1.0</td>\n",
       "      <td>1.0</td>\n",
       "      <td>1.0</td>\n",
       "    </tr>\n",
       "  </tbody>\n",
       "</table>\n",
       "</div>"
      ],
      "text/plain": [
       "     0    1    2    3    4\n",
       "0  1.0  1.0  1.0  1.0  1.0\n",
       "1  1.0  1.0  1.0  1.0  1.0\n",
       "2  1.0  1.0  1.0  1.0  1.0\n",
       "3  1.0  1.0  1.0  1.0  1.0\n",
       "4  1.0  1.0  1.0  1.0  1.0"
      ]
     },
     "execution_count": 22,
     "metadata": {},
     "output_type": "execute_result"
    }
   ],
   "source": [
    "pd.DataFrame(results1).head()"
   ]
  },
  {
   "cell_type": "markdown",
   "metadata": {},
   "source": [
    "**OBCA-m dataset: k = 10, var=const, m=3, type=maximisation, CRN=False; alpha=0.2**"
   ]
  },
  {
   "cell_type": "code",
   "execution_count": 23,
   "metadata": {},
   "outputs": [
    {
     "data": {
      "text/plain": [
       "(10000, 5)"
      ]
     },
     "execution_count": 23,
     "metadata": {},
     "output_type": "execute_result"
    }
   ],
   "source": [
    "results1a = experiment_1a_No_CRN()\n",
    "results1a.shape"
   ]
  },
  {
   "cell_type": "markdown",
   "metadata": {},
   "source": [
    "**OBCA-m dataset: k = 10, var=const, m=3, type=maximisation, CRN=False; alpha=0.3**"
   ]
  },
  {
   "cell_type": "code",
   "execution_count": 46,
   "metadata": {},
   "outputs": [
    {
     "data": {
      "text/plain": [
       "(10000, 5)"
      ]
     },
     "execution_count": 46,
     "metadata": {},
     "output_type": "execute_result"
    }
   ],
   "source": [
    "results1b = experiment_1b_No_CRN()\n",
    "results1b.shape"
   ]
  },
  {
   "cell_type": "markdown",
   "metadata": {},
   "source": [
    "**Law Inventory example. k = 9, m=3, type=maximisation**"
   ]
  },
  {
   "cell_type": "code",
   "execution_count": 25,
   "metadata": {},
   "outputs": [],
   "source": [
    "results_law_max = experiment_2()"
   ]
  },
  {
   "cell_type": "code",
   "execution_count": 26,
   "metadata": {},
   "outputs": [
    {
     "data": {
      "text/plain": [
       "(10000, 3)"
      ]
     },
     "execution_count": 26,
     "metadata": {},
     "output_type": "execute_result"
    }
   ],
   "source": [
    "results_law_max.shape"
   ]
  },
  {
   "cell_type": "markdown",
   "metadata": {},
   "source": [
    "**Law Inventory example. k = 9, m=2, type=minimisation** "
   ]
  },
  {
   "cell_type": "code",
   "execution_count": 27,
   "metadata": {},
   "outputs": [],
   "source": [
    "results_law_min = experiment_3()"
   ]
  },
  {
   "cell_type": "code",
   "execution_count": 28,
   "metadata": {},
   "outputs": [
    {
     "data": {
      "text/plain": [
       "(10000, 8)"
      ]
     },
     "execution_count": 28,
     "metadata": {},
     "output_type": "execute_result"
    }
   ],
   "source": [
    "results_law_min.shape"
   ]
  },
  {
   "cell_type": "markdown",
   "metadata": {},
   "source": [
    "# Summary of experimental results."
   ]
  },
  {
   "cell_type": "code",
   "execution_count": 29,
   "metadata": {},
   "outputs": [],
   "source": [
    "def format_results(df_results, budgets):\n",
    "    '''\n",
    "    Format experimental results in a table\n",
    "    summarising PCS\n",
    "    \n",
    "    Params:\n",
    "    ------\n",
    "    df_results: pd.DataFrame\n",
    "        Experimentation results.  (N_EXPERIMENTS, len(budgets))\n",
    "        \n",
    "    budget: array-like\n",
    "        list of replication budgets.\n",
    "        \n",
    "    '''\n",
    "    budgets = pd.DataFrame(budgets, columns=['budget'])\n",
    "    count = pd.DataFrame(df_results).sum()\n",
    "    pcs = pd.DataFrame(df_results).mean()\n",
    "    pcs.name = 'pcs'\n",
    "    count.name = 'n'\n",
    "    pcs = pd.concat([budgets, count, pcs], axis=1)\n",
    "    return pcs\n",
    "    "
   ]
  },
  {
   "cell_type": "markdown",
   "metadata": {},
   "source": [
    "## Section 4.4.1 in paper.  OCBA-m dataset - 10 systems. CRN"
   ]
  },
  {
   "cell_type": "markdown",
   "metadata": {},
   "source": [
    "**OBCA-m dataset: k = 10, var=const, m=3, type=maximisation. CRN=True**\n",
    "\n",
    "We tested budgets between 300 and 2000 and found that when competing designs use perfectly synchronized CRN, BootComp correctly selected the top three designs in all 10,000 experiments for each budget."
   ]
  },
  {
   "cell_type": "code",
   "execution_count": 30,
   "metadata": {},
   "outputs": [
    {
     "data": {
      "text/html": [
       "<div>\n",
       "<style scoped>\n",
       "    .dataframe tbody tr th:only-of-type {\n",
       "        vertical-align: middle;\n",
       "    }\n",
       "\n",
       "    .dataframe tbody tr th {\n",
       "        vertical-align: top;\n",
       "    }\n",
       "\n",
       "    .dataframe thead th {\n",
       "        text-align: right;\n",
       "    }\n",
       "</style>\n",
       "<table border=\"1\" class=\"dataframe\">\n",
       "  <thead>\n",
       "    <tr style=\"text-align: right;\">\n",
       "      <th></th>\n",
       "      <th>budget</th>\n",
       "      <th>n</th>\n",
       "      <th>pcs</th>\n",
       "    </tr>\n",
       "  </thead>\n",
       "  <tbody>\n",
       "    <tr>\n",
       "      <th>0</th>\n",
       "      <td>600</td>\n",
       "      <td>10000.0</td>\n",
       "      <td>1.0</td>\n",
       "    </tr>\n",
       "    <tr>\n",
       "      <th>1</th>\n",
       "      <td>1400</td>\n",
       "      <td>10000.0</td>\n",
       "      <td>1.0</td>\n",
       "    </tr>\n",
       "    <tr>\n",
       "      <th>2</th>\n",
       "      <td>2000</td>\n",
       "      <td>10000.0</td>\n",
       "      <td>1.0</td>\n",
       "    </tr>\n",
       "    <tr>\n",
       "      <th>3</th>\n",
       "      <td>3000</td>\n",
       "      <td>10000.0</td>\n",
       "      <td>1.0</td>\n",
       "    </tr>\n",
       "    <tr>\n",
       "      <th>4</th>\n",
       "      <td>5000</td>\n",
       "      <td>10000.0</td>\n",
       "      <td>1.0</td>\n",
       "    </tr>\n",
       "  </tbody>\n",
       "</table>\n",
       "</div>"
      ],
      "text/plain": [
       "   budget        n  pcs\n",
       "0     600  10000.0  1.0\n",
       "1    1400  10000.0  1.0\n",
       "2    2000  10000.0  1.0\n",
       "3    3000  10000.0  1.0\n",
       "4    5000  10000.0  1.0"
      ]
     },
     "execution_count": 30,
     "metadata": {},
     "output_type": "execute_result"
    }
   ],
   "source": [
    "budgets = [600, 1400, 2000, 3000, 5000]\n",
    "pcs_1 = format_results(results1, budgets)\n",
    "pcs_1"
   ]
  },
  {
   "cell_type": "markdown",
   "metadata": {},
   "source": [
    "## Section 4.1.2 in paper. OCBA-m dataset - 10 systems Independent samples\n",
    "\n",
    "**OBCA-m dataset: k = 10, var=const, m=3, type=maximisation, CRN=False; beta1=0.3** \n",
    "\n",
    "The results illustrate the importance of CRN in variance reduction and, as expected, BootComp loses its advantage over OCBA-m in examples where samples are independent. Without CRN, BootComp was unable to match OCBA-m under any of the budget assumptions we included. This is not unexpected as OCBA-m is a sequential algorithm and BootComp includes only two stages. "
   ]
  },
  {
   "cell_type": "code",
   "execution_count": 31,
   "metadata": {},
   "outputs": [
    {
     "data": {
      "text/html": [
       "<div>\n",
       "<style scoped>\n",
       "    .dataframe tbody tr th:only-of-type {\n",
       "        vertical-align: middle;\n",
       "    }\n",
       "\n",
       "    .dataframe tbody tr th {\n",
       "        vertical-align: top;\n",
       "    }\n",
       "\n",
       "    .dataframe thead th {\n",
       "        text-align: right;\n",
       "    }\n",
       "</style>\n",
       "<table border=\"1\" class=\"dataframe\">\n",
       "  <thead>\n",
       "    <tr style=\"text-align: right;\">\n",
       "      <th></th>\n",
       "      <th>budget</th>\n",
       "      <th>n</th>\n",
       "      <th>pcs</th>\n",
       "    </tr>\n",
       "  </thead>\n",
       "  <tbody>\n",
       "    <tr>\n",
       "      <th>0</th>\n",
       "      <td>600</td>\n",
       "      <td>6149.0</td>\n",
       "      <td>0.6149</td>\n",
       "    </tr>\n",
       "    <tr>\n",
       "      <th>1</th>\n",
       "      <td>1400</td>\n",
       "      <td>8398.0</td>\n",
       "      <td>0.8398</td>\n",
       "    </tr>\n",
       "    <tr>\n",
       "      <th>2</th>\n",
       "      <td>2000</td>\n",
       "      <td>8987.0</td>\n",
       "      <td>0.8987</td>\n",
       "    </tr>\n",
       "    <tr>\n",
       "      <th>3</th>\n",
       "      <td>3000</td>\n",
       "      <td>9411.0</td>\n",
       "      <td>0.9411</td>\n",
       "    </tr>\n",
       "    <tr>\n",
       "      <th>4</th>\n",
       "      <td>5000</td>\n",
       "      <td>9559.0</td>\n",
       "      <td>0.9559</td>\n",
       "    </tr>\n",
       "  </tbody>\n",
       "</table>\n",
       "</div>"
      ],
      "text/plain": [
       "   budget       n     pcs\n",
       "0     600  6149.0  0.6149\n",
       "1    1400  8398.0  0.8398\n",
       "2    2000  8987.0  0.8987\n",
       "3    3000  9411.0  0.9411\n",
       "4    5000  9559.0  0.9559"
      ]
     },
     "execution_count": 31,
     "metadata": {},
     "output_type": "execute_result"
    }
   ],
   "source": [
    "budgets = [600, 1400, 2000, 3000, 5000]\n",
    "pcs_1a = format_results(results1a, budgets)\n",
    "pcs_1a"
   ]
  },
  {
   "cell_type": "code",
   "execution_count": 72,
   "metadata": {},
   "outputs": [],
   "source": [
    "#export results for fig2\n",
    "pcs_1a.to_csv('./results/figure2_bootcomp_data.csv')"
   ]
  },
  {
   "cell_type": "code",
   "execution_count": 47,
   "metadata": {},
   "outputs": [
    {
     "data": {
      "text/html": [
       "<div>\n",
       "<style scoped>\n",
       "    .dataframe tbody tr th:only-of-type {\n",
       "        vertical-align: middle;\n",
       "    }\n",
       "\n",
       "    .dataframe tbody tr th {\n",
       "        vertical-align: top;\n",
       "    }\n",
       "\n",
       "    .dataframe thead th {\n",
       "        text-align: right;\n",
       "    }\n",
       "</style>\n",
       "<table border=\"1\" class=\"dataframe\">\n",
       "  <thead>\n",
       "    <tr style=\"text-align: right;\">\n",
       "      <th></th>\n",
       "      <th>budget</th>\n",
       "      <th>n</th>\n",
       "      <th>pcs</th>\n",
       "    </tr>\n",
       "  </thead>\n",
       "  <tbody>\n",
       "    <tr>\n",
       "      <th>0</th>\n",
       "      <td>600</td>\n",
       "      <td>6576.0</td>\n",
       "      <td>0.6576</td>\n",
       "    </tr>\n",
       "    <tr>\n",
       "      <th>1</th>\n",
       "      <td>1400</td>\n",
       "      <td>8736.0</td>\n",
       "      <td>0.8736</td>\n",
       "    </tr>\n",
       "    <tr>\n",
       "      <th>2</th>\n",
       "      <td>2000</td>\n",
       "      <td>9272.0</td>\n",
       "      <td>0.9272</td>\n",
       "    </tr>\n",
       "    <tr>\n",
       "      <th>3</th>\n",
       "      <td>3000</td>\n",
       "      <td>9601.0</td>\n",
       "      <td>0.9601</td>\n",
       "    </tr>\n",
       "    <tr>\n",
       "      <th>4</th>\n",
       "      <td>5000</td>\n",
       "      <td>9734.0</td>\n",
       "      <td>0.9734</td>\n",
       "    </tr>\n",
       "  </tbody>\n",
       "</table>\n",
       "</div>"
      ],
      "text/plain": [
       "   budget       n     pcs\n",
       "0     600  6576.0  0.6576\n",
       "1    1400  8736.0  0.8736\n",
       "2    2000  9272.0  0.9272\n",
       "3    3000  9601.0  0.9601\n",
       "4    5000  9734.0  0.9734"
      ]
     },
     "execution_count": 47,
     "metadata": {},
     "output_type": "execute_result"
    }
   ],
   "source": [
    "budgets = [600, 1400, 2000, 3000, 5000]\n",
    "pcs_1b = format_results(results1b, budgets)\n",
    "pcs_1b"
   ]
  },
  {
   "cell_type": "code",
   "execution_count": 73,
   "metadata": {},
   "outputs": [],
   "source": [
    "#export results for fig2\n",
    "pcs_1a.to_csv('./results/figure2_bootcomp_data2.csv')"
   ]
  },
  {
   "cell_type": "code",
   "execution_count": 70,
   "metadata": {},
   "outputs": [],
   "source": [
    "def plot_experiment1(pcs_1a, pcs_1b, budgets):\n",
    "    '''\n",
    "    Basic plot of the results.\n",
    "    '''\n",
    "    fig, ax = plt.subplots(1, 1, figsize=(12,4))\n",
    "    ax.plot(budgets, pcs_1a['pcs'],linewidth=3, marker='s', \n",
    "            linestyle='',  markersize=6)\n",
    "    ax.plot(budgets, pcs_1b['pcs'],linewidth=3, marker='^', \n",
    "            linestyle='',  markersize=6)\n",
    "    ax.set_xlabel('Replication Budget')\n",
    "    ax.set_ylabel('P(CS)')"
   ]
  },
  {
   "cell_type": "code",
   "execution_count": 71,
   "metadata": {},
   "outputs": [
    {
     "data": {
      "image/png": "[encoded data removed]",
      "text/plain": [
       "<Figure size 864x288 with 1 Axes>"
      ]
     },
     "metadata": {
      "needs_background": "light"
     },
     "output_type": "display_data"
    }
   ],
   "source": [
    "plot_experiment1(pcs_1a, pcs_1b, budgets)"
   ]
  },
  {
   "cell_type": "markdown",
   "metadata": {},
   "source": [
    "# Section 4.1.3 in paper: Experiments for Law Inventory example\n",
    "\n",
    "In the inventory example, full synchronization has not been achieved, but CRN has still induced a high positive correlation across the nine designs. Both OCBA-m and BootComp select the top three designs (highest mean) in all 10,000 experiments for each budget."
   ]
  },
  {
   "cell_type": "markdown",
   "metadata": {},
   "source": [
    "## Experiment 2: Law Inventory example (maximisation)"
   ]
  },
  {
   "cell_type": "code",
   "execution_count": 33,
   "metadata": {},
   "outputs": [
    {
     "data": {
      "text/html": [
       "<div>\n",
       "<style scoped>\n",
       "    .dataframe tbody tr th:only-of-type {\n",
       "        vertical-align: middle;\n",
       "    }\n",
       "\n",
       "    .dataframe tbody tr th {\n",
       "        vertical-align: top;\n",
       "    }\n",
       "\n",
       "    .dataframe thead th {\n",
       "        text-align: right;\n",
       "    }\n",
       "</style>\n",
       "<table border=\"1\" class=\"dataframe\">\n",
       "  <thead>\n",
       "    <tr style=\"text-align: right;\">\n",
       "      <th></th>\n",
       "      <th>budget</th>\n",
       "      <th>n</th>\n",
       "      <th>pcs</th>\n",
       "    </tr>\n",
       "  </thead>\n",
       "  <tbody>\n",
       "    <tr>\n",
       "      <th>0</th>\n",
       "      <td>300</td>\n",
       "      <td>10000.0</td>\n",
       "      <td>1.0</td>\n",
       "    </tr>\n",
       "    <tr>\n",
       "      <th>1</th>\n",
       "      <td>400</td>\n",
       "      <td>10000.0</td>\n",
       "      <td>1.0</td>\n",
       "    </tr>\n",
       "    <tr>\n",
       "      <th>2</th>\n",
       "      <td>500</td>\n",
       "      <td>10000.0</td>\n",
       "      <td>1.0</td>\n",
       "    </tr>\n",
       "  </tbody>\n",
       "</table>\n",
       "</div>"
      ],
      "text/plain": [
       "   budget        n  pcs\n",
       "0     300  10000.0  1.0\n",
       "1     400  10000.0  1.0\n",
       "2     500  10000.0  1.0"
      ]
     },
     "execution_count": 33,
     "metadata": {},
     "output_type": "execute_result"
    }
   ],
   "source": [
    "T = 500\n",
    "increment_t = 100\n",
    "min_budget = 300\n",
    "\n",
    "budgets = get_budgets(T, min_budget, increment_t)\n",
    "pcs_2 =  format_results(results_law_max, budgets)\n",
    "pcs_2"
   ]
  },
  {
   "cell_type": "markdown",
   "metadata": {},
   "source": [
    "## Experiment 3: Law Inventory minimisation example\n",
    "\n",
    "This result held when the problem was changed into a minimization to select the smallest two designs."
   ]
  },
  {
   "cell_type": "code",
   "execution_count": 34,
   "metadata": {},
   "outputs": [
    {
     "data": {
      "text/html": [
       "<div>\n",
       "<style scoped>\n",
       "    .dataframe tbody tr th:only-of-type {\n",
       "        vertical-align: middle;\n",
       "    }\n",
       "\n",
       "    .dataframe tbody tr th {\n",
       "        vertical-align: top;\n",
       "    }\n",
       "\n",
       "    .dataframe thead th {\n",
       "        text-align: right;\n",
       "    }\n",
       "</style>\n",
       "<table border=\"1\" class=\"dataframe\">\n",
       "  <thead>\n",
       "    <tr style=\"text-align: right;\">\n",
       "      <th></th>\n",
       "      <th>budget</th>\n",
       "      <th>n</th>\n",
       "      <th>pcs</th>\n",
       "    </tr>\n",
       "  </thead>\n",
       "  <tbody>\n",
       "    <tr>\n",
       "      <th>0</th>\n",
       "      <td>300</td>\n",
       "      <td>10000.0</td>\n",
       "      <td>1.0</td>\n",
       "    </tr>\n",
       "    <tr>\n",
       "      <th>1</th>\n",
       "      <td>400</td>\n",
       "      <td>10000.0</td>\n",
       "      <td>1.0</td>\n",
       "    </tr>\n",
       "    <tr>\n",
       "      <th>2</th>\n",
       "      <td>500</td>\n",
       "      <td>10000.0</td>\n",
       "      <td>1.0</td>\n",
       "    </tr>\n",
       "    <tr>\n",
       "      <th>3</th>\n",
       "      <td>600</td>\n",
       "      <td>10000.0</td>\n",
       "      <td>1.0</td>\n",
       "    </tr>\n",
       "    <tr>\n",
       "      <th>4</th>\n",
       "      <td>700</td>\n",
       "      <td>10000.0</td>\n",
       "      <td>1.0</td>\n",
       "    </tr>\n",
       "    <tr>\n",
       "      <th>5</th>\n",
       "      <td>800</td>\n",
       "      <td>10000.0</td>\n",
       "      <td>1.0</td>\n",
       "    </tr>\n",
       "    <tr>\n",
       "      <th>6</th>\n",
       "      <td>900</td>\n",
       "      <td>10000.0</td>\n",
       "      <td>1.0</td>\n",
       "    </tr>\n",
       "    <tr>\n",
       "      <th>7</th>\n",
       "      <td>1000</td>\n",
       "      <td>10000.0</td>\n",
       "      <td>1.0</td>\n",
       "    </tr>\n",
       "  </tbody>\n",
       "</table>\n",
       "</div>"
      ],
      "text/plain": [
       "   budget        n  pcs\n",
       "0     300  10000.0  1.0\n",
       "1     400  10000.0  1.0\n",
       "2     500  10000.0  1.0\n",
       "3     600  10000.0  1.0\n",
       "4     700  10000.0  1.0\n",
       "5     800  10000.0  1.0\n",
       "6     900  10000.0  1.0\n",
       "7    1000  10000.0  1.0"
      ]
     },
     "execution_count": 34,
     "metadata": {},
     "output_type": "execute_result"
    }
   ],
   "source": [
    "T = 1000\n",
    "increment_t = 100\n",
    "min_budget = 300\n",
    "\n",
    "budgets = get_budgets(T, min_budget, increment_t)\n",
    "pcs_3 =  format_results(results_law_min, budgets)\n",
    "pcs_3"
   ]
  }
 ],
 "metadata": {
  "kernelspec": {
   "display_name": "Python 3",
   "language": "python",
   "name": "python3"
  },
  "language_info": {
   "codemirror_mode": {
    "name": "ipython",
    "version": 3
   },
   "file_extension": ".py",
   "mimetype": "text/x-python",
   "name": "python",
   "nbconvert_exporter": "python",
   "pygments_lexer": "ipython3",
   "version": "3.7.2"
  }
 },
 "nbformat": 4,
 "nbformat_minor": 4
}
