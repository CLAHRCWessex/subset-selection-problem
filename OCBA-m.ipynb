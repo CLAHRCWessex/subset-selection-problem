{
 "cells": [
  {
   "cell_type": "markdown",
   "metadata": {},
   "source": [
    "# OCBA-m"
   ]
  },
  {
   "cell_type": "markdown",
   "metadata": {},
   "source": [
    "Source. Chen et al. (2008) \n",
    "\n",
    "Efficient Simulation Budget Allocation for Selecting an Optimal Subset\n",
    "\n",
    "\n",
    "https://pubsonline.informs.org/doi/pdf/10.1287/ijoc.1080.0268"
   ]
  },
  {
   "cell_type": "code",
   "execution_count": 1,
   "metadata": {},
   "outputs": [],
   "source": [
    "import pandas as pd\n",
    "import numpy as np\n",
    "from numba import jit\n",
    "import matplotlib.pyplot as plt\n",
    "import seaborn as sns\n",
    "%matplotlib inline"
   ]
  },
  {
   "cell_type": "markdown",
   "metadata": {},
   "source": [
    "## Utility funcs"
   ]
  },
  {
   "cell_type": "code",
   "execution_count": 2,
   "metadata": {},
   "outputs": [],
   "source": [
    "def load_system(file_name, system, reps, reps_available, delim=','):\n",
    "    \"\"\"\n",
    "    Reads system data from a txt file (assumes comma delimited by default).  \n",
    "    Assumes that each column represents a system.\n",
    "    Returns a numpy array.  Each row is a system (single row); each col is a replication\n",
    "    \n",
    "    \n",
    "    @file_name = name of file containing csv data\n",
    "    @system = index of system in txt file.\n",
    "    @reps = replications wanted\n",
    "    @reps_available = total number of replications that has been simulated.\n",
    "    @delim = delimiter of file.  Default = ',' for CSV.  \n",
    "\n",
    "    \"\"\"\n",
    "    \n",
    "    return np.genfromtxt(file_name, delimiter=delim, usecols = system, skip_footer = (reps_available - reps))"
   ]
  },
  {
   "cell_type": "code",
   "execution_count": 3,
   "metadata": {},
   "outputs": [],
   "source": [
    "def load_systems(file_name, delim=','):\n",
    "    \"\"\"\n",
    "    Reads system data from a txt file (assumes comma delimited by default).  \n",
    "    Assumes that each column represents a system.\n",
    "    Returns a numpy array.  Each row is a system (single row); each col is a replication\n",
    "    \n",
    "    @file_name = name of file containing csv data\n",
    "    @delim = delimiter of file.  Default = ',' for CSV.  \n",
    "\n",
    "    \"\"\"\n",
    "    \n",
    "    return np.genfromtxt(file_name, delimiter=delim).transpose()"
   ]
  },
  {
   "cell_type": "code",
   "execution_count": 4,
   "metadata": {},
   "outputs": [],
   "source": [
    "def simulate(data, k, allocations):\n",
    "    \"\"\"\n",
    "    Simulates the systems.  \n",
    "    Each system is allocated a different budget of replications\n",
    "    \n",
    "    Returns list of numpy arrays\n",
    "    \n",
    "    @allocations = numpy array.  budget of replications for the k systems \n",
    "    \"\"\"\n",
    "    return [data[i][0:allocations[i]] for i in range(k)]\n",
    "    "
   ]
  },
  {
   "cell_type": "code",
   "execution_count": 5,
   "metadata": {},
   "outputs": [],
   "source": [
    "def get_ranks(array):\n",
    "    \"\"\"\n",
    "    Returns a numpy array containing ranks of numbers within a input numpy array\n",
    "    e.g. [3, 2, 1] returns [2, 1, 0]\n",
    "    e.g. [3, 2, 1, 4] return [2, 1, 0, 3]\n",
    "        \n",
    "    @array - numpy array (only tested with 1d)\n",
    "        \n",
    "    \"\"\"\n",
    "    temp = array.argsort()\n",
    "    ranks = np.empty_like(temp)\n",
    "    ranks[temp] = np.arange(len(array))\n",
    "    return ranks"
   ]
  },
  {
   "cell_type": "code",
   "execution_count": null,
   "metadata": {},
   "outputs": [],
   "source": []
  },
  {
   "cell_type": "code",
   "execution_count": 100,
   "metadata": {},
   "outputs": [],
   "source": [
    "@jit(nopython=True)\n",
    "def bootstrap(data, boots=1000):\n",
    "    \"\"\"\n",
    "       \n",
    "    Returns a numpy array containing the bootstrap resamples\n",
    "    Useful for creating a large number of experimental datasets for testing R&S routines\n",
    "    \n",
    "    @data = numpy.array of systems to boostrap\n",
    "    @boots = number of bootstrap (default = 1000)\n",
    "    \"\"\"\n",
    "\n",
    "    experiments = boots\n",
    "    designs = data.shape[0]\n",
    "    samples = data.shape[1]\n",
    "\n",
    "    datasets = np.zeros((experiments, designs, samples))\n",
    "     \n",
    "    for exp in range(experiments):\n",
    "        \n",
    "        for design in range(designs):\n",
    "\n",
    "            for i in range(samples):\n",
    "\n",
    "                datasets[exp][design][i] = data[design][round(np.random.uniform(0, samples)-1)]\n",
    "      \n",
    "    return datasets"
   ]
  },
  {
   "cell_type": "code",
   "execution_count": 99,
   "metadata": {},
   "outputs": [],
   "source": [
    "@jit(nopython=True)\n",
    "def crn_bootstrap(data, boots=1000):\n",
    "    \"\"\"\n",
    "       \n",
    "    Returns a numpy array containing the bootstrap resamples\n",
    "    Useful for creating a large number of experimental datasets for testing R&S routines\n",
    "    \n",
    "    @data = numpy.array of systems to boostrap\n",
    "    @boots = number of bootstrap (default = 1000)\n",
    "    \"\"\"\n",
    "\n",
    "    experiments = boots\n",
    "    designs = data.shape[0]\n",
    "    samples = data.shape[1]\n",
    "    \n",
    "    datasets = np.zeros((experiments, designs, samples))\n",
    "     \n",
    "    for exp in range(experiments):\n",
    "        \n",
    "         for i in range(samples):\n",
    "\n",
    "                row = data.T[np.random.choice(data.shape[0])]\n",
    "                \n",
    "                for design in range(designs):\n",
    "                    datasets[exp][design][i] = row[design]  \n",
    "      \n",
    "    return datasets"
   ]
  },
  {
   "cell_type": "markdown",
   "metadata": {},
   "source": [
    "# Walk through of how Ocba-m works"
   ]
  },
  {
   "cell_type": "markdown",
   "metadata": {},
   "source": [
    "##  Input"
   ]
  },
  {
   "cell_type": "markdown",
   "metadata": {},
   "source": [
    "**k** = total number of designs\n",
    "\n",
    "**m** = no. of top designs to select\n",
    "\n",
    "**T** = total budget (replications)\n",
    "\n",
    "**n_0** = l number of replications  (>=5)\n",
    "\n",
    "**delta** - additional budget to allocate between each simulation  \n",
    "\n",
    "*where T - k.n_0 is a multiple of delta*\n"
   ]
  },
  {
   "cell_type": "code",
   "execution_count": 9,
   "metadata": {},
   "outputs": [],
   "source": [
    "k = 10\n",
    "m = 3\n",
    "T = 2000\n",
    "n_0 = 20\n",
    "delta = 50\n",
    "\n",
    "#specific to this implementation\n",
    "ifile_name = 'data/EG1a.csv'\n",
    "reps_available = 10000"
   ]
  },
  {
   "cell_type": "markdown",
   "metadata": {},
   "source": [
    "### OCBA-m tutorial - single loop of the algorithm"
   ]
  },
  {
   "cell_type": "markdown",
   "metadata": {},
   "source": [
    "The code below illustrates the implementation of OCBA-m with a single pass of the algorithm."
   ]
  },
  {
   "cell_type": "markdown",
   "metadata": {},
   "source": [
    "## Initialise"
   ]
  },
  {
   "cell_type": "code",
   "execution_count": 10,
   "metadata": {},
   "outputs": [
    {
     "data": {
      "text/plain": [
       "array([20, 20, 20, 20, 20, 20, 20, 20, 20, 20])"
      ]
     },
     "execution_count": 10,
     "metadata": {},
     "output_type": "execute_result"
    }
   ],
   "source": [
    "allocations = np.full(k, n_0, dtype=int)\n",
    "allocations"
   ]
  },
  {
   "cell_type": "code",
   "execution_count": 11,
   "metadata": {},
   "outputs": [],
   "source": [
    "data = load_systems(ifile_name)\n",
    "systems = simulate(data, k, allocations)"
   ]
  },
  {
   "cell_type": "code",
   "execution_count": 12,
   "metadata": {},
   "outputs": [],
   "source": [
    "#sample means, standard devs and standard errors\n",
    "means = np.array([array.mean() for array in systems])"
   ]
  },
  {
   "cell_type": "code",
   "execution_count": 13,
   "metadata": {},
   "outputs": [],
   "source": [
    "stds = np.array([array.std() for array in systems])\n",
    "ses = np.divide(stds, np.sqrt(allocations))"
   ]
  },
  {
   "cell_type": "code",
   "execution_count": 14,
   "metadata": {},
   "outputs": [
    {
     "data": {
      "text/plain": [
       "array([ 0.23472479,  2.47395206,  3.72000602,  1.35755069,  6.20617173,\n",
       "        6.88773047,  6.23067599,  7.49932228, 10.66287029,  9.91920927])"
      ]
     },
     "execution_count": 14,
     "metadata": {},
     "output_type": "execute_result"
    }
   ],
   "source": [
    "means"
   ]
  },
  {
   "cell_type": "code",
   "execution_count": 15,
   "metadata": {},
   "outputs": [
    {
     "data": {
      "text/plain": [
       "array([1.32801684, 1.11880913, 1.13609333, 1.38482678, 1.2749415 ,\n",
       "       0.9565044 , 1.10723931, 1.23771302, 1.29598297, 1.07877839])"
      ]
     },
     "execution_count": 15,
     "metadata": {},
     "output_type": "execute_result"
    }
   ],
   "source": [
    "ses"
   ]
  },
  {
   "cell_type": "code",
   "execution_count": 16,
   "metadata": {},
   "outputs": [
    {
     "data": {
      "text/plain": [
       "array([0, 3, 1, 2, 4, 6, 5, 7, 9, 8])"
      ]
     },
     "execution_count": 16,
     "metadata": {},
     "output_type": "execute_result"
    }
   ],
   "source": [
    "#calculate paramater c and gammas\n",
    "\n",
    "order = np.argsort(means)\n",
    "s_ses = ses[order]\n",
    "s_means = means[order]\n",
    "\n",
    "order"
   ]
  },
  {
   "cell_type": "code",
   "execution_count": 17,
   "metadata": {},
   "outputs": [
    {
     "data": {
      "text/plain": [
       "array([ 0.23472479,  1.35755069,  2.47395206,  3.72000602,  6.20617173,\n",
       "        6.23067599,  6.88773047,  7.49932228,  9.91920927, 10.66287029])"
      ]
     },
     "execution_count": 17,
     "metadata": {},
     "output_type": "execute_result"
    }
   ],
   "source": [
    "s_means"
   ]
  },
  {
   "cell_type": "code",
   "execution_count": 18,
   "metadata": {},
   "outputs": [
    {
     "data": {
      "text/plain": [
       "array([1.32801684, 1.38482678, 1.11880913, 1.13609333, 1.2749415 ,\n",
       "       1.10723931, 0.9565044 , 1.23771302, 1.07877839, 1.29598297])"
      ]
     },
     "execution_count": 18,
     "metadata": {},
     "output_type": "execute_result"
    }
   ],
   "source": [
    "s_ses"
   ]
  },
  {
   "cell_type": "code",
   "execution_count": 19,
   "metadata": {},
   "outputs": [],
   "source": [
    "c = ((s_ses[k-m+1] * s_means[k-m]) + (s_ses[k-m] * s_means[k-m+1]))/(s_ses[k-m]+s_ses[k-m+1])  \n",
    "deltas = means - c"
   ]
  },
  {
   "cell_type": "markdown",
   "metadata": {},
   "source": [
    "calculate c "
   ]
  },
  {
   "cell_type": "code",
   "execution_count": 20,
   "metadata": {},
   "outputs": [
    {
     "data": {
      "text/plain": [
       "8.79228008028293"
      ]
     },
     "execution_count": 20,
     "metadata": {},
     "output_type": "execute_result"
    }
   ],
   "source": [
    "c"
   ]
  },
  {
   "cell_type": "code",
   "execution_count": 21,
   "metadata": {},
   "outputs": [
    {
     "data": {
      "text/plain": [
       "array([-8.55755529, -6.31832802, -5.07227406, -7.43472939, -2.58610835,\n",
       "       -1.90454961, -2.56160409, -1.2929578 ,  1.87059021,  1.12692919])"
      ]
     },
     "execution_count": 21,
     "metadata": {},
     "output_type": "execute_result"
    }
   ],
   "source": [
    "deltas"
   ]
  },
  {
   "cell_type": "markdown",
   "metadata": {},
   "source": [
    "## Allocate "
   ]
  },
  {
   "cell_type": "markdown",
   "metadata": {},
   "source": [
    "allocate additional budget **delta**"
   ]
  },
  {
   "cell_type": "markdown",
   "metadata": {},
   "source": [
    "Procedure:\n",
    "\n",
    "1. calculate ratio N_i/(se_i /gamma_i)^2\n",
    "\n",
    "2. while additional budget delta is available\n",
    "\n",
    "    2.1 rank\n",
    "\n",
    "    2.2 add 1 to smallest \n",
    "\n",
    "    2.3 delta =- 1\n"
   ]
  },
  {
   "cell_type": "code",
   "execution_count": 22,
   "metadata": {},
   "outputs": [
    {
     "data": {
      "text/plain": [
       "array([830.46676932, 637.85553686, 398.66434303, 576.46031991,\n",
       "        82.28921438,  79.29405612, 107.04614289,  21.82522735,\n",
       "        41.66666274,  21.82522735])"
      ]
     },
     "execution_count": 22,
     "metadata": {},
     "output_type": "execute_result"
    }
   ],
   "source": [
    "values = np.divide(allocations, np.square(np.divide(ses, deltas)))\n",
    "values"
   ]
  },
  {
   "cell_type": "code",
   "execution_count": 23,
   "metadata": {},
   "outputs": [
    {
     "data": {
      "text/plain": [
       "array([830.46676932, 637.85553686, 398.66434303, 576.46031991,\n",
       "        82.28921438,  79.29405612, 107.04614289,  48.01550016,\n",
       "        47.91666215,  46.92423879])"
      ]
     },
     "execution_count": 23,
     "metadata": {},
     "output_type": "execute_result"
    }
   ],
   "source": [
    "\n",
    "for i in range(delta):\n",
    "\n",
    "    ranks = get_ranks(values)\n",
    "    allocations[ranks.argmin()] += 1\n",
    "    #recalculate values.\n",
    "    values = np.divide(allocations, np.square(np.divide(ses, deltas)))\n",
    "\n",
    "values"
   ]
  },
  {
   "cell_type": "code",
   "execution_count": 24,
   "metadata": {},
   "outputs": [
    {
     "data": {
      "text/plain": [
       "array([20, 20, 20, 20, 20, 20, 20, 44, 23, 43])"
      ]
     },
     "execution_count": 24,
     "metadata": {},
     "output_type": "execute_result"
    }
   ],
   "source": [
    "allocations"
   ]
  },
  {
   "cell_type": "markdown",
   "metadata": {},
   "source": [
    "## Simulate"
   ]
  },
  {
   "cell_type": "markdown",
   "metadata": {
    "collapsed": true
   },
   "source": [
    "Simulate the next stage..."
   ]
  },
  {
   "cell_type": "code",
   "execution_count": 25,
   "metadata": {},
   "outputs": [
    {
     "name": "stdout",
     "output_type": "stream",
     "text": [
      "[ 0.          0.          0.          0.          0.          0.\n",
      "  0.          0.05010138 -0.2985994  -0.03664751]\n"
     ]
    }
   ],
   "source": [
    "systems = simulate(data, k, allocations)\n",
    "means2 = np.array([array.mean() for array in systems])\n",
    "print(np.subtract(means2, means))\n"
   ]
  },
  {
   "cell_type": "code",
   "execution_count": 26,
   "metadata": {},
   "outputs": [],
   "source": [
    "means = means2"
   ]
  },
  {
   "cell_type": "markdown",
   "metadata": {},
   "source": [
    "and continue looping until budget is all used up..."
   ]
  },
  {
   "cell_type": "markdown",
   "metadata": {},
   "source": [
    "### Full Implementation "
   ]
  },
  {
   "cell_type": "code",
   "execution_count": 27,
   "metadata": {},
   "outputs": [],
   "source": [
    "@jit(nopython=True)\n",
    "def summary_statistics(systems, allocations):\n",
    "    means = np.array([array.mean() for array in systems])\n",
    "    stds = np.array([array.std() for array in systems])\n",
    "    ses = np.divide(stds, np.sqrt(allocations))\n",
    "    \n",
    "    return means, ses"
   ]
  },
  {
   "cell_type": "code",
   "execution_count": 28,
   "metadata": {},
   "outputs": [],
   "source": [
    "def top_m(means, m):\n",
    "    \"\"\"\n",
    "    Returns the top m system designs\n",
    "    \"\"\"\n",
    "    ranks = get_ranks(means)\n",
    "    return np.argpartition(ranks, -m)[-m:]\n",
    "     "
   ]
  },
  {
   "cell_type": "code",
   "execution_count": 29,
   "metadata": {},
   "outputs": [],
   "source": [
    "@jit(nopython=True)\n",
    "def parameter_c(means, ses, k, m):\n",
    "    order = np.argsort(means)\n",
    "    s_ses = ses[order]\n",
    "    s_means = means[order]\n",
    "\n",
    "    return((s_ses[k-m+1] * s_means[k-m]) + (s_ses[k-m] * s_means[k-m+1]))/(s_ses[k-m]+s_ses[k-m+1])  "
   ]
  },
  {
   "cell_type": "code",
   "execution_count": 30,
   "metadata": {},
   "outputs": [],
   "source": [
    "def ocba_m(dataset, k, allocations, T, delta):\n",
    "    while allocations.sum() < T:\n",
    "        \n",
    "               \n",
    "        #simulate systems using new allocation of budget\n",
    "        reps = simulate(dataset, k, allocations) \n",
    "        \n",
    "        #calculate sample means and standard errors\n",
    "        means, ses = summary_statistics(reps, allocations)\n",
    "        \n",
    "        #calculate parameter c and deltas\n",
    "        c = parameter_c(means, ses, k, m)\n",
    "        deltas = means - c\n",
    "        \n",
    "        #allocate\n",
    "        \n",
    "        for i in range(delta):\n",
    "            values = np.divide(allocations, np.square(np.divide(ses, deltas)))\n",
    "            ranks = get_ranks(values)\n",
    "            allocations[ranks.argmin()] += 1\n",
    "            \n",
    "        \n",
    "    return means, ses, allocations"
   ]
  },
  {
   "cell_type": "code",
   "execution_count": 31,
   "metadata": {},
   "outputs": [],
   "source": [
    "def cs(selected_top_m, true_top_m):\n",
    "    \"\"\"\n",
    "    Returns boolean value.  \n",
    "    True = correct selection of top m\n",
    "    False = incorrect selection (one or more of selected top m is incorrect)\n",
    "    \n",
    "    @selected_top_m - numpy.array containing the indexes of the top m means selected by the algorithm\n",
    "    @true_top_m - numpy.array containing the indexes of the true top m means\n",
    "    \n",
    "    \"\"\"\n",
    "    return np.array_equal(np.sort(selected_top_m), true_top_m)"
   ]
  },
  {
   "cell_type": "code",
   "execution_count": 32,
   "metadata": {},
   "outputs": [],
   "source": [
    "def oc(true_means, selected_top_m, true_top_m):\n",
    "    \"\"\"\n",
    "    Return the opportunity cost of the selection\n",
    "    Method penalised particular bad solutions more than mildly bad\n",
    "    \n",
    "    @true_means - numpy.array of true means\n",
    "    @selected_top_m - numpy.array containing the indexes of the top m means selected by the algorithm\n",
    "    @true_top_m - numpy.array containing the indexes of the true top m means\n",
    "    \n",
    "    \"\"\"\n",
    "    return (true_means[selected_top_m] - true_means[true_top_m]).sum()"
   ]
  },
  {
   "cell_type": "code",
   "execution_count": 33,
   "metadata": {},
   "outputs": [],
   "source": [
    "def p_cs(correct_selections):\n",
    "    \"\"\"\n",
    "    Returns the probability of correct selection P{cs}\n",
    "    \n",
    "    @correct_selections - list indicating if a given budget found the top m e.g. [False, True, True]\n",
    "    \"\"\"\n",
    "    return np.array(correct_selections).sum() / len(correct_selections)"
   ]
  },
  {
   "cell_type": "code",
   "execution_count": 34,
   "metadata": {},
   "outputs": [],
   "source": [
    "def p_cs2(correct_selections):\n",
    "    \"\"\"\n",
    "    Returns the probability of correct selection P{cs}\n",
    "    \n",
    "    @correct_selections - numpy.array of budget versus exp. Contains True or False indicating correct selection.\n",
    "    \n",
    "    \"\"\"\n",
    "    return np.mean(correct_selections, axis=1)"
   ]
  },
  {
   "cell_type": "code",
   "execution_count": 35,
   "metadata": {},
   "outputs": [],
   "source": [
    "def e_oc(opportunity_costs):\n",
    "    \"\"\"\n",
    "    Return the expected opportunity cost E{oc}\n",
    "    \n",
    "    @opportunity costs - arrange of opportunity cost per budget\n",
    "    \"\"\"\n",
    "    return np.array(opportunity_costs).mean()"
   ]
  },
  {
   "cell_type": "code",
   "execution_count": 36,
   "metadata": {},
   "outputs": [],
   "source": [
    "def e_oc2(opportunity_costs):\n",
    "    \"\"\"\n",
    "    Return the expected opportunity cost E{oc}\n",
    "    \n",
    "    @opportunity costs - arrange of opportunity cost per budget\n",
    "    \"\"\"\n",
    "    return np.mean(opportunity_costs, axis=0)"
   ]
  },
  {
   "cell_type": "markdown",
   "metadata": {},
   "source": [
    "# Numerical test - single experiment"
   ]
  },
  {
   "cell_type": "code",
   "execution_count": 72,
   "metadata": {},
   "outputs": [],
   "source": [
    "k = 10\n",
    "m = 3\n",
    "T = 5000\n",
    "n_0 = 20\n",
    "delta = 50\n",
    "\n",
    "#specific to this implementation\n",
    "ifile_name = 'data/EG1a_CRN.csv'\n",
    "reps_available = 10000\n",
    "\n",
    "#info for correct selection\n",
    "true_top_m = np.array([7, 8, 9])\n",
    "\n",
    "true_means = np.arange(1, 11)\n",
    "\n",
    "\n",
    "#incremental budgets 200, 400, .... T\n",
    "budgets = [i for i in range(600, T + 200, 200)]\n",
    "#budgets = [1400]  # this hack means we only run all experiments for one budget - 1000"
   ]
  },
  {
   "cell_type": "markdown",
   "metadata": {},
   "source": [
    "### Create Experimental Data#"
   ]
  },
  {
   "cell_type": "markdown",
   "metadata": {},
   "source": [
    "Independent samples"
   ]
  },
  {
   "cell_type": "code",
   "execution_count": 38,
   "metadata": {},
   "outputs": [
    {
     "data": {
      "text/plain": [
       "(20, 10, 10000)"
      ]
     },
     "execution_count": 38,
     "metadata": {},
     "output_type": "execute_result"
    }
   ],
   "source": [
    "data = np.genfromtxt(ifile_name, delimiter=\",\", skip_footer=0).transpose()\n",
    "\n",
    "data.shape\n",
    "\n",
    "experiments = bootstrap(data, boots = 20)\n",
    "\n",
    "experiments.shape"
   ]
  },
  {
   "cell_type": "markdown",
   "metadata": {},
   "source": [
    "### Create CRN data sets"
   ]
  },
  {
   "cell_type": "code",
   "execution_count": 101,
   "metadata": {},
   "outputs": [
    {
     "data": {
      "text/plain": [
       "(100, 10, 10000)"
      ]
     },
     "execution_count": 101,
     "metadata": {},
     "output_type": "execute_result"
    }
   ],
   "source": [
    "data = np.genfromtxt(ifile_name, delimiter=\",\", skip_footer=0).transpose()\n",
    "\n",
    "data.shape\n",
    "\n",
    "experiments = crn_bootstrap(data, boots = 100)\n",
    "\n",
    "experiments.shape"
   ]
  },
  {
   "cell_type": "markdown",
   "metadata": {},
   "source": [
    "### Run experiment"
   ]
  },
  {
   "cell_type": "code",
   "execution_count": 104,
   "metadata": {},
   "outputs": [],
   "source": [
    "def numerical_experiment(experiments, budgets):\n",
    "    \"\"\"\n",
    "    Conduct a user set number of numerical experiments on the algorithm\n",
    "    for different computational budgets\n",
    "    \n",
    "    Returns:\n",
    "    1. numpy.array containing P{cs} for each budget\n",
    "    2. numpy.array containing E{oc} for each budget\n",
    "    \n",
    "    @experiments numpy.array[experiments][designs][replication]\n",
    "    @budgets python.list containing budgets\n",
    "    \n",
    "    \"\"\"\n",
    "    \n",
    "    n_experiments = experiments.shape[0]\n",
    "    k = experiments.shape[1]\n",
    "    #top_m_list = []\n",
    "    #allocation_list = []\n",
    "    #means_list = []\n",
    "    \n",
    "    correct_selections = np.zeros((n_experiments, len(budgets)))\n",
    "    opportunity_costs = np.zeros((n_experiments, len(budgets)))\n",
    "\n",
    "    for exp in range(n_experiments):\n",
    "\n",
    "        for t in range(len(budgets)):\n",
    "\n",
    "            allocations = np.full(k, n_0, dtype=int)\n",
    "                        \n",
    "            means, ses, allocations = ocba_m(experiments[exp], k, allocations, budgets[t], delta)\n",
    "            selected_top_m = top_m(means, m)\n",
    "            \n",
    "            #diagnostic code - can be removed when fixed.\n",
    "            #means_list.append(means)\n",
    "            #allocation_list.append(allocations)\n",
    "            #top_m_list.append(selected_top_m)\n",
    "            correct_selections[exp][t] = cs(selected_top_m, true_top_m)\n",
    "            opportunity_costs[exp][t] = oc(true_means, selected_top_m, true_top_m)\n",
    "\n",
    "    #can reduce number of returns when bug found\n",
    "    return correct_selections, opportunity_costs"
   ]
  },
  {
   "cell_type": "code",
   "execution_count": 111,
   "metadata": {},
   "outputs": [],
   "source": [
    "css, ocs = numerical_experiment(experiments, budgets)"
   ]
  },
  {
   "cell_type": "code",
   "execution_count": 76,
   "metadata": {},
   "outputs": [],
   "source": [
    "#df = pd.DataFrame(css)\n",
    "#df[\"select\"] = top_m_list\n",
    "#df[\"allocations\"] = allocation_list\n",
    "#df[\"means_list\"] = np.around(means_list, decimals=4).tolist()\n",
    "#df.head()"
   ]
  },
  {
   "cell_type": "code",
   "execution_count": 77,
   "metadata": {},
   "outputs": [],
   "source": [
    "#print(\"top m: {0}\".format(df[0:1][\"select\"].tolist()))\n",
    "#print(\"Means selected: {0}\".format(df[0:1][\"means_list\"].tolist()))\n",
    "#print(\"Allocations: {0}\".format(df[0:1][\"allocations\"].tolist()))"
   ]
  },
  {
   "cell_type": "code",
   "execution_count": 112,
   "metadata": {},
   "outputs": [
    {
     "data": {
      "text/plain": [
       "[]"
      ]
     },
     "execution_count": 112,
     "metadata": {},
     "output_type": "execute_result"
    },
    {
     "data": {
      "image/png": "[encoded data removed]",
      "text/plain": [
       "<Figure size 720x432 with 1 Axes>"
      ]
     },
     "metadata": {},
     "output_type": "display_data"
    }
   ],
   "source": [
    "fig = plt.figure(figsize=(10,6))\n",
    "ax = pd.DataFrame(css, columns=budgets).mean(axis=0).plot(style='.-', ms=15)\n",
    "ax.set_ylabel(\"P{CS}\")\n",
    "ax.set_xlabel(\"Budget (max no. replications)\")\n",
    "ax.set_xticks(ticks = [i for i in range(200, 8000, 200)])\n",
    "\n",
    "ax.plot()"
   ]
  },
  {
   "cell_type": "code",
   "execution_count": 108,
   "metadata": {},
   "outputs": [
    {
     "data": {
      "text/plain": [
       "[]"
      ]
     },
     "execution_count": 108,
     "metadata": {},
     "output_type": "execute_result"
    },
    {
     "data": {
      "image/png": "[encoded data removed]",
      "text/plain": [
       "<Figure size 720x432 with 1 Axes>"
      ]
     },
     "metadata": {},
     "output_type": "display_data"
    }
   ],
   "source": [
    "fig = plt.figure(figsize=(10,6))\n",
    "ax = pd.DataFrame(ocs, columns=budgets).mean(axis=0).plot(style='.-', ms=15)\n",
    "ax.set_ylabel(\"E{OC}\")\n",
    "ax.set_xlabel(\"Budget (max no. replications)\")\n",
    "ax.set_xticks(ticks = [i for i in range(200, 8000, 200)])\n",
    "\n",
    "ax.plot()"
   ]
  },
  {
   "cell_type": "code",
   "execution_count": null,
   "metadata": {
    "collapsed": true
   },
   "outputs": [],
   "source": []
  }
 ],
 "metadata": {
  "kernelspec": {
   "display_name": "Python 3",
   "language": "python",
   "name": "python3"
  },
  "language_info": {
   "codemirror_mode": {
    "name": "ipython",
    "version": 3
   },
   "file_extension": ".py",
   "mimetype": "text/x-python",
   "name": "python",
   "nbconvert_exporter": "python",
   "pygments_lexer": "ipython3",
   "version": "3.7.0"
  }
 },
 "nbformat": 4,
 "nbformat_minor": 2
}
