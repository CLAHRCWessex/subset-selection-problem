{
 "cells": [
  {
   "cell_type": "markdown",
   "metadata": {},
   "source": [
    "# Comparison of BootComp against OBCA-m on single objective problems\n",
    "This notebook implements the **OCBA-m** algorithm."
   ]
  },
  {
   "cell_type": "markdown",
   "metadata": {},
   "source": [
    "Source of algorithm. Chen et al. (2008) \n",
    "\n",
    "**Efficient Simulation Budget Allocation for Selecting an Optimal Subset**\n",
    "\n",
    "https://pubsonline.informs.org/doi/pdf/10.1287/ijoc.1080.0268\n",
    "\n",
    "---\n",
    "\n",
    "# **Parameter to help reproducibility test**\n",
    "This version of the notebook has been modified to help with reproducing the results reporting in the paper.\n",
    "\n",
    "> Advice: the parameter `N_EXPERIMENTS` controls the total number of times that the analysis is repeated.  Runtimes can take several hours for large values. It is recommended that a small number is tested initially (e.g. 10) to ensure that notebook runs all the way through without crashing and wasting computation time.  The parameter `PLOT_BC_COMPARISON` will create basic reproducition of figure 2 plot from the paper. Note this is relies on data the bootcomp experimental results being available the `./results` directory."
   ]
  },
  {
   "cell_type": "code",
   "execution_count": null,
   "metadata": {},
   "outputs": [],
   "source": [
    "#In the paper we ran 10,000 experiments for each replication budget.\n",
    "N_EXPERIMENTS = 10_000"
   ]
  },
  {
   "cell_type": "code",
   "execution_count": null,
   "metadata": {},
   "outputs": [],
   "source": [
    "#plot figure 2 after the current batch of experiments.\n",
    "PLOT_BC_COMPARISON = True"
   ]
  },
  {
   "cell_type": "markdown",
   "metadata": {},
   "source": [
    "---"
   ]
  },
  {
   "cell_type": "code",
   "execution_count": 3,
   "metadata": {},
   "outputs": [],
   "source": [
    "import pandas as pd\n",
    "import numpy as np\n",
    "from numba import jit\n",
    "import matplotlib.pyplot as plt\n",
    "import seaborn as sns\n",
    "%matplotlib inline"
   ]
  },
  {
   "cell_type": "markdown",
   "metadata": {},
   "source": [
    "## Utility funcs"
   ]
  },
  {
   "cell_type": "code",
   "execution_count": 4,
   "metadata": {},
   "outputs": [],
   "source": [
    "def load_system(file_name, system, reps, reps_available, delim=','):\n",
    "    \"\"\"\n",
    "    Reads system data from a txt file (assumes comma delimited by default).  \n",
    "    Assumes that each column represents a system.\n",
    "    Returns a numpy array.  Each row is a system (single row); each col is a replication\n",
    "    \n",
    "    \n",
    "    @file_name = name of file containing csv data\n",
    "    @system = index of system in txt file.\n",
    "    @reps = replications wanted\n",
    "    @reps_available = total number of replications that has been simulated.\n",
    "    @delim = delimiter of file.  Default = ',' for CSV.  \n",
    "\n",
    "    \"\"\"\n",
    "    \n",
    "    return np.genfromtxt(file_name, delimiter=delim, usecols = system, skip_footer = (reps_available - reps))"
   ]
  },
  {
   "cell_type": "code",
   "execution_count": 5,
   "metadata": {},
   "outputs": [],
   "source": [
    "def simulate(data, k, allocations):\n",
    "    \"\"\"\n",
    "    Simulates the systems.  \n",
    "    Each system is allocated a different budget of replications\n",
    "    \n",
    "    Returns list of numpy arrays\n",
    "    \n",
    "    @allocations = numpy array.  budget of replications for the k systems \n",
    "    \"\"\"\n",
    "    return [data[i][0:allocations[i]] for i in range(k)]\n",
    "    "
   ]
  },
  {
   "cell_type": "code",
   "execution_count": 6,
   "metadata": {},
   "outputs": [],
   "source": [
    "def get_ranks(array):\n",
    "    \"\"\"\n",
    "    Returns a numpy array containing ranks of numbers within a input numpy array\n",
    "    e.g. [3, 2, 1] returns [2, 1, 0]\n",
    "    e.g. [3, 2, 1, 4] return [2, 1, 0, 3]\n",
    "        \n",
    "    @array - numpy array (only tested with 1d)\n",
    "        \n",
    "    \"\"\"\n",
    "    temp = array.argsort()\n",
    "    ranks = np.empty_like(temp)\n",
    "    ranks[temp] = np.arange(len(array))\n",
    "    return ranks"
   ]
  },
  {
   "cell_type": "code",
   "execution_count": 7,
   "metadata": {},
   "outputs": [],
   "source": [
    "#@jit(nopython=True)\n",
    "def bootstrap(data, boots=1000, random_state=None):\n",
    "    \"\"\"\n",
    "    Returns a numpy array containing the bootstrap resamples\n",
    "    Useful for creating a large number of experimental datasets \n",
    "    for testing R&S routines\n",
    "    \n",
    "    Keyword arguments:\n",
    "    data -- numpy.ndarray of systems to boostrap\n",
    "    boots -- integer number of bootstraps (default = 1000)\n",
    "    random_state -- int, set the numpy random number generator\n",
    "    \"\"\"\n",
    "    \n",
    "    np.random.seed(random_state)\n",
    "    experiments = boots\n",
    "    designs = 10\n",
    "    samples = data.shape[1]\n",
    "     \n",
    "    datasets = np.zeros((experiments, designs, samples))\n",
    "     \n",
    "    for exp in range(experiments):\n",
    "        \n",
    "        for design in range(designs):\n",
    "\n",
    "            for i in range(samples):\n",
    "\n",
    "                datasets[exp][design][i] = data[design][round(np.random.uniform(0, samples)-1)]\n",
    "      \n",
    "    return datasets"
   ]
  },
  {
   "cell_type": "code",
   "execution_count": 8,
   "metadata": {},
   "outputs": [],
   "source": [
    "#@jit(nopython=True)\n",
    "def crn_bootstrap(data, boots=1000, random_state=None):\n",
    "    \"\"\"\n",
    "    Returns a numpy array containing the bootstrap resamples\n",
    "    Useful for creating a large number of experimental datasets \n",
    "    for testing R&S routines.  This function assumes common\n",
    "    random numbers have been used to create the original data.\n",
    "    \n",
    "    Keyword arguments\n",
    "    data -- numpy.ndarray of systems to boostrap\n",
    "    boots -- integer number of bootstraps (default = 1000)\n",
    "    random_state -- int, set the numpy random number generator\n",
    "    \"\"\"\n",
    "    \n",
    "    np.random.seed(random_state)\n",
    "\n",
    "    experiments = boots\n",
    "    designs = data.shape[0]\n",
    "    samples = data.shape[1]\n",
    "    \n",
    "    datasets = np.zeros((experiments, designs, samples))\n",
    "     \n",
    "    for exp in range(experiments):\n",
    "        \n",
    "         for i in range(samples):\n",
    "\n",
    "                row = data.T[np.random.choice(data.shape[0])]\n",
    "                \n",
    "                for design in range(designs):\n",
    "                    datasets[exp][design][i] = row[design]  \n",
    "      \n",
    "    return datasets"
   ]
  },
  {
   "cell_type": "markdown",
   "metadata": {},
   "source": [
    "# Walk through of how Ocba-m works"
   ]
  },
  {
   "cell_type": "markdown",
   "metadata": {},
   "source": [
    "##  Input"
   ]
  },
  {
   "cell_type": "markdown",
   "metadata": {},
   "source": [
    "**k** = total number of designs\n",
    "\n",
    "**m** = no. of top designs to select\n",
    "\n",
    "**T** = total budget (replications)\n",
    "\n",
    "**n_0** = l number of replications  (>=5)\n",
    "\n",
    "**delta** - additional budget to allocate between each simulation  \n",
    "\n",
    "*where T - k.n_0 is a multiple of delta*\n"
   ]
  },
  {
   "cell_type": "markdown",
   "metadata": {},
   "source": [
    "### Full Implementation "
   ]
  },
  {
   "cell_type": "code",
   "execution_count": 9,
   "metadata": {},
   "outputs": [],
   "source": [
    "@jit(nopython=True)\n",
    "def summary_statistics(systems, allocations):\n",
    "    means = np.array([array.mean() for array in systems])\n",
    "    stds = np.array([array.std() for array in systems])\n",
    "    ses = np.divide(stds, np.sqrt(allocations))\n",
    "    \n",
    "    return means, ses"
   ]
  },
  {
   "cell_type": "code",
   "execution_count": 10,
   "metadata": {},
   "outputs": [],
   "source": [
    "def top_m(means, m):\n",
    "    \"\"\"\n",
    "    Returns the top m system designs\n",
    "    Largest sample means\n",
    "    \"\"\"\n",
    "    ranks = get_ranks(means)\n",
    "    return np.argpartition(ranks, -m)[-m:]"
   ]
  },
  {
   "cell_type": "code",
   "execution_count": 11,
   "metadata": {},
   "outputs": [],
   "source": [
    "def bottom_m(means, m):\n",
    "    \"\"\"\n",
    "    Returns the bottom m system designs\n",
    "    Smallest sample means\n",
    "    \"\"\"\n",
    "    ranks = get_ranks(means)\n",
    "    return np.argpartition(ranks, m)[:m]"
   ]
  },
  {
   "cell_type": "code",
   "execution_count": 12,
   "metadata": {},
   "outputs": [],
   "source": [
    "@jit(nopython=True)\n",
    "def parameter_c(means, ses, k, m):\n",
    "    order = np.argsort(means)\n",
    "    s_ses = ses[order]\n",
    "    s_means = means[order]\n",
    "\n",
    "    return((s_ses[k-m+1] * s_means[k-m]) + (s_ses[k-m] * s_means[k-m+1]))/(s_ses[k-m]+s_ses[k-m+1])  "
   ]
  },
  {
   "cell_type": "code",
   "execution_count": 13,
   "metadata": {},
   "outputs": [],
   "source": [
    "def ocba_m(dataset, k, allocations, T, delta, m):\n",
    "    \n",
    "    while allocations.sum() < T:\n",
    "        \n",
    "        #simulate systems using new allocation of budget\n",
    "        reps = simulate(dataset, k, allocations) \n",
    "        \n",
    "        #calculate sample means and standard errors\n",
    "        means, ses = summary_statistics(reps, allocations)\n",
    "        \n",
    "        #calculate parameter c and deltas\n",
    "        c = parameter_c(means, ses, k, m)\n",
    "        deltas = means - c\n",
    "        \n",
    "        #allocate\n",
    "        for i in range(delta):\n",
    "            values = np.divide(allocations, np.square(np.divide(ses, deltas)))\n",
    "            ranks = get_ranks(values)\n",
    "            allocations[ranks.argmin()] += 1\n",
    "            \n",
    "    return means, ses, allocations"
   ]
  },
  {
   "cell_type": "code",
   "execution_count": 14,
   "metadata": {},
   "outputs": [],
   "source": [
    "def cs(selected_top_m, true_top_m):\n",
    "    \"\"\"\n",
    "    Returns boolean value.  \n",
    "    True = correct selection of top m\n",
    "    False = incorrect selection (one or more of selected top m is incorrect)\n",
    "    \n",
    "    Keyword arguments:\n",
    "    selected_top_m - numpy.array containing the indexes of the top m means selected by the algorithm\n",
    "    true_top_m - numpy.array containing the indexes of the true top m means\n",
    "    \n",
    "    \"\"\"\n",
    "    return np.array_equal(np.sort(selected_top_m), true_top_m)"
   ]
  },
  {
   "cell_type": "code",
   "execution_count": 15,
   "metadata": {},
   "outputs": [],
   "source": [
    "def oc(true_means, selected_top_m, true_top_m):\n",
    "    \"\"\"\n",
    "    Return the opportunity cost of the selection\n",
    "    Method penalised particular bad solutions more than mildly bad\n",
    "    \n",
    "    @true_means - numpy.array of true means\n",
    "    @selected_top_m - numpy.array containing the indexes of the top m means selected by the algorithm\n",
    "    @true_top_m - numpy.array containing the indexes of the true top m means\n",
    "    \n",
    "    \"\"\"\n",
    "    return (true_means[selected_top_m] - true_means[true_top_m]).sum()"
   ]
  },
  {
   "cell_type": "code",
   "execution_count": 16,
   "metadata": {},
   "outputs": [],
   "source": [
    "def p_cs(correct_selections):\n",
    "    \"\"\"\n",
    "    Returns the probability of correct selection P{cs}\n",
    "    Keyword arguments:\n",
    "    \n",
    "    correct_selections - list indicating if a given budget found the top m e.g. [False, True, True]\n",
    "    \"\"\"\n",
    "    return np.array(correct_selections).sum() / len(correct_selections)"
   ]
  },
  {
   "cell_type": "code",
   "execution_count": 17,
   "metadata": {},
   "outputs": [],
   "source": [
    "def p_cs2(correct_selections):\n",
    "    \"\"\"\n",
    "    Returns the probability of correct selection P{cs}\n",
    "    \n",
    "    @correct_selections - numpy.array of budget versus exp. Contains True or False indicating correct selection.\n",
    "    \n",
    "    \"\"\"\n",
    "    return np.mean(correct_selections, axis=1)"
   ]
  },
  {
   "cell_type": "code",
   "execution_count": 18,
   "metadata": {},
   "outputs": [],
   "source": [
    "def e_oc(opportunity_costs):\n",
    "    \"\"\"\n",
    "    Return the expected opportunity cost E{oc}\n",
    "    \n",
    "    @opportunity costs - arrange of opportunity cost per budget\n",
    "    \"\"\"\n",
    "    return np.array(opportunity_costs).mean()"
   ]
  },
  {
   "cell_type": "code",
   "execution_count": 19,
   "metadata": {},
   "outputs": [],
   "source": [
    "def e_oc2(opportunity_costs):\n",
    "    \"\"\"\n",
    "    Return the expected opportunity cost E{oc}\n",
    "    \n",
    "    @opportunity costs - arrange of opportunity cost per budget\n",
    "    \"\"\"\n",
    "    return np.mean(opportunity_costs, axis=0)"
   ]
  },
  {
   "cell_type": "markdown",
   "metadata": {},
   "source": [
    "# Numerical test - single experiment"
   ]
  },
  {
   "cell_type": "markdown",
   "metadata": {},
   "source": [
    "### Create Experimental Data"
   ]
  },
  {
   "cell_type": "markdown",
   "metadata": {},
   "source": [
    "#### Use the following code to create independent samples"
   ]
  },
  {
   "cell_type": "code",
   "execution_count": 20,
   "metadata": {},
   "outputs": [],
   "source": [
    "def experiments_independent_samples(ifile_name, boots=1000, random_state=None):\n",
    "    data = np.genfromtxt(ifile_name, delimiter=\",\", skip_footer=0).transpose()\n",
    "    experiments = bootstrap(data, boots=boots, random_state=random_state)\n",
    "    return experiments"
   ]
  },
  {
   "cell_type": "markdown",
   "metadata": {},
   "source": [
    "#### Use the following code to create CRN data sets"
   ]
  },
  {
   "cell_type": "code",
   "execution_count": 21,
   "metadata": {},
   "outputs": [],
   "source": [
    "def experiments_dependent_samples(ifile_name, boots=1000, random_state=None):\n",
    "    data = np.genfromtxt(ifile_name, delimiter=\",\", skip_footer=0).transpose()\n",
    "    experiments = crn_bootstrap(data, boots=boots, random_state=random_state)\n",
    "    return experiments"
   ]
  },
  {
   "cell_type": "markdown",
   "metadata": {},
   "source": [
    "Use the `numerical_experiment()` function to run experiments of OBCA-m across multiple experimental datasets and budgets.\n",
    "\n",
    "For example, you may have 100 datasets to test across budgets of 1000, 2000, 3000 and 4000 replications."
   ]
  },
  {
   "cell_type": "code",
   "execution_count": 22,
   "metadata": {},
   "outputs": [],
   "source": [
    "def numerical_experiment(experiments, budgets, delta, true_top_m, n_0,\n",
    "                         opt='max'):\n",
    "    \"\"\"\n",
    "    Conduct a user set number of numerical experiments on the algorithm\n",
    "    for different computational budgets\n",
    "    \n",
    "    Returns:\n",
    "    1. numpy.array containing P{cs} for each budget\n",
    "    2. numpy.array containing E{oc} for each budget\n",
    "    \n",
    "    Keyword arguments:\n",
    "    experiments -- numpy.array[experiments][designs][replication]\n",
    "    budgets -- python.list containing budgets\n",
    "    delta - maximum amount of budget to allocate per run. \n",
    "    true_top_m -- top m (i.e. the systems that should be returned)\n",
    "    n_0 -- initial number of replications per system\n",
    "    \n",
    "    \"\"\"\n",
    "    n_experiments = experiments.shape[0]\n",
    "    k = experiments.shape[1]\n",
    "    m = true_top_m.shape[0]\n",
    "        \n",
    "    correct_selections = np.zeros((n_experiments, len(budgets)))\n",
    "    opportunity_costs = np.zeros((n_experiments, len(budgets)))\n",
    "\n",
    "    for exp in range(n_experiments):\n",
    "\n",
    "        for t in range(len(budgets)):\n",
    "\n",
    "            allocations = np.full(k, n_0, dtype=int)\n",
    "                        \n",
    "            means, ses, allocations = ocba_m(experiments[exp], k, \n",
    "                                             allocations, budgets[t], \n",
    "                                             delta, m)\n",
    "            \n",
    "            \n",
    "            if opt == 'max':\n",
    "                selected_top_m = top_m(means, m)\n",
    "            else:\n",
    "                selected_top_m= bottom_m(means, m)\n",
    "\n",
    "            correct_selections[exp][t] = cs(selected_top_m, true_top_m)\n",
    "            \n",
    "    return correct_selections"
   ]
  },
  {
   "cell_type": "markdown",
   "metadata": {},
   "source": [
    "# Experiments for CRN data"
   ]
  },
  {
   "cell_type": "code",
   "execution_count": 23,
   "metadata": {},
   "outputs": [],
   "source": [
    "def get_budgets(max_t, min_t, increment_t):\n",
    "    #incremental budgets 200, 400, .... T\n",
    "    budgets = [i for i in range(min_t, max_t + increment_t, increment_t)]\n",
    "    return budgets"
   ]
  },
  {
   "cell_type": "code",
   "execution_count": 24,
   "metadata": {},
   "outputs": [],
   "source": [
    "def experiment_1():\n",
    "    T = 5000\n",
    "    increment_t = 200\n",
    "    min_budget = 600\n",
    "    n_0 = 20\n",
    "    delta = 50\n",
    "    seed = 101\n",
    "    \n",
    "    ####################################\n",
    "    # Set this parameter to determine no. of sample/runs\n",
    "    n_experiments = N_EXPERIMENTS\n",
    "    ####################################\n",
    "\n",
    "    #data file for this experiment.\n",
    "    ifile_name = 'data/EG1a_CRN.csv'\n",
    "\n",
    "    #info for correct selection\n",
    "    true_top_m = np.array([7, 8, 9])\n",
    "\n",
    "    #incremental budgets 200, 400, .... T\n",
    "    budgets = get_budgets(T, min_budget, increment_t)\n",
    "    \n",
    "    #generate experimental dataset\n",
    "    experiments = experiments_dependent_samples(ifile_name, \n",
    "                                                boots=n_experiments,\n",
    "                                                random_state=seed)\n",
    "    \n",
    "    #run numerical experiment\n",
    "    css = numerical_experiment(experiments, budgets, delta, true_top_m, n_0)\n",
    "    \n",
    "    return css"
   ]
  },
  {
   "cell_type": "code",
   "execution_count": 25,
   "metadata": {},
   "outputs": [],
   "source": [
    "def experiment_1a_No_CRN():\n",
    "    T = 5000\n",
    "    increment_t = 200\n",
    "    min_budget = 600\n",
    "    n_0 = 20\n",
    "    delta = 50\n",
    "    seed = 101\n",
    "    \n",
    "    ####################################\n",
    "    # Set this parameter to determine no. of sample/runs\n",
    "    n_experiments = N_EXPERIMENTS\n",
    "    ####################################\n",
    "\n",
    "    #data file for this experiment.\n",
    "    ifile_name = 'data/EG1a_CRN.csv'\n",
    "\n",
    "    #info for correct selection\n",
    "    true_top_m = np.array([7, 8, 9])\n",
    "\n",
    "    #incremental budgets 200, 400, .... T\n",
    "    budgets = get_budgets(T, min_budget, increment_t)\n",
    "    \n",
    "    #generate experimental dataset\n",
    "    experiments = experiments_independent_samples(ifile_name, \n",
    "                                                  boots=n_experiments,\n",
    "                                                  random_state=seed)\n",
    "    \n",
    "    #run numerical experiment\n",
    "    css = numerical_experiment(experiments, budgets, delta, true_top_m, n_0)\n",
    "    \n",
    "    return css"
   ]
  },
  {
   "cell_type": "markdown",
   "metadata": {},
   "source": [
    "## Experiments for Law Inventory Example"
   ]
  },
  {
   "cell_type": "markdown",
   "metadata": {},
   "source": [
    "### Maximisation Example (Top 3)"
   ]
  },
  {
   "cell_type": "code",
   "execution_count": 26,
   "metadata": {},
   "outputs": [],
   "source": [
    "def experiment_2():\n",
    "    T = 1000\n",
    "    increment_t = 100\n",
    "    min_budget = 300\n",
    "    n_0 = 20\n",
    "    delta = 50\n",
    "    seed = 101\n",
    "    \n",
    "    ####################################\n",
    "    # set this parameter for number of samples/runs.\n",
    "    n_experiments = N_EXPERIMENTS\n",
    "    ####################################\n",
    "\n",
    "    #data file for this experiment\n",
    "    ifile_name = 'data/EGLaw_CRN.csv'\n",
    "    \n",
    "    #info for correct selection (maximisation problem)\n",
    "    true_top_m = np.array([6, 7, 8]) \n",
    "    \n",
    "    #incremental budgets 200, 400, .... T\n",
    "    budgets = get_budgets(T, min_budget, increment_t)\n",
    "    \n",
    "    #generate experimental dataset\n",
    "    experiments = experiments_dependent_samples(ifile_name, \n",
    "                                                boots=n_experiments,\n",
    "                                                random_state=seed)\n",
    "    \n",
    "    #run numerical experiment\n",
    "    css = numerical_experiment(experiments, budgets, delta, true_top_m, n_0)\n",
    "    \n",
    "    return css"
   ]
  },
  {
   "cell_type": "markdown",
   "metadata": {},
   "source": [
    "### Minimisation Example (Bottom 2)"
   ]
  },
  {
   "cell_type": "code",
   "execution_count": 27,
   "metadata": {},
   "outputs": [],
   "source": [
    "def experiment_3():\n",
    "    T = 1000\n",
    "    increment_t = 100\n",
    "    min_budget = 300\n",
    "    n_0 = 20\n",
    "    delta = 50\n",
    "    seed = 101\n",
    "    \n",
    "    ####################################\n",
    "    # set this parameter for number of samples/runs.\n",
    "    n_experiments = N_EXPERIMENTS\n",
    "    ####################################\n",
    "\n",
    "    #data file for this experiment\n",
    "    ifile_name = 'data/EGLaw_CRN.csv'\n",
    "    \n",
    "    #info for correct selection (maximisation problem)\n",
    "    true_top_m = np.array([1, 2]) \n",
    "    \n",
    "    #incremental budgets 200, 400, .... T\n",
    "    budgets = get_budgets(T, min_budget, increment_t)\n",
    "    \n",
    "    #generate experimental dataset\n",
    "    experiments = experiments_dependent_samples(ifile_name, \n",
    "                                                boots=n_experiments,\n",
    "                                                random_state=seed)\n",
    "    \n",
    "    #run numerical experiment\n",
    "    css = numerical_experiment(experiments, budgets, delta, true_top_m, n_0, \n",
    "                               opt='min')\n",
    "    \n",
    "    return css"
   ]
  },
  {
   "cell_type": "markdown",
   "metadata": {},
   "source": [
    "# Run Experiments\n",
    "\n",
    "## Section 4.4.1 in paper. \n",
    "\n",
    "### **Experiment 1: Independent samples (no CRN). OCBA-m 10 design problem.**\n",
    "\n",
    "Both OCBA-m and BootComp were run with 20 initial replications for each design (n1=20)"
   ]
  },
  {
   "cell_type": "code",
   "execution_count": 28,
   "metadata": {},
   "outputs": [
    {
     "data": {
      "text/plain": [
       "(10000, 23)"
      ]
     },
     "execution_count": 28,
     "metadata": {},
     "output_type": "execute_result"
    }
   ],
   "source": [
    "results_1 = experiment_1()\n",
    "pd.DataFrame(results_1).shape"
   ]
  },
  {
   "cell_type": "markdown",
   "metadata": {},
   "source": [
    "## Section 4.1.2 in paper\n",
    "\n",
    "### **Experiment 1a: CRN. OCBA-m 10 design problem.**"
   ]
  },
  {
   "cell_type": "code",
   "execution_count": 29,
   "metadata": {},
   "outputs": [
    {
     "data": {
      "text/plain": [
       "(10000, 23)"
      ]
     },
     "execution_count": 29,
     "metadata": {},
     "output_type": "execute_result"
    }
   ],
   "source": [
    "results_1a = experiment_1a_No_CRN()\n",
    "pd.DataFrame(results_1a).shape"
   ]
  },
  {
   "cell_type": "markdown",
   "metadata": {},
   "source": [
    "## Section 4.1.3 in paper\n",
    "\n",
    "### **Experiment 2: CRN. Law Inventory Example****\n",
    "\n"
   ]
  },
  {
   "cell_type": "code",
   "execution_count": 30,
   "metadata": {},
   "outputs": [
    {
     "data": {
      "text/plain": [
       "(10000, 8)"
      ]
     },
     "execution_count": 30,
     "metadata": {},
     "output_type": "execute_result"
    }
   ],
   "source": [
    "results_law_max = experiment_2()\n",
    "pd.DataFrame(results_law_max).shape"
   ]
  },
  {
   "cell_type": "markdown",
   "metadata": {},
   "source": [
    "\n",
    "## Section 4.1.3 in paper\n",
    "### **Experiment 3: CRN. Law Inventory Example**\n",
    "\n"
   ]
  },
  {
   "cell_type": "code",
   "execution_count": 31,
   "metadata": {},
   "outputs": [
    {
     "data": {
      "text/plain": [
       "(10000, 8)"
      ]
     },
     "execution_count": 31,
     "metadata": {},
     "output_type": "execute_result"
    }
   ],
   "source": [
    "results_law_min = experiment_3()\n",
    "pd.DataFrame(results_law_min).shape"
   ]
  },
  {
   "cell_type": "markdown",
   "metadata": {},
   "source": [
    "# Summary of experimental results."
   ]
  },
  {
   "cell_type": "code",
   "execution_count": 32,
   "metadata": {},
   "outputs": [],
   "source": [
    "def format_results(df_results, budgets):\n",
    "    '''\n",
    "    Format experimental results in a table\n",
    "    summarising PCS\n",
    "    \n",
    "    Params:\n",
    "    ------\n",
    "    df_results: pd.DataFrame\n",
    "        Experimentation results.  (N_EXPERIMENTS, len(budgets))\n",
    "        \n",
    "    budget: array-like\n",
    "        list of replication budgets.\n",
    "        \n",
    "    '''\n",
    "    budgets = pd.DataFrame(budgets, columns=['budget'])\n",
    "    count = pd.DataFrame(df_results).sum()\n",
    "    pcs = pd.DataFrame(df_results).mean()\n",
    "    pcs.name = 'pcs'\n",
    "    count.name = 'n'\n",
    "    pcs = pd.concat([budgets, count, pcs], axis=1)\n",
    "    return pcs"
   ]
  },
  {
   "cell_type": "markdown",
   "metadata": {},
   "source": [
    "## Section 4.4.1 in paper.  OCBA-m dataset - 10 systems. CRN"
   ]
  },
  {
   "cell_type": "code",
   "execution_count": 33,
   "metadata": {},
   "outputs": [
    {
     "data": {
      "text/html": [
       "<div>\n",
       "<style scoped>\n",
       "    .dataframe tbody tr th:only-of-type {\n",
       "        vertical-align: middle;\n",
       "    }\n",
       "\n",
       "    .dataframe tbody tr th {\n",
       "        vertical-align: top;\n",
       "    }\n",
       "\n",
       "    .dataframe thead th {\n",
       "        text-align: right;\n",
       "    }\n",
       "</style>\n",
       "<table border=\"1\" class=\"dataframe\">\n",
       "  <thead>\n",
       "    <tr style=\"text-align: right;\">\n",
       "      <th></th>\n",
       "      <th>budget</th>\n",
       "      <th>n</th>\n",
       "      <th>pcs</th>\n",
       "    </tr>\n",
       "  </thead>\n",
       "  <tbody>\n",
       "    <tr>\n",
       "      <th>0</th>\n",
       "      <td>600</td>\n",
       "      <td>9934.0</td>\n",
       "      <td>0.9934</td>\n",
       "    </tr>\n",
       "    <tr>\n",
       "      <th>1</th>\n",
       "      <td>800</td>\n",
       "      <td>9993.0</td>\n",
       "      <td>0.9993</td>\n",
       "    </tr>\n",
       "    <tr>\n",
       "      <th>2</th>\n",
       "      <td>1000</td>\n",
       "      <td>9997.0</td>\n",
       "      <td>0.9997</td>\n",
       "    </tr>\n",
       "    <tr>\n",
       "      <th>3</th>\n",
       "      <td>1200</td>\n",
       "      <td>9999.0</td>\n",
       "      <td>0.9999</td>\n",
       "    </tr>\n",
       "    <tr>\n",
       "      <th>4</th>\n",
       "      <td>1400</td>\n",
       "      <td>10000.0</td>\n",
       "      <td>1.0000</td>\n",
       "    </tr>\n",
       "    <tr>\n",
       "      <th>5</th>\n",
       "      <td>1600</td>\n",
       "      <td>10000.0</td>\n",
       "      <td>1.0000</td>\n",
       "    </tr>\n",
       "    <tr>\n",
       "      <th>6</th>\n",
       "      <td>1800</td>\n",
       "      <td>10000.0</td>\n",
       "      <td>1.0000</td>\n",
       "    </tr>\n",
       "    <tr>\n",
       "      <th>7</th>\n",
       "      <td>2000</td>\n",
       "      <td>10000.0</td>\n",
       "      <td>1.0000</td>\n",
       "    </tr>\n",
       "    <tr>\n",
       "      <th>8</th>\n",
       "      <td>2200</td>\n",
       "      <td>10000.0</td>\n",
       "      <td>1.0000</td>\n",
       "    </tr>\n",
       "    <tr>\n",
       "      <th>9</th>\n",
       "      <td>2400</td>\n",
       "      <td>10000.0</td>\n",
       "      <td>1.0000</td>\n",
       "    </tr>\n",
       "    <tr>\n",
       "      <th>10</th>\n",
       "      <td>2600</td>\n",
       "      <td>10000.0</td>\n",
       "      <td>1.0000</td>\n",
       "    </tr>\n",
       "    <tr>\n",
       "      <th>11</th>\n",
       "      <td>2800</td>\n",
       "      <td>10000.0</td>\n",
       "      <td>1.0000</td>\n",
       "    </tr>\n",
       "    <tr>\n",
       "      <th>12</th>\n",
       "      <td>3000</td>\n",
       "      <td>10000.0</td>\n",
       "      <td>1.0000</td>\n",
       "    </tr>\n",
       "    <tr>\n",
       "      <th>13</th>\n",
       "      <td>3200</td>\n",
       "      <td>10000.0</td>\n",
       "      <td>1.0000</td>\n",
       "    </tr>\n",
       "    <tr>\n",
       "      <th>14</th>\n",
       "      <td>3400</td>\n",
       "      <td>10000.0</td>\n",
       "      <td>1.0000</td>\n",
       "    </tr>\n",
       "    <tr>\n",
       "      <th>15</th>\n",
       "      <td>3600</td>\n",
       "      <td>10000.0</td>\n",
       "      <td>1.0000</td>\n",
       "    </tr>\n",
       "    <tr>\n",
       "      <th>16</th>\n",
       "      <td>3800</td>\n",
       "      <td>10000.0</td>\n",
       "      <td>1.0000</td>\n",
       "    </tr>\n",
       "    <tr>\n",
       "      <th>17</th>\n",
       "      <td>4000</td>\n",
       "      <td>10000.0</td>\n",
       "      <td>1.0000</td>\n",
       "    </tr>\n",
       "    <tr>\n",
       "      <th>18</th>\n",
       "      <td>4200</td>\n",
       "      <td>10000.0</td>\n",
       "      <td>1.0000</td>\n",
       "    </tr>\n",
       "    <tr>\n",
       "      <th>19</th>\n",
       "      <td>4400</td>\n",
       "      <td>10000.0</td>\n",
       "      <td>1.0000</td>\n",
       "    </tr>\n",
       "    <tr>\n",
       "      <th>20</th>\n",
       "      <td>4600</td>\n",
       "      <td>10000.0</td>\n",
       "      <td>1.0000</td>\n",
       "    </tr>\n",
       "    <tr>\n",
       "      <th>21</th>\n",
       "      <td>4800</td>\n",
       "      <td>10000.0</td>\n",
       "      <td>1.0000</td>\n",
       "    </tr>\n",
       "    <tr>\n",
       "      <th>22</th>\n",
       "      <td>5000</td>\n",
       "      <td>10000.0</td>\n",
       "      <td>1.0000</td>\n",
       "    </tr>\n",
       "  </tbody>\n",
       "</table>\n",
       "</div>"
      ],
      "text/plain": [
       "    budget        n     pcs\n",
       "0      600   9934.0  0.9934\n",
       "1      800   9993.0  0.9993\n",
       "2     1000   9997.0  0.9997\n",
       "3     1200   9999.0  0.9999\n",
       "4     1400  10000.0  1.0000\n",
       "5     1600  10000.0  1.0000\n",
       "6     1800  10000.0  1.0000\n",
       "7     2000  10000.0  1.0000\n",
       "8     2200  10000.0  1.0000\n",
       "9     2400  10000.0  1.0000\n",
       "10    2600  10000.0  1.0000\n",
       "11    2800  10000.0  1.0000\n",
       "12    3000  10000.0  1.0000\n",
       "13    3200  10000.0  1.0000\n",
       "14    3400  10000.0  1.0000\n",
       "15    3600  10000.0  1.0000\n",
       "16    3800  10000.0  1.0000\n",
       "17    4000  10000.0  1.0000\n",
       "18    4200  10000.0  1.0000\n",
       "19    4400  10000.0  1.0000\n",
       "20    4600  10000.0  1.0000\n",
       "21    4800  10000.0  1.0000\n",
       "22    5000  10000.0  1.0000"
      ]
     },
     "execution_count": 33,
     "metadata": {},
     "output_type": "execute_result"
    }
   ],
   "source": [
    "T = 5000\n",
    "increment_t = 200\n",
    "min_budget = 600\n",
    "\n",
    "budgets = get_budgets(T, min_budget, increment_t)\n",
    "pcs_1 = format_results(results_1, budgets)\n",
    "pcs_1"
   ]
  },
  {
   "cell_type": "markdown",
   "metadata": {},
   "source": [
    "## Section 4.1.2 in paper. OCBA-m dataset - 10 systems Independent samples\n",
    "\n",
    "The results illustrate the importance of CRN in variance reduction and, as expected, BootComp loses its advantage over OCBA-m in examples where samples are independent. Without CRN, BootComp was unable to match OCBA-m under any of the budget assumptions we included. This is not unexpected as OCBA-m is a sequential algorithm and BootComp includes only two stages. "
   ]
  },
  {
   "cell_type": "code",
   "execution_count": 34,
   "metadata": {},
   "outputs": [
    {
     "data": {
      "text/html": [
       "<div>\n",
       "<style scoped>\n",
       "    .dataframe tbody tr th:only-of-type {\n",
       "        vertical-align: middle;\n",
       "    }\n",
       "\n",
       "    .dataframe tbody tr th {\n",
       "        vertical-align: top;\n",
       "    }\n",
       "\n",
       "    .dataframe thead th {\n",
       "        text-align: right;\n",
       "    }\n",
       "</style>\n",
       "<table border=\"1\" class=\"dataframe\">\n",
       "  <thead>\n",
       "    <tr style=\"text-align: right;\">\n",
       "      <th></th>\n",
       "      <th>budget</th>\n",
       "      <th>n</th>\n",
       "      <th>pcs</th>\n",
       "    </tr>\n",
       "  </thead>\n",
       "  <tbody>\n",
       "    <tr>\n",
       "      <th>0</th>\n",
       "      <td>600</td>\n",
       "      <td>8660.0</td>\n",
       "      <td>0.8660</td>\n",
       "    </tr>\n",
       "    <tr>\n",
       "      <th>1</th>\n",
       "      <td>800</td>\n",
       "      <td>9183.0</td>\n",
       "      <td>0.9183</td>\n",
       "    </tr>\n",
       "    <tr>\n",
       "      <th>2</th>\n",
       "      <td>1000</td>\n",
       "      <td>9475.0</td>\n",
       "      <td>0.9475</td>\n",
       "    </tr>\n",
       "    <tr>\n",
       "      <th>3</th>\n",
       "      <td>1200</td>\n",
       "      <td>9635.0</td>\n",
       "      <td>0.9635</td>\n",
       "    </tr>\n",
       "    <tr>\n",
       "      <th>4</th>\n",
       "      <td>1400</td>\n",
       "      <td>9752.0</td>\n",
       "      <td>0.9752</td>\n",
       "    </tr>\n",
       "    <tr>\n",
       "      <th>5</th>\n",
       "      <td>1600</td>\n",
       "      <td>9830.0</td>\n",
       "      <td>0.9830</td>\n",
       "    </tr>\n",
       "    <tr>\n",
       "      <th>6</th>\n",
       "      <td>1800</td>\n",
       "      <td>9893.0</td>\n",
       "      <td>0.9893</td>\n",
       "    </tr>\n",
       "    <tr>\n",
       "      <th>7</th>\n",
       "      <td>2000</td>\n",
       "      <td>9927.0</td>\n",
       "      <td>0.9927</td>\n",
       "    </tr>\n",
       "    <tr>\n",
       "      <th>8</th>\n",
       "      <td>2200</td>\n",
       "      <td>9950.0</td>\n",
       "      <td>0.9950</td>\n",
       "    </tr>\n",
       "    <tr>\n",
       "      <th>9</th>\n",
       "      <td>2400</td>\n",
       "      <td>9971.0</td>\n",
       "      <td>0.9971</td>\n",
       "    </tr>\n",
       "    <tr>\n",
       "      <th>10</th>\n",
       "      <td>2600</td>\n",
       "      <td>9975.0</td>\n",
       "      <td>0.9975</td>\n",
       "    </tr>\n",
       "    <tr>\n",
       "      <th>11</th>\n",
       "      <td>2800</td>\n",
       "      <td>9980.0</td>\n",
       "      <td>0.9980</td>\n",
       "    </tr>\n",
       "    <tr>\n",
       "      <th>12</th>\n",
       "      <td>3000</td>\n",
       "      <td>9984.0</td>\n",
       "      <td>0.9984</td>\n",
       "    </tr>\n",
       "    <tr>\n",
       "      <th>13</th>\n",
       "      <td>3200</td>\n",
       "      <td>9988.0</td>\n",
       "      <td>0.9988</td>\n",
       "    </tr>\n",
       "    <tr>\n",
       "      <th>14</th>\n",
       "      <td>3400</td>\n",
       "      <td>9993.0</td>\n",
       "      <td>0.9993</td>\n",
       "    </tr>\n",
       "    <tr>\n",
       "      <th>15</th>\n",
       "      <td>3600</td>\n",
       "      <td>9995.0</td>\n",
       "      <td>0.9995</td>\n",
       "    </tr>\n",
       "    <tr>\n",
       "      <th>16</th>\n",
       "      <td>3800</td>\n",
       "      <td>9995.0</td>\n",
       "      <td>0.9995</td>\n",
       "    </tr>\n",
       "    <tr>\n",
       "      <th>17</th>\n",
       "      <td>4000</td>\n",
       "      <td>9995.0</td>\n",
       "      <td>0.9995</td>\n",
       "    </tr>\n",
       "    <tr>\n",
       "      <th>18</th>\n",
       "      <td>4200</td>\n",
       "      <td>9997.0</td>\n",
       "      <td>0.9997</td>\n",
       "    </tr>\n",
       "    <tr>\n",
       "      <th>19</th>\n",
       "      <td>4400</td>\n",
       "      <td>9998.0</td>\n",
       "      <td>0.9998</td>\n",
       "    </tr>\n",
       "    <tr>\n",
       "      <th>20</th>\n",
       "      <td>4600</td>\n",
       "      <td>9998.0</td>\n",
       "      <td>0.9998</td>\n",
       "    </tr>\n",
       "    <tr>\n",
       "      <th>21</th>\n",
       "      <td>4800</td>\n",
       "      <td>9998.0</td>\n",
       "      <td>0.9998</td>\n",
       "    </tr>\n",
       "    <tr>\n",
       "      <th>22</th>\n",
       "      <td>5000</td>\n",
       "      <td>9998.0</td>\n",
       "      <td>0.9998</td>\n",
       "    </tr>\n",
       "  </tbody>\n",
       "</table>\n",
       "</div>"
      ],
      "text/plain": [
       "    budget       n     pcs\n",
       "0      600  8660.0  0.8660\n",
       "1      800  9183.0  0.9183\n",
       "2     1000  9475.0  0.9475\n",
       "3     1200  9635.0  0.9635\n",
       "4     1400  9752.0  0.9752\n",
       "5     1600  9830.0  0.9830\n",
       "6     1800  9893.0  0.9893\n",
       "7     2000  9927.0  0.9927\n",
       "8     2200  9950.0  0.9950\n",
       "9     2400  9971.0  0.9971\n",
       "10    2600  9975.0  0.9975\n",
       "11    2800  9980.0  0.9980\n",
       "12    3000  9984.0  0.9984\n",
       "13    3200  9988.0  0.9988\n",
       "14    3400  9993.0  0.9993\n",
       "15    3600  9995.0  0.9995\n",
       "16    3800  9995.0  0.9995\n",
       "17    4000  9995.0  0.9995\n",
       "18    4200  9997.0  0.9997\n",
       "19    4400  9998.0  0.9998\n",
       "20    4600  9998.0  0.9998\n",
       "21    4800  9998.0  0.9998\n",
       "22    5000  9998.0  0.9998"
      ]
     },
     "execution_count": 34,
     "metadata": {},
     "output_type": "execute_result"
    }
   ],
   "source": [
    "T = 5000\n",
    "increment_t = 200\n",
    "min_budget = 600\n",
    "\n",
    "budgets = get_budgets(T, min_budget, increment_t)\n",
    "pcs_1a = format_results(results_1a, budgets)\n",
    "pcs_1a\n"
   ]
  },
  {
   "cell_type": "code",
   "execution_count": 35,
   "metadata": {},
   "outputs": [],
   "source": [
    "def plot_exp1_versus_bootcomp(df):\n",
    "    '''\n",
    "    Basic plot of the results.\n",
    "    '''\n",
    "    \n",
    "    bootcomp_results = './figure_data/figure2_bootcomp_data.csv'\n",
    "    bootcomp_results2 = './figure_data/figure2_bootcomp_data2.csv'\n",
    "    alpha1_0point2 = pd.read_csv(bootcomp_results)\n",
    "    alpha1_0point3 = pd.read_csv(bootcomp_results2)\n",
    "    \n",
    "    fig, ax = plt.subplots(1, 1, figsize=(12,6))\n",
    "    ax.plot(df['budget'], df['pcs'], linewidth=3)\n",
    "    ax.plot(alpha1_0point2['budget'], alpha1_0point2['pcs'], \n",
    "            marker='^', linestyle='',  markersize=6)\n",
    "    ax.plot(alpha1_0point3['budget'], alpha1_0point3['pcs'], \n",
    "            marker='s', linestyle='',  markersize=6)\n",
    "    \n",
    "    ax.legend(['OCBA-m', r'BootComp $\\alpha_1$=0.2', \n",
    "               r\"BootComp $\\alpha_1$=0.3\"], \n",
    "              fontsize=12, loc=0);\n",
    "\n",
    "    ax.set_xlabel('Replication Budget')\n",
    "    ax.set_ylabel('P(CS)')"
   ]
  },
  {
   "cell_type": "code",
   "execution_count": 36,
   "metadata": {},
   "outputs": [],
   "source": [
    "def plot_experiment1(df):\n",
    "    '''\n",
    "    plot OCBA versus bootcomp for no CRN\n",
    "    '''\n",
    "    fig, ax = plt.subplots(1, 1, figsize=(12,4))\n",
    "    ax.plot(df['budget'], df['pcs'], linewidth=3)\n",
    "\n",
    "    ax.set_xlabel('Replication Budget')\n",
    "    ax.set_ylabel('P(CS)')"
   ]
  },
  {
   "cell_type": "code",
   "execution_count": 37,
   "metadata": {},
   "outputs": [
    {
     "data": {
      "image/png": "[encoded data removed]",
      "text/plain": [
       "<Figure size 864x288 with 1 Axes>"
      ]
     },
     "metadata": {
      "needs_background": "light"
     },
     "output_type": "display_data"
    }
   ],
   "source": [
    "#plot from budget 600+\n",
    "plot_experiment1(pcs_1a)"
   ]
  },
  {
   "cell_type": "code",
   "execution_count": 38,
   "metadata": {},
   "outputs": [
    {
     "data": {
      "image/png": "[encoded data removed]",
      "text/plain": [
       "<Figure size 864x432 with 1 Axes>"
      ]
     },
     "metadata": {
      "needs_background": "light"
     },
     "output_type": "display_data"
    }
   ],
   "source": [
    "if PLOT_BC_COMPARISON:\n",
    "    plot_exp1_versus_bootcomp(pcs_1a)"
   ]
  },
  {
   "cell_type": "markdown",
   "metadata": {},
   "source": [
    "# Section 4.1.3 in paper: Experiments for Law Inventory example\n",
    "\n",
    "In the inventory example, full synchronization has not been achieved, but CRN has still induced a high positive correlation across the nine designs. Both OCBA-m and BootComp select the top three designs (highest mean) in all 10,000 experiments for each budget."
   ]
  },
  {
   "cell_type": "code",
   "execution_count": 39,
   "metadata": {},
   "outputs": [
    {
     "data": {
      "text/html": [
       "<div>\n",
       "<style scoped>\n",
       "    .dataframe tbody tr th:only-of-type {\n",
       "        vertical-align: middle;\n",
       "    }\n",
       "\n",
       "    .dataframe tbody tr th {\n",
       "        vertical-align: top;\n",
       "    }\n",
       "\n",
       "    .dataframe thead th {\n",
       "        text-align: right;\n",
       "    }\n",
       "</style>\n",
       "<table border=\"1\" class=\"dataframe\">\n",
       "  <thead>\n",
       "    <tr style=\"text-align: right;\">\n",
       "      <th></th>\n",
       "      <th>budget</th>\n",
       "      <th>n</th>\n",
       "      <th>pcs</th>\n",
       "    </tr>\n",
       "  </thead>\n",
       "  <tbody>\n",
       "    <tr>\n",
       "      <th>0</th>\n",
       "      <td>300</td>\n",
       "      <td>10000.0</td>\n",
       "      <td>1.0</td>\n",
       "    </tr>\n",
       "    <tr>\n",
       "      <th>1</th>\n",
       "      <td>400</td>\n",
       "      <td>10000.0</td>\n",
       "      <td>1.0</td>\n",
       "    </tr>\n",
       "    <tr>\n",
       "      <th>2</th>\n",
       "      <td>500</td>\n",
       "      <td>10000.0</td>\n",
       "      <td>1.0</td>\n",
       "    </tr>\n",
       "    <tr>\n",
       "      <th>3</th>\n",
       "      <td>600</td>\n",
       "      <td>10000.0</td>\n",
       "      <td>1.0</td>\n",
       "    </tr>\n",
       "    <tr>\n",
       "      <th>4</th>\n",
       "      <td>700</td>\n",
       "      <td>10000.0</td>\n",
       "      <td>1.0</td>\n",
       "    </tr>\n",
       "    <tr>\n",
       "      <th>5</th>\n",
       "      <td>800</td>\n",
       "      <td>10000.0</td>\n",
       "      <td>1.0</td>\n",
       "    </tr>\n",
       "    <tr>\n",
       "      <th>6</th>\n",
       "      <td>900</td>\n",
       "      <td>10000.0</td>\n",
       "      <td>1.0</td>\n",
       "    </tr>\n",
       "    <tr>\n",
       "      <th>7</th>\n",
       "      <td>1000</td>\n",
       "      <td>10000.0</td>\n",
       "      <td>1.0</td>\n",
       "    </tr>\n",
       "  </tbody>\n",
       "</table>\n",
       "</div>"
      ],
      "text/plain": [
       "   budget        n  pcs\n",
       "0     300  10000.0  1.0\n",
       "1     400  10000.0  1.0\n",
       "2     500  10000.0  1.0\n",
       "3     600  10000.0  1.0\n",
       "4     700  10000.0  1.0\n",
       "5     800  10000.0  1.0\n",
       "6     900  10000.0  1.0\n",
       "7    1000  10000.0  1.0"
      ]
     },
     "execution_count": 39,
     "metadata": {},
     "output_type": "execute_result"
    }
   ],
   "source": [
    "T = 1000\n",
    "increment_t = 100\n",
    "min_budget = 300\n",
    "\n",
    "#incremental budgets 200, 400, .... T\n",
    "budgets = get_budgets(T, min_budget, increment_t)\n",
    "pcs_2 = format_results(results_law_max, budgets)\n",
    "pcs_2"
   ]
  },
  {
   "cell_type": "code",
   "execution_count": 40,
   "metadata": {},
   "outputs": [
    {
     "data": {
      "text/html": [
       "<div>\n",
       "<style scoped>\n",
       "    .dataframe tbody tr th:only-of-type {\n",
       "        vertical-align: middle;\n",
       "    }\n",
       "\n",
       "    .dataframe tbody tr th {\n",
       "        vertical-align: top;\n",
       "    }\n",
       "\n",
       "    .dataframe thead th {\n",
       "        text-align: right;\n",
       "    }\n",
       "</style>\n",
       "<table border=\"1\" class=\"dataframe\">\n",
       "  <thead>\n",
       "    <tr style=\"text-align: right;\">\n",
       "      <th></th>\n",
       "      <th>budget</th>\n",
       "      <th>n</th>\n",
       "      <th>pcs</th>\n",
       "    </tr>\n",
       "  </thead>\n",
       "  <tbody>\n",
       "    <tr>\n",
       "      <th>0</th>\n",
       "      <td>300</td>\n",
       "      <td>10000.0</td>\n",
       "      <td>1.0</td>\n",
       "    </tr>\n",
       "    <tr>\n",
       "      <th>1</th>\n",
       "      <td>400</td>\n",
       "      <td>10000.0</td>\n",
       "      <td>1.0</td>\n",
       "    </tr>\n",
       "    <tr>\n",
       "      <th>2</th>\n",
       "      <td>500</td>\n",
       "      <td>10000.0</td>\n",
       "      <td>1.0</td>\n",
       "    </tr>\n",
       "    <tr>\n",
       "      <th>3</th>\n",
       "      <td>600</td>\n",
       "      <td>10000.0</td>\n",
       "      <td>1.0</td>\n",
       "    </tr>\n",
       "    <tr>\n",
       "      <th>4</th>\n",
       "      <td>700</td>\n",
       "      <td>10000.0</td>\n",
       "      <td>1.0</td>\n",
       "    </tr>\n",
       "    <tr>\n",
       "      <th>5</th>\n",
       "      <td>800</td>\n",
       "      <td>10000.0</td>\n",
       "      <td>1.0</td>\n",
       "    </tr>\n",
       "    <tr>\n",
       "      <th>6</th>\n",
       "      <td>900</td>\n",
       "      <td>10000.0</td>\n",
       "      <td>1.0</td>\n",
       "    </tr>\n",
       "    <tr>\n",
       "      <th>7</th>\n",
       "      <td>1000</td>\n",
       "      <td>10000.0</td>\n",
       "      <td>1.0</td>\n",
       "    </tr>\n",
       "  </tbody>\n",
       "</table>\n",
       "</div>"
      ],
      "text/plain": [
       "   budget        n  pcs\n",
       "0     300  10000.0  1.0\n",
       "1     400  10000.0  1.0\n",
       "2     500  10000.0  1.0\n",
       "3     600  10000.0  1.0\n",
       "4     700  10000.0  1.0\n",
       "5     800  10000.0  1.0\n",
       "6     900  10000.0  1.0\n",
       "7    1000  10000.0  1.0"
      ]
     },
     "execution_count": 40,
     "metadata": {},
     "output_type": "execute_result"
    }
   ],
   "source": [
    "T = 1000\n",
    "increment_t = 100\n",
    "min_budget = 300\n",
    "\n",
    "#incremental budgets 200, 400, .... T\n",
    "budgets = get_budgets(T, min_budget, increment_t)\n",
    "pcs_3 = format_results(results_law_min, budgets)\n",
    "pcs_3"
   ]
  }
 ],
 "metadata": {
  "kernelspec": {
   "display_name": "Python 3",
   "language": "python",
   "name": "python3"
  },
  "language_info": {
   "codemirror_mode": {
    "name": "ipython",
    "version": 3
   },
   "file_extension": ".py",
   "mimetype": "text/x-python",
   "name": "python",
   "nbconvert_exporter": "python",
   "pygments_lexer": "ipython3",
   "version": "3.7.2"
  }
 },
 "nbformat": 4,
 "nbformat_minor": 4
}
