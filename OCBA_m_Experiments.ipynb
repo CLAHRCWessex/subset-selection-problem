{
 "cells": [
  {
   "cell_type": "markdown",
   "metadata": {},
   "source": [
    "# OCBA-m"
   ]
  },
  {
   "cell_type": "markdown",
   "metadata": {},
   "source": [
    "Source. Chen et al. (2008) \n",
    "\n",
    "Efficient Simulation Budget Allocation for Selecting an Optimal Subset\n",
    "\n",
    "\n",
    "https://pubsonline.informs.org/doi/pdf/10.1287/ijoc.1080.0268"
   ]
  },
  {
   "cell_type": "code",
   "execution_count": null,
   "metadata": {},
   "outputs": [],
   "source": [
    "import pandas as pd\n",
    "import numpy as np\n",
    "from numba import jit\n",
    "import matplotlib.pyplot as plt\n",
    "import seaborn as sns\n",
    "%matplotlib inline"
   ]
  },
  {
   "cell_type": "markdown",
   "metadata": {},
   "source": [
    "## Utility funcs"
   ]
  },
  {
   "cell_type": "code",
   "execution_count": null,
   "metadata": {},
   "outputs": [],
   "source": [
    "def load_system(file_name, system, reps, reps_available, delim=','):\n",
    "    \"\"\"\n",
    "    Reads system data from a txt file (assumes comma delimited by default).  \n",
    "    Assumes that each column represents a system.\n",
    "    Returns a numpy array.  Each row is a system (single row); each col is a replication\n",
    "    \n",
    "    \n",
    "    @file_name = name of file containing csv data\n",
    "    @system = index of system in txt file.\n",
    "    @reps = replications wanted\n",
    "    @reps_available = total number of replications that has been simulated.\n",
    "    @delim = delimiter of file.  Default = ',' for CSV.  \n",
    "\n",
    "    \"\"\"\n",
    "    \n",
    "    return np.genfromtxt(file_name, delimiter=delim, usecols = system, skip_footer = (reps_available - reps))"
   ]
  },
  {
   "cell_type": "code",
   "execution_count": null,
   "metadata": {},
   "outputs": [],
   "source": [
    "def simulate(data, k, allocations):\n",
    "    \"\"\"\n",
    "    Simulates the systems.  \n",
    "    Each system is allocated a different budget of replications\n",
    "    \n",
    "    Returns list of numpy arrays\n",
    "    \n",
    "    @allocations = numpy array.  budget of replications for the k systems \n",
    "    \"\"\"\n",
    "    return [data[i][0:allocations[i]] for i in range(k)]\n",
    "    "
   ]
  },
  {
   "cell_type": "code",
   "execution_count": null,
   "metadata": {},
   "outputs": [],
   "source": [
    "def get_ranks(array):\n",
    "    \"\"\"\n",
    "    Returns a numpy array containing ranks of numbers within a input numpy array\n",
    "    e.g. [3, 2, 1] returns [2, 1, 0]\n",
    "    e.g. [3, 2, 1, 4] return [2, 1, 0, 3]\n",
    "        \n",
    "    @array - numpy array (only tested with 1d)\n",
    "        \n",
    "    \"\"\"\n",
    "    temp = array.argsort()\n",
    "    ranks = np.empty_like(temp)\n",
    "    ranks[temp] = np.arange(len(array))\n",
    "    return ranks"
   ]
  },
  {
   "cell_type": "code",
   "execution_count": null,
   "metadata": {},
   "outputs": [],
   "source": [
    "def bootstrap(data, boots=1000):\n",
    "    \"\"\"\n",
    "    Returns a numpy array containing the bootstrap resamples\n",
    "    Useful for creating a large number of experimental datasets for testing R&S routines\n",
    "    \n",
    "    @data = numpy.array of systems to boostrap\n",
    "    @boots = number of bootstrap (default = 1000)\n",
    "    \"\"\"\n",
    "\n",
    "    experiments = boots\n",
    "    designs = data.shape[0]\n",
    "    samples = data.shape[1]\n",
    "\n",
    "    datasets = np.zeros((experiments, designs, samples))\n",
    "     \n",
    "    for exp in range(experiments):\n",
    "        \n",
    "        for design in range(designs):\n",
    "\n",
    "            for i in range(samples):\n",
    "\n",
    "                datasets[exp][design][i] = data[design][round(np.random.uniform(0, samples)-1)]\n",
    "      \n",
    "    return datasets"
   ]
  },
  {
   "cell_type": "code",
   "execution_count": null,
   "metadata": {},
   "outputs": [],
   "source": [
    "@jit(nopython=True)\n",
    "def crn_bootstrap(data, boots=1000):\n",
    "    \"\"\"\n",
    "    Returns a numpy array containing the bootstrap resamples\n",
    "    Useful for creating a large number of experimental datasets for testing R&S routines\n",
    "    \n",
    "    @data = numpy.array of systems to boostrap\n",
    "    @boots = number of bootstrap (default = 1000)\n",
    "    \"\"\"\n",
    "\n",
    "    experiments = boots\n",
    "    designs = data.shape[0]\n",
    "    samples = data.shape[1]\n",
    "    \n",
    "    datasets = np.zeros((experiments, designs, samples))\n",
    "     \n",
    "    for exp in range(experiments):\n",
    "        \n",
    "         for i in range(samples):\n",
    "\n",
    "                row = data.T[np.random.choice(data.shape[0])]\n",
    "                \n",
    "                for design in range(designs):\n",
    "                    datasets[exp][design][i] = row[design]  \n",
    "      \n",
    "    return datasets"
   ]
  },
  {
   "cell_type": "markdown",
   "metadata": {},
   "source": [
    "# Walk through of how Ocba-m works"
   ]
  },
  {
   "cell_type": "markdown",
   "metadata": {},
   "source": [
    "##  Input"
   ]
  },
  {
   "cell_type": "markdown",
   "metadata": {},
   "source": [
    "**k** = total number of designs\n",
    "\n",
    "**m** = no. of top designs to select\n",
    "\n",
    "**T** = total budget (replications)\n",
    "\n",
    "**n_0** = l number of replications  (>=5)\n",
    "\n",
    "**delta** - additional budget to allocate between each simulation  \n",
    "\n",
    "*where T - k.n_0 is a multiple of delta*\n"
   ]
  },
  {
   "cell_type": "markdown",
   "metadata": {},
   "source": [
    "### Full Implementation "
   ]
  },
  {
   "cell_type": "code",
   "execution_count": null,
   "metadata": {},
   "outputs": [],
   "source": [
    "@jit(nopython=True)\n",
    "def summary_statistics(systems, allocations):\n",
    "    means = np.array([array.mean() for array in systems])\n",
    "    stds = np.array([array.std() for array in systems])\n",
    "    ses = np.divide(stds, np.sqrt(allocations))\n",
    "    \n",
    "    return means, ses"
   ]
  },
  {
   "cell_type": "code",
   "execution_count": null,
   "metadata": {},
   "outputs": [],
   "source": [
    "def top_m(means, m):\n",
    "    \"\"\"\n",
    "    Returns the top m system designs\n",
    "    Largest sample means\n",
    "    \"\"\"\n",
    "    ranks = get_ranks(means)\n",
    "    return np.argpartition(ranks, -m)[-m:]"
   ]
  },
  {
   "cell_type": "code",
   "execution_count": null,
   "metadata": {},
   "outputs": [],
   "source": [
    "def bottom_m(means, m):\n",
    "    \"\"\"\n",
    "    Returns the bottom m system designs\n",
    "    Smallest sample means\n",
    "    \"\"\"\n",
    "    ranks = get_ranks(means)\n",
    "    return np.argpartition(ranks, m)[:m]"
   ]
  },
  {
   "cell_type": "code",
   "execution_count": null,
   "metadata": {},
   "outputs": [],
   "source": [
    "@jit(nopython=True)\n",
    "def parameter_c(means, ses, k, m):\n",
    "    order = np.argsort(means)\n",
    "    s_ses = ses[order]\n",
    "    s_means = means[order]\n",
    "\n",
    "    return((s_ses[k-m+1] * s_means[k-m]) + (s_ses[k-m] * s_means[k-m+1]))/(s_ses[k-m]+s_ses[k-m+1])  "
   ]
  },
  {
   "cell_type": "code",
   "execution_count": null,
   "metadata": {},
   "outputs": [],
   "source": [
    "def ocba_m(dataset, k, allocations, T, delta, m):\n",
    "    \n",
    "    while allocations.sum() < T:\n",
    "        \n",
    "        #simulate systems using new allocation of budget\n",
    "        reps = simulate(dataset, k, allocations) \n",
    "        \n",
    "        #calculate sample means and standard errors\n",
    "        means, ses = summary_statistics(reps, allocations)\n",
    "        \n",
    "        #calculate parameter c and deltas\n",
    "        c = parameter_c(means, ses, k, m)\n",
    "        deltas = means - c\n",
    "        \n",
    "        print(deltas)\n",
    "        \n",
    "        #allocate\n",
    "        for i in range(delta):\n",
    "            values = np.divide(allocations, np.square(np.divide(ses, deltas)))\n",
    "            ranks = get_ranks(values)\n",
    "            allocations[ranks.argmin()] += 1\n",
    "            \n",
    "    return means, ses, allocations"
   ]
  },
  {
   "cell_type": "code",
   "execution_count": null,
   "metadata": {},
   "outputs": [],
   "source": [
    "def cs(selected_top_m, true_top_m):\n",
    "    \"\"\"\n",
    "    Returns boolean value.  \n",
    "    True = correct selection of top m\n",
    "    False = incorrect selection (one or more of selected top m is incorrect)\n",
    "    \n",
    "    Keyword arguments:\n",
    "    selected_top_m - numpy.array containing the indexes of the top m means selected by the algorithm\n",
    "    true_top_m - numpy.array containing the indexes of the true top m means\n",
    "    \n",
    "    \"\"\"\n",
    "    return np.array_equal(np.sort(selected_top_m), true_top_m)"
   ]
  },
  {
   "cell_type": "code",
   "execution_count": null,
   "metadata": {},
   "outputs": [],
   "source": [
    "def oc(true_means, selected_top_m, true_top_m):\n",
    "    \"\"\"\n",
    "    Return the opportunity cost of the selection\n",
    "    Method penalised particular bad solutions more than mildly bad\n",
    "    \n",
    "    @true_means - numpy.array of true means\n",
    "    @selected_top_m - numpy.array containing the indexes of the top m means selected by the algorithm\n",
    "    @true_top_m - numpy.array containing the indexes of the true top m means\n",
    "    \n",
    "    \"\"\"\n",
    "    return (true_means[selected_top_m] - true_means[true_top_m]).sum()"
   ]
  },
  {
   "cell_type": "code",
   "execution_count": null,
   "metadata": {},
   "outputs": [],
   "source": [
    "def p_cs(correct_selections):\n",
    "    \"\"\"\n",
    "    Returns the probability of correct selection P{cs}\n",
    "    Keyword arguments:\n",
    "    \n",
    "    correct_selections - list indicating if a given budget found the top m e.g. [False, True, True]\n",
    "    \"\"\"\n",
    "    return np.array(correct_selections).sum() / len(correct_selections)"
   ]
  },
  {
   "cell_type": "code",
   "execution_count": null,
   "metadata": {},
   "outputs": [],
   "source": [
    "def p_cs2(correct_selections):\n",
    "    \"\"\"\n",
    "    Returns the probability of correct selection P{cs}\n",
    "    \n",
    "    @correct_selections - numpy.array of budget versus exp. Contains True or False indicating correct selection.\n",
    "    \n",
    "    \"\"\"\n",
    "    return np.mean(correct_selections, axis=1)"
   ]
  },
  {
   "cell_type": "code",
   "execution_count": null,
   "metadata": {},
   "outputs": [],
   "source": [
    "def e_oc(opportunity_costs):\n",
    "    \"\"\"\n",
    "    Return the expected opportunity cost E{oc}\n",
    "    \n",
    "    @opportunity costs - arrange of opportunity cost per budget\n",
    "    \"\"\"\n",
    "    return np.array(opportunity_costs).mean()"
   ]
  },
  {
   "cell_type": "code",
   "execution_count": null,
   "metadata": {},
   "outputs": [],
   "source": [
    "def e_oc2(opportunity_costs):\n",
    "    \"\"\"\n",
    "    Return the expected opportunity cost E{oc}\n",
    "    \n",
    "    @opportunity costs - arrange of opportunity cost per budget\n",
    "    \"\"\"\n",
    "    return np.mean(opportunity_costs, axis=0)"
   ]
  },
  {
   "cell_type": "markdown",
   "metadata": {},
   "source": [
    "# Numerical test - single experiment"
   ]
  },
  {
   "cell_type": "markdown",
   "metadata": {},
   "source": [
    "### Create Experimental Data#"
   ]
  },
  {
   "cell_type": "markdown",
   "metadata": {},
   "source": [
    "#### Use the following code to create independent samples"
   ]
  },
  {
   "cell_type": "code",
   "execution_count": null,
   "metadata": {},
   "outputs": [],
   "source": [
    "def experiments_independent_samples(ifile_name, boots=1000):\n",
    "    data = np.genfromtxt(ifile_name, delimiter=\",\", skip_footer=0).transpose()\n",
    "    experiments = bootstrap(data, boots=boots)\n",
    "    return experiments"
   ]
  },
  {
   "cell_type": "markdown",
   "metadata": {},
   "source": [
    "#### Use the following code to create CRN data sets"
   ]
  },
  {
   "cell_type": "code",
   "execution_count": null,
   "metadata": {},
   "outputs": [],
   "source": [
    "def experiments_dependent_samples(ifile_name, boots=1000):\n",
    "    data = np.genfromtxt(ifile_name, delimiter=\",\", skip_footer=0).transpose()\n",
    "    experiments = crn_bootstrap(data, boots=boots)\n",
    "    return experiments"
   ]
  },
  {
   "cell_type": "markdown",
   "metadata": {},
   "source": [
    "Use the `numerical_experiment()` function to run experiments of OBCA-m across multiple experimental datasets and budgets.\n",
    "\n",
    "For example, you may have 100 datasets to test across budgets of 1000, 2000, 3000 and 4000 replications."
   ]
  },
  {
   "cell_type": "code",
   "execution_count": null,
   "metadata": {},
   "outputs": [],
   "source": [
    "def numerical_experiment(experiments, budgets, delta, true_top_m, n_0,\n",
    "                         opt='max'):\n",
    "    \"\"\"\n",
    "    Conduct a user set number of numerical experiments on the algorithm\n",
    "    for different computational budgets\n",
    "    \n",
    "    Returns:\n",
    "    1. numpy.array containing P{cs} for each budget\n",
    "    2. numpy.array containing E{oc} for each budget\n",
    "    \n",
    "    Keyword arguments:\n",
    "    experiments -- numpy.array[experiments][designs][replication]\n",
    "    budgets -- python.list containing budgets\n",
    "    delta - maximum amount of budget to allocate per run. \n",
    "    true_top_m -- top m (i.e. the systems that should be returned)\n",
    "    n_0 -- initial number of replications per system\n",
    "    \n",
    "    \"\"\"\n",
    "    n_experiments = experiments.shape[0]\n",
    "    k = experiments.shape[1]\n",
    "    m = true_top_m.shape[0]\n",
    "        \n",
    "    correct_selections = np.zeros((n_experiments, len(budgets)))\n",
    "    opportunity_costs = np.zeros((n_experiments, len(budgets)))\n",
    "\n",
    "    for exp in range(n_experiments):\n",
    "\n",
    "        for t in range(len(budgets)):\n",
    "\n",
    "            allocations = np.full(k, n_0, dtype=int)\n",
    "                        \n",
    "            means, ses, allocations = ocba_m(experiments[exp], k, \n",
    "                                             allocations, budgets[t], \n",
    "                                             delta, m)\n",
    "            \n",
    "            \n",
    "            if opt == 'max':\n",
    "                selected_top_m = top_m(means, m)\n",
    "                print('max')\n",
    "            else:\n",
    "                selected_top_m= bottom_m(means, m)\n",
    "\n",
    "            correct_selections[exp][t] = cs(selected_top_m, true_top_m)\n",
    "            print(selected_top_m)\n",
    "            \n",
    "    return correct_selections"
   ]
  },
  {
   "cell_type": "markdown",
   "metadata": {},
   "source": [
    "# Experiments for CRN data"
   ]
  },
  {
   "cell_type": "code",
   "execution_count": null,
   "metadata": {},
   "outputs": [],
   "source": [
    "def get_budgets(max_t, min_t, increment_t):\n",
    "    #incremental budgets 200, 400, .... T\n",
    "    budgets = [i for i in range(min_t, max_t + increment_t, increment_t)]\n",
    "    return budgets"
   ]
  },
  {
   "cell_type": "code",
   "execution_count": null,
   "metadata": {},
   "outputs": [],
   "source": [
    "def experiment_1():\n",
    "    T = 2000\n",
    "    increment_t = 100\n",
    "    min_budget = 300\n",
    "    n_0 = 20\n",
    "    delta = 50\n",
    "\n",
    "    #data file for this experiment.\n",
    "    ifile_name = 'data/EG1a_CRN.csv'\n",
    "\n",
    "    #info for correct selection\n",
    "    true_top_m = np.array([7, 8, 9])\n",
    "\n",
    "    #incremental budgets 200, 400, .... T\n",
    "    budgets = [400] #get_budgets(T, min_budget, increment_t)\n",
    "    \n",
    "    #generate experimental dataset\n",
    "    experiments = experiments_independent_samples(ifile_name, boots=10)\n",
    "    \n",
    "    #run numerical experiment\n",
    "    css = numerical_experiment(experiments, budgets, delta, true_top_m, n_0)\n",
    "    \n",
    "    return css"
   ]
  },
  {
   "cell_type": "code",
   "execution_count": null,
   "metadata": {},
   "outputs": [],
   "source": [
    "css = experiment_1()"
   ]
  },
  {
   "cell_type": "code",
   "execution_count": null,
   "metadata": {},
   "outputs": [],
   "source": [
    "df = pd.DataFrame(css)\n",
    "df.to_clipboard()"
   ]
  },
  {
   "cell_type": "code",
   "execution_count": null,
   "metadata": {},
   "outputs": [],
   "source": [
    "df"
   ]
  },
  {
   "cell_type": "markdown",
   "metadata": {},
   "source": [
    "## Experiments for Law Inventory Example"
   ]
  },
  {
   "cell_type": "markdown",
   "metadata": {},
   "source": [
    "### Maximisation Example (Top 3)"
   ]
  },
  {
   "cell_type": "code",
   "execution_count": null,
   "metadata": {},
   "outputs": [],
   "source": [
    "def experiment_2():\n",
    "    T = 300\n",
    "    increment_t = 100\n",
    "    min_budget = 300\n",
    "    n_0 = 20\n",
    "    delta = 50\n",
    "    n_experiments = 5\n",
    "\n",
    "    #data file for this experiment\n",
    "    ifile_name = 'data/EGLaw_CRN.csv'\n",
    "    \n",
    "    #info for correct selection (maximisation problem)\n",
    "    true_top_m = np.array([6, 7, 8]) \n",
    "    \n",
    "    #incremental budgets 200, 400, .... T\n",
    "    budgets = get_budgets(T, min_budget, increment_t)\n",
    "    \n",
    "    #generate experimental dataset\n",
    "    experiments = experiments_dependent_samples(ifile_name, boots=n_experiments)\n",
    "    \n",
    "    #run numerical experiment\n",
    "    css = numerical_experiment(experiments, budgets, delta, true_top_m, n_0)\n",
    "    \n",
    "    return css"
   ]
  },
  {
   "cell_type": "markdown",
   "metadata": {},
   "source": [
    "### Minimisation Example (Bottom 2)"
   ]
  },
  {
   "cell_type": "code",
   "execution_count": null,
   "metadata": {},
   "outputs": [],
   "source": [
    "def experiment_3():\n",
    "    T = 1000\n",
    "    increment_t = 100\n",
    "    min_budget = 300\n",
    "    n_0 = 20\n",
    "    delta = 50\n",
    "    n_experiments = 10000\n",
    "\n",
    "    #data file for this experiment\n",
    "    ifile_name = 'data/EGLaw_CRN.csv'\n",
    "    \n",
    "    #info for correct selection (maximisation problem)\n",
    "    true_top_m = np.array([1, 2]) \n",
    "    \n",
    "    #incremental budgets 200, 400, .... T\n",
    "    budgets = get_budgets(T, min_budget, increment_t)\n",
    "    \n",
    "    #generate experimental dataset\n",
    "    experiments = experiments_dependent_samples(ifile_name, boots=n_experiments)\n",
    "    \n",
    "    #run numerical experiment\n",
    "    css = numerical_experiment(experiments, budgets, delta, true_top_m, n_0, \n",
    "                               opt='min')\n",
    "    \n",
    "    return css"
   ]
  },
  {
   "cell_type": "markdown",
   "metadata": {},
   "source": [
    "# Run Experiments"
   ]
  },
  {
   "cell_type": "code",
   "execution_count": null,
   "metadata": {},
   "outputs": [],
   "source": [
    "results_law_max = experiment_2()"
   ]
  },
  {
   "cell_type": "code",
   "execution_count": null,
   "metadata": {},
   "outputs": [],
   "source": [
    "pd.DataFrame(results_law_max)"
   ]
  },
  {
   "cell_type": "code",
   "execution_count": null,
   "metadata": {},
   "outputs": [],
   "source": [
    "results_law_min = experiment_3()"
   ]
  },
  {
   "cell_type": "code",
   "execution_count": null,
   "metadata": {},
   "outputs": [],
   "source": [
    "pd.DataFrame(results_law_min)"
   ]
  },
  {
   "cell_type": "code",
   "execution_count": null,
   "metadata": {},
   "outputs": [],
   "source": [
    "#df = pd.DataFrame(css)\n",
    "#df[\"select\"] = top_m_list\n",
    "#df[\"allocations\"] = allocation_list\n",
    "#df[\"means_list\"] = np.around(means_list, decimals=4).tolist()\n",
    "#df.head()"
   ]
  },
  {
   "cell_type": "code",
   "execution_count": null,
   "metadata": {},
   "outputs": [],
   "source": [
    "#print(\"top m: {0}\".format(df[0:1][\"select\"].tolist()))\n",
    "#print(\"Means selected: {0}\".format(df[0:1][\"means_list\"].tolist()))\n",
    "#print(\"Allocations: {0}\".format(df[0:1][\"allocations\"].tolist()))"
   ]
  },
  {
   "cell_type": "code",
   "execution_count": null,
   "metadata": {},
   "outputs": [],
   "source": []
  },
  {
   "cell_type": "code",
   "execution_count": null,
   "metadata": {},
   "outputs": [],
   "source": [
    "budgets = get_budgets(3000, 300, 100)\n",
    "fig = plt.figure(figsize=(10,6))\n",
    "ax = pd.DataFrame(css, columns=budgets).mean(axis=0).plot(style='.-', ms=15)\n",
    "ax.set_ylabel(\"P{CS}\")\n",
    "ax.set_xlabel(\"Budget (max no. replications)\")\n",
    "ax.set_xticks(ticks = [i for i in range(200, 8000, 200)])\n",
    "\n",
    "ax.plot()"
   ]
  },
  {
   "cell_type": "code",
   "execution_count": null,
   "metadata": {},
   "outputs": [],
   "source": [
    "fig = plt.figure(figsize=(10,6))\n",
    "ax = pd.DataFrame(ocs, columns=budgets).mean(axis=0).plot(style='.-', ms=15)\n",
    "ax.set_ylabel(\"E{OC}\")\n",
    "ax.set_xlabel(\"Budget (max no. replications)\")\n",
    "ax.set_xticks(ticks = [i for i in range(200, 8000, 200)])\n",
    "\n",
    "ax.plot()"
   ]
  },
  {
   "cell_type": "code",
   "execution_count": null,
   "metadata": {},
   "outputs": [],
   "source": []
  }
 ],
 "metadata": {
  "kernelspec": {
   "display_name": "Python 3",
   "language": "python",
   "name": "python3"
  },
  "language_info": {
   "codemirror_mode": {
    "name": "ipython",
    "version": 3
   },
   "file_extension": ".py",
   "mimetype": "text/x-python",
   "name": "python",
   "nbconvert_exporter": "python",
   "pygments_lexer": "ipython3",
   "version": "3.7.3"
  }
 },
 "nbformat": 4,
 "nbformat_minor": 4
}
