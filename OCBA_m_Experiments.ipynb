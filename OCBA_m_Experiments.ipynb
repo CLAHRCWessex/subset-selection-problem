{
 "cells": [
  {
   "cell_type": "markdown",
   "metadata": {},
   "source": [
    "# OCBA-m"
   ]
  },
  {
   "cell_type": "markdown",
   "metadata": {},
   "source": [
    "Source. Chen et al. (2008) \n",
    "\n",
    "Efficient Simulation Budget Allocation for Selecting an Optimal Subset\n",
    "\n",
    "\n",
    "https://pubsonline.informs.org/doi/pdf/10.1287/ijoc.1080.0268"
   ]
  },
  {
   "cell_type": "code",
   "execution_count": 1,
   "metadata": {},
   "outputs": [],
   "source": [
    "import pandas as pd\n",
    "import numpy as np\n",
    "from numba import jit\n",
    "import matplotlib.pyplot as plt\n",
    "import seaborn as sns\n",
    "%matplotlib inline"
   ]
  },
  {
   "cell_type": "markdown",
   "metadata": {},
   "source": [
    "## Utility funcs"
   ]
  },
  {
   "cell_type": "code",
   "execution_count": 2,
   "metadata": {},
   "outputs": [],
   "source": [
    "def load_system(file_name, system, reps, reps_available, delim=','):\n",
    "    \"\"\"\n",
    "    Reads system data from a txt file (assumes comma delimited by default).  \n",
    "    Assumes that each column represents a system.\n",
    "    Returns a numpy array.  Each row is a system (single row); each col is a replication\n",
    "    \n",
    "    \n",
    "    @file_name = name of file containing csv data\n",
    "    @system = index of system in txt file.\n",
    "    @reps = replications wanted\n",
    "    @reps_available = total number of replications that has been simulated.\n",
    "    @delim = delimiter of file.  Default = ',' for CSV.  \n",
    "\n",
    "    \"\"\"\n",
    "    \n",
    "    return np.genfromtxt(file_name, delimiter=delim, usecols = system, skip_footer = (reps_available - reps))"
   ]
  },
  {
   "cell_type": "code",
   "execution_count": 3,
   "metadata": {},
   "outputs": [],
   "source": [
    "def simulate(data, k, allocations):\n",
    "    \"\"\"\n",
    "    Simulates the systems.  \n",
    "    Each system is allocated a different budget of replications\n",
    "    \n",
    "    Returns list of numpy arrays\n",
    "    \n",
    "    @allocations = numpy array.  budget of replications for the k systems \n",
    "    \"\"\"\n",
    "    return [data[i][0:allocations[i]] for i in range(k)]\n",
    "    "
   ]
  },
  {
   "cell_type": "code",
   "execution_count": 4,
   "metadata": {},
   "outputs": [],
   "source": [
    "def get_ranks(array):\n",
    "    \"\"\"\n",
    "    Returns a numpy array containing ranks of numbers within a input numpy array\n",
    "    e.g. [3, 2, 1] returns [2, 1, 0]\n",
    "    e.g. [3, 2, 1, 4] return [2, 1, 0, 3]\n",
    "        \n",
    "    @array - numpy array (only tested with 1d)\n",
    "        \n",
    "    \"\"\"\n",
    "    temp = array.argsort()\n",
    "    ranks = np.empty_like(temp)\n",
    "    ranks[temp] = np.arange(len(array))\n",
    "    return ranks"
   ]
  },
  {
   "cell_type": "code",
   "execution_count": 5,
   "metadata": {},
   "outputs": [],
   "source": [
    "def bootstrap(data, boots=1000):\n",
    "    \"\"\"\n",
    "    Returns a numpy array containing the bootstrap resamples\n",
    "    Useful for creating a large number of experimental datasets for testing R&S routines\n",
    "    \n",
    "    @data = numpy.array of systems to boostrap\n",
    "    @boots = number of bootstrap (default = 1000)\n",
    "    \"\"\"\n",
    "\n",
    "    experiments = boots\n",
    "    designs = data.shape[0]\n",
    "    samples = data.shape[1]\n",
    "\n",
    "    datasets = np.zeros((experiments, designs, samples))\n",
    "     \n",
    "    for exp in range(experiments):\n",
    "        \n",
    "        for design in range(designs):\n",
    "\n",
    "            for i in range(samples):\n",
    "\n",
    "                datasets[exp][design][i] = data[design][round(np.random.uniform(0, samples)-1)]\n",
    "      \n",
    "    return datasets"
   ]
  },
  {
   "cell_type": "code",
   "execution_count": 6,
   "metadata": {},
   "outputs": [],
   "source": [
    "@jit(nopython=True)\n",
    "def crn_bootstrap(data, boots=1000):\n",
    "    \"\"\"\n",
    "    Returns a numpy array containing the bootstrap resamples\n",
    "    Useful for creating a large number of experimental datasets for testing R&S routines\n",
    "    \n",
    "    @data = numpy.array of systems to boostrap\n",
    "    @boots = number of bootstrap (default = 1000)\n",
    "    \"\"\"\n",
    "\n",
    "    experiments = boots\n",
    "    designs = data.shape[0]\n",
    "    samples = data.shape[1]\n",
    "    \n",
    "    datasets = np.zeros((experiments, designs, samples))\n",
    "     \n",
    "    for exp in range(experiments):\n",
    "        \n",
    "         for i in range(samples):\n",
    "\n",
    "                row = data.T[np.random.choice(data.shape[0])]\n",
    "                \n",
    "                for design in range(designs):\n",
    "                    datasets[exp][design][i] = row[design]  \n",
    "      \n",
    "    return datasets"
   ]
  },
  {
   "cell_type": "markdown",
   "metadata": {},
   "source": [
    "# Walk through of how Ocba-m works"
   ]
  },
  {
   "cell_type": "markdown",
   "metadata": {},
   "source": [
    "##  Input"
   ]
  },
  {
   "cell_type": "markdown",
   "metadata": {},
   "source": [
    "**k** = total number of designs\n",
    "\n",
    "**m** = no. of top designs to select\n",
    "\n",
    "**T** = total budget (replications)\n",
    "\n",
    "**n_0** = l number of replications  (>=5)\n",
    "\n",
    "**delta** - additional budget to allocate between each simulation  \n",
    "\n",
    "*where T - k.n_0 is a multiple of delta*\n"
   ]
  },
  {
   "cell_type": "code",
   "execution_count": 7,
   "metadata": {},
   "outputs": [],
   "source": [
    "k = 10\n",
    "m = 3\n",
    "T = 2000\n",
    "n_0 = 20\n",
    "delta = 50\n",
    "\n",
    "#specific to this implementation\n",
    "ifile_name = 'data/EG1a.csv'\n",
    "reps_available = 10000"
   ]
  },
  {
   "cell_type": "markdown",
   "metadata": {},
   "source": [
    "### OCBA-m tutorial - single loop of the algorithm"
   ]
  },
  {
   "cell_type": "markdown",
   "metadata": {},
   "source": [
    "The code below illustrates the implementation of OCBA-m with a single pass of the algorithm."
   ]
  },
  {
   "cell_type": "markdown",
   "metadata": {},
   "source": [
    "## Initialise"
   ]
  },
  {
   "cell_type": "code",
   "execution_count": 8,
   "metadata": {},
   "outputs": [
    {
     "data": {
      "text/plain": [
       "array([20, 20, 20, 20, 20, 20, 20, 20, 20, 20])"
      ]
     },
     "execution_count": 8,
     "metadata": {},
     "output_type": "execute_result"
    }
   ],
   "source": [
    "allocations = np.full(k, n_0, dtype=int)\n",
    "allocations"
   ]
  },
  {
   "cell_type": "code",
   "execution_count": 9,
   "metadata": {},
   "outputs": [
    {
     "ename": "TypeError",
     "evalue": "load_system() missing 3 required positional arguments: 'system', 'reps', and 'reps_available'",
     "output_type": "error",
     "traceback": [
      "\u001b[0;31m---------------------------------------------------------------------------\u001b[0m",
      "\u001b[0;31mTypeError\u001b[0m                                 Traceback (most recent call last)",
      "\u001b[0;32m<ipython-input-9-cd0332f69477>\u001b[0m in \u001b[0;36m<module>\u001b[0;34m\u001b[0m\n\u001b[0;32m----> 1\u001b[0;31m \u001b[0mdata\u001b[0m \u001b[0;34m=\u001b[0m \u001b[0mload_system\u001b[0m\u001b[0;34m(\u001b[0m\u001b[0mifile_name\u001b[0m\u001b[0;34m)\u001b[0m\u001b[0;34m\u001b[0m\u001b[0;34m\u001b[0m\u001b[0m\n\u001b[0m\u001b[1;32m      2\u001b[0m \u001b[0msystems\u001b[0m \u001b[0;34m=\u001b[0m \u001b[0msimulate\u001b[0m\u001b[0;34m(\u001b[0m\u001b[0mdata\u001b[0m\u001b[0;34m,\u001b[0m \u001b[0mk\u001b[0m\u001b[0;34m,\u001b[0m \u001b[0mallocations\u001b[0m\u001b[0;34m)\u001b[0m\u001b[0;34m\u001b[0m\u001b[0;34m\u001b[0m\u001b[0m\n",
      "\u001b[0;31mTypeError\u001b[0m: load_system() missing 3 required positional arguments: 'system', 'reps', and 'reps_available'"
     ]
    }
   ],
   "source": [
    "data = load_system(ifile_name)\n",
    "systems = simulate(data, k, allocations)"
   ]
  },
  {
   "cell_type": "code",
   "execution_count": null,
   "metadata": {},
   "outputs": [],
   "source": [
    "#sample means, standard devs and standard errors\n",
    "means = np.array([array.mean() for array in systems])"
   ]
  },
  {
   "cell_type": "code",
   "execution_count": null,
   "metadata": {},
   "outputs": [],
   "source": [
    "stds = np.array([array.std() for array in systems])\n",
    "ses = np.divide(stds, np.sqrt(allocations))"
   ]
  },
  {
   "cell_type": "code",
   "execution_count": null,
   "metadata": {},
   "outputs": [],
   "source": [
    "means"
   ]
  },
  {
   "cell_type": "code",
   "execution_count": null,
   "metadata": {},
   "outputs": [],
   "source": [
    "ses"
   ]
  },
  {
   "cell_type": "code",
   "execution_count": null,
   "metadata": {},
   "outputs": [],
   "source": [
    "#calculate paramater c and gammas\n",
    "\n",
    "order = np.argsort(means)\n",
    "s_ses = ses[order]\n",
    "s_means = means[order]\n",
    "\n",
    "order"
   ]
  },
  {
   "cell_type": "code",
   "execution_count": null,
   "metadata": {},
   "outputs": [],
   "source": [
    "s_means"
   ]
  },
  {
   "cell_type": "code",
   "execution_count": null,
   "metadata": {},
   "outputs": [],
   "source": [
    "s_ses"
   ]
  },
  {
   "cell_type": "code",
   "execution_count": null,
   "metadata": {},
   "outputs": [],
   "source": [
    "c = ((s_ses[k-m+1] * s_means[k-m]) + (s_ses[k-m] * s_means[k-m+1]))/(s_ses[k-m]+s_ses[k-m+1])  \n",
    "deltas = means - c"
   ]
  },
  {
   "cell_type": "markdown",
   "metadata": {},
   "source": [
    "calculate c "
   ]
  },
  {
   "cell_type": "code",
   "execution_count": null,
   "metadata": {},
   "outputs": [],
   "source": [
    "c"
   ]
  },
  {
   "cell_type": "code",
   "execution_count": null,
   "metadata": {},
   "outputs": [],
   "source": [
    "deltas"
   ]
  },
  {
   "cell_type": "markdown",
   "metadata": {},
   "source": [
    "## Allocate "
   ]
  },
  {
   "cell_type": "markdown",
   "metadata": {},
   "source": [
    "allocate additional budget **delta**"
   ]
  },
  {
   "cell_type": "markdown",
   "metadata": {},
   "source": [
    "Procedure:\n",
    "\n",
    "1. calculate ratio N_i/(se_i /gamma_i)^2\n",
    "\n",
    "2. while additional budget delta is available\n",
    "\n",
    "    2.1 rank\n",
    "\n",
    "    2.2 add 1 to smallest \n",
    "\n",
    "    2.3 delta =- 1\n"
   ]
  },
  {
   "cell_type": "code",
   "execution_count": null,
   "metadata": {},
   "outputs": [],
   "source": [
    "values = np.divide(allocations, np.square(np.divide(ses, deltas)))\n",
    "values"
   ]
  },
  {
   "cell_type": "code",
   "execution_count": null,
   "metadata": {},
   "outputs": [],
   "source": [
    "\n",
    "for i in range(delta):\n",
    "\n",
    "    ranks = get_ranks(values)\n",
    "    allocations[ranks.argmin()] += 1\n",
    "    #recalculate values.\n",
    "    values = np.divide(allocations, np.square(np.divide(ses, deltas)))\n",
    "\n",
    "values"
   ]
  },
  {
   "cell_type": "code",
   "execution_count": null,
   "metadata": {},
   "outputs": [],
   "source": [
    "allocations"
   ]
  },
  {
   "cell_type": "markdown",
   "metadata": {},
   "source": [
    "## Simulate"
   ]
  },
  {
   "cell_type": "markdown",
   "metadata": {},
   "source": [
    "Simulate the next stage..."
   ]
  },
  {
   "cell_type": "code",
   "execution_count": null,
   "metadata": {},
   "outputs": [],
   "source": [
    "systems = simulate(data, k, allocations)\n",
    "means2 = np.array([array.mean() for array in systems])\n",
    "print(np.subtract(means2, means))\n"
   ]
  },
  {
   "cell_type": "code",
   "execution_count": null,
   "metadata": {},
   "outputs": [],
   "source": [
    "means = means2"
   ]
  },
  {
   "cell_type": "markdown",
   "metadata": {},
   "source": [
    "and continue looping until budget is all used up..."
   ]
  },
  {
   "cell_type": "markdown",
   "metadata": {},
   "source": [
    "### Full Implementation "
   ]
  },
  {
   "cell_type": "code",
   "execution_count": 10,
   "metadata": {},
   "outputs": [],
   "source": [
    "@jit(nopython=True)\n",
    "def summary_statistics(systems, allocations):\n",
    "    means = np.array([array.mean() for array in systems])\n",
    "    stds = np.array([array.std() for array in systems])\n",
    "    ses = np.divide(stds, np.sqrt(allocations))\n",
    "    \n",
    "    return means, ses"
   ]
  },
  {
   "cell_type": "code",
   "execution_count": 11,
   "metadata": {},
   "outputs": [],
   "source": [
    "def top_m(means, m):\n",
    "    \"\"\"\n",
    "    Returns the top m system designs\n",
    "    Largest sample means\n",
    "    \"\"\"\n",
    "    ranks = get_ranks(means)\n",
    "    return np.argpartition(ranks, -m)[-m:]"
   ]
  },
  {
   "cell_type": "code",
   "execution_count": 12,
   "metadata": {},
   "outputs": [],
   "source": [
    "def bottom_m(means, m):\n",
    "    \"\"\"\n",
    "    Returns the bottom m system designs\n",
    "    Smallest sample means\n",
    "    \"\"\"\n",
    "    ranks = get_ranks(means)\n",
    "    return np.argpartition(ranks, m)[:m]"
   ]
  },
  {
   "cell_type": "code",
   "execution_count": 13,
   "metadata": {},
   "outputs": [],
   "source": [
    "@jit(nopython=True)\n",
    "def parameter_c(means, ses, k, m):\n",
    "    order = np.argsort(means)\n",
    "    s_ses = ses[order]\n",
    "    s_means = means[order]\n",
    "\n",
    "    return((s_ses[k-m+1] * s_means[k-m]) + (s_ses[k-m] * s_means[k-m+1]))/(s_ses[k-m]+s_ses[k-m+1])  "
   ]
  },
  {
   "cell_type": "code",
   "execution_count": 38,
   "metadata": {},
   "outputs": [],
   "source": [
    "def ocba_m(dataset, k, allocations, T, delta, m):\n",
    "    \n",
    "    while allocations.sum() < T:\n",
    "        \n",
    "        #simulate systems using new allocation of budget\n",
    "        reps = simulate(dataset, k, allocations) \n",
    "        \n",
    "        #calculate sample means and standard errors\n",
    "        means, ses = summary_statistics(reps, allocations)\n",
    "        \n",
    "        #calculate parameter c and deltas\n",
    "        c = parameter_c(means, ses, k, m)\n",
    "        deltas = means - c\n",
    "        \n",
    "        print(deltas)\n",
    "        \n",
    "        #allocate\n",
    "        for i in range(delta):\n",
    "            values = np.divide(allocations, np.square(np.divide(ses, deltas)))\n",
    "            ranks = get_ranks(values)\n",
    "            allocations[ranks.argmin()] += 1\n",
    "            \n",
    "    return means, ses, allocations"
   ]
  },
  {
   "cell_type": "code",
   "execution_count": 15,
   "metadata": {},
   "outputs": [],
   "source": [
    "def cs(selected_top_m, true_top_m):\n",
    "    \"\"\"\n",
    "    Returns boolean value.  \n",
    "    True = correct selection of top m\n",
    "    False = incorrect selection (one or more of selected top m is incorrect)\n",
    "    \n",
    "    Keyword arguments:\n",
    "    selected_top_m - numpy.array containing the indexes of the top m means selected by the algorithm\n",
    "    true_top_m - numpy.array containing the indexes of the true top m means\n",
    "    \n",
    "    \"\"\"\n",
    "    return np.array_equal(np.sort(selected_top_m), true_top_m)"
   ]
  },
  {
   "cell_type": "code",
   "execution_count": 16,
   "metadata": {},
   "outputs": [],
   "source": [
    "def oc(true_means, selected_top_m, true_top_m):\n",
    "    \"\"\"\n",
    "    Return the opportunity cost of the selection\n",
    "    Method penalised particular bad solutions more than mildly bad\n",
    "    \n",
    "    @true_means - numpy.array of true means\n",
    "    @selected_top_m - numpy.array containing the indexes of the top m means selected by the algorithm\n",
    "    @true_top_m - numpy.array containing the indexes of the true top m means\n",
    "    \n",
    "    \"\"\"\n",
    "    return (true_means[selected_top_m] - true_means[true_top_m]).sum()"
   ]
  },
  {
   "cell_type": "code",
   "execution_count": 17,
   "metadata": {},
   "outputs": [],
   "source": [
    "def p_cs(correct_selections):\n",
    "    \"\"\"\n",
    "    Returns the probability of correct selection P{cs}\n",
    "    Keyword arguments:\n",
    "    \n",
    "    correct_selections - list indicating if a given budget found the top m e.g. [False, True, True]\n",
    "    \"\"\"\n",
    "    return np.array(correct_selections).sum() / len(correct_selections)"
   ]
  },
  {
   "cell_type": "code",
   "execution_count": 18,
   "metadata": {},
   "outputs": [],
   "source": [
    "def p_cs2(correct_selections):\n",
    "    \"\"\"\n",
    "    Returns the probability of correct selection P{cs}\n",
    "    \n",
    "    @correct_selections - numpy.array of budget versus exp. Contains True or False indicating correct selection.\n",
    "    \n",
    "    \"\"\"\n",
    "    return np.mean(correct_selections, axis=1)"
   ]
  },
  {
   "cell_type": "code",
   "execution_count": 19,
   "metadata": {},
   "outputs": [],
   "source": [
    "def e_oc(opportunity_costs):\n",
    "    \"\"\"\n",
    "    Return the expected opportunity cost E{oc}\n",
    "    \n",
    "    @opportunity costs - arrange of opportunity cost per budget\n",
    "    \"\"\"\n",
    "    return np.array(opportunity_costs).mean()"
   ]
  },
  {
   "cell_type": "code",
   "execution_count": 20,
   "metadata": {},
   "outputs": [],
   "source": [
    "def e_oc2(opportunity_costs):\n",
    "    \"\"\"\n",
    "    Return the expected opportunity cost E{oc}\n",
    "    \n",
    "    @opportunity costs - arrange of opportunity cost per budget\n",
    "    \"\"\"\n",
    "    return np.mean(opportunity_costs, axis=0)"
   ]
  },
  {
   "cell_type": "markdown",
   "metadata": {},
   "source": [
    "# Numerical test - single experiment"
   ]
  },
  {
   "cell_type": "markdown",
   "metadata": {},
   "source": [
    "### Create Experimental Data#"
   ]
  },
  {
   "cell_type": "markdown",
   "metadata": {},
   "source": [
    "#### Use the following code to create independent samples"
   ]
  },
  {
   "cell_type": "code",
   "execution_count": 21,
   "metadata": {},
   "outputs": [],
   "source": [
    "def experiments_independent_samples(ifile_name, boots=1000):\n",
    "    data = np.genfromtxt(ifile_name, delimiter=\",\", skip_footer=0).transpose()\n",
    "    experiments = bootstrap(data, boots=boots)\n",
    "    return experiments"
   ]
  },
  {
   "cell_type": "markdown",
   "metadata": {},
   "source": [
    "#### Use the following code to create CRN data sets"
   ]
  },
  {
   "cell_type": "code",
   "execution_count": null,
   "metadata": {},
   "outputs": [],
   "source": [
    "def experiments_dependent_samples(ifile_name, boots=1000):\n",
    "    data = np.genfromtxt(ifile_name, delimiter=\",\", skip_footer=0).transpose()\n",
    "    experiments = crn_bootstrap(data, boots=boots)\n",
    "    return experiments"
   ]
  },
  {
   "cell_type": "markdown",
   "metadata": {},
   "source": [
    "Use the `numerical_experiment()` function to run experiments of OBCA-m across multiple experimental datasets and budgets.\n",
    "\n",
    "For example, you may have 100 datasets to test across budgets of 1000, 2000, 3000 and 4000 replications."
   ]
  },
  {
   "cell_type": "code",
   "execution_count": 37,
   "metadata": {},
   "outputs": [],
   "source": [
    "def numerical_experiment(experiments, budgets, delta, true_top_m, n_0,\n",
    "                         opt='max'):\n",
    "    \"\"\"\n",
    "    Conduct a user set number of numerical experiments on the algorithm\n",
    "    for different computational budgets\n",
    "    \n",
    "    Returns:\n",
    "    1. numpy.array containing P{cs} for each budget\n",
    "    2. numpy.array containing E{oc} for each budget\n",
    "    \n",
    "    Keyword arguments:\n",
    "    experiments -- numpy.array[experiments][designs][replication]\n",
    "    budgets -- python.list containing budgets\n",
    "    delta - maximum amount of budget to allocate per run. \n",
    "    true_top_m -- top m (i.e. the systems that should be returned)\n",
    "    n_0 -- initial number of replications per system\n",
    "    \n",
    "    \"\"\"\n",
    "    n_experiments = experiments.shape[0]\n",
    "    k = experiments.shape[1]\n",
    "    m = true_top_m.shape[0]\n",
    "        \n",
    "    correct_selections = np.zeros((n_experiments, len(budgets)))\n",
    "    opportunity_costs = np.zeros((n_experiments, len(budgets)))\n",
    "\n",
    "    for exp in range(n_experiments):\n",
    "\n",
    "        for t in range(len(budgets)):\n",
    "\n",
    "            allocations = np.full(k, n_0, dtype=int)\n",
    "                        \n",
    "            means, ses, allocations = ocba_m(experiments[exp], k, \n",
    "                                             allocations, budgets[t], \n",
    "                                             delta, m)\n",
    "            \n",
    "            #print(allocations)\n",
    "            #print(ses)\n",
    "            #print(means)\n",
    "            \n",
    "            if opt == 'max':\n",
    "                selected_top_m = top_m(means, m)\n",
    "                print('max')\n",
    "            else:\n",
    "                selected_top_m= bottom_m(means, m)\n",
    "\n",
    "            correct_selections[exp][t] = cs(selected_top_m, true_top_m)\n",
    "            print(selected_top_m)\n",
    "            \n",
    "    return correct_selections"
   ]
  },
  {
   "cell_type": "markdown",
   "metadata": {},
   "source": [
    "# Experiments for CRN data"
   ]
  },
  {
   "cell_type": "code",
   "execution_count": 24,
   "metadata": {},
   "outputs": [],
   "source": [
    "def get_budgets(max_t, min_t, increment_t):\n",
    "    #incremental budgets 200, 400, .... T\n",
    "    budgets = [i for i in range(min_t, max_t + increment_t, increment_t)]\n",
    "    return budgets"
   ]
  },
  {
   "cell_type": "code",
   "execution_count": 28,
   "metadata": {},
   "outputs": [],
   "source": [
    "def experiment_1():\n",
    "    T = 2000\n",
    "    increment_t = 100\n",
    "    min_budget = 300\n",
    "    n_0 = 20\n",
    "    delta = 50\n",
    "\n",
    "    #data file for this experiment.\n",
    "    ifile_name = 'data/EG1a_CRN.csv'\n",
    "\n",
    "    #info for correct selection\n",
    "    true_top_m = np.array([7, 8, 9])\n",
    "\n",
    "    #incremental budgets 200, 400, .... T\n",
    "    budgets = [400] #get_budgets(T, min_budget, increment_t)\n",
    "    \n",
    "    #generate experimental dataset\n",
    "    experiments = experiments_independent_samples(ifile_name, boots=10)\n",
    "    \n",
    "    #run numerical experiment\n",
    "    css = numerical_experiment(experiments, budgets, delta, true_top_m, n_0)\n",
    "    \n",
    "    return css"
   ]
  },
  {
   "cell_type": "code",
   "execution_count": 39,
   "metadata": {},
   "outputs": [
    {
     "name": "stdout",
     "output_type": "stream",
     "text": [
      "[-8.15468628 -6.33116906 -4.25496896 -6.02227429 -3.28087673 -4.92773213\n",
      "  0.98581728 -1.52597796 -0.42311312  0.36858027]\n",
      "[-8.19123787 -6.36772065 -4.29152055 -6.05882589 -3.31742832 -4.96428372\n",
      "  0.94926569 -1.56252955 -0.61185695  0.44094849]\n",
      "[-8.36022679 -6.53670957 -4.46050946 -6.2278148  -3.48641724 -5.13327263\n",
      "  0.55596527 -1.73151846 -0.55249048  0.50070007]\n",
      "[-7.637705   -5.81418778 -3.73798768 -5.50529302 -2.76389545 -4.41075085\n",
      " -0.13381105 -1.00899668  0.1700313   1.22322185]\n",
      "max\n",
      "[6 8 9]\n",
      "[-7.05999847 -6.02833571 -4.94769424 -4.68923562 -1.50273314 -5.14351885\n",
      " -2.56468914 -1.96466674  1.300477    1.20082871]\n",
      "[-6.54861702 -5.51695427 -4.4363128  -4.17785417 -1.89198389 -4.6321374\n",
      " -2.05330769 -1.28713551  1.69859373  0.8472416 ]\n",
      "[-6.64850948 -5.61684673 -4.53620526 -4.27774664 -1.99187635 -4.73202986\n",
      " -1.64286779 -1.4901837   1.59870126  1.71789135]\n",
      "[-5.91856062 -4.88689787 -3.8062564  -3.54779777 -1.26192749 -4.002081\n",
      " -1.44526317 -0.76023484  0.72504333  2.44784021]\n",
      "max\n",
      "[7 8 9]\n",
      "[-8.70025502 -7.80750875 -6.27977842 -4.00658785 -4.90952333 -4.08750006\n",
      " -0.48338551 -2.20918441  0.48348505  0.65991337]\n",
      "[-7.58964281 -6.69689653 -5.16916621 -2.89597563 -3.79891111 -2.97688784\n",
      " -0.37014567 -1.09857219  0.37692671  1.77052559]\n",
      "[-7.19839813 -6.30565185 -4.77792153 -2.50473096 -3.40766644 -2.58564317\n",
      " -0.5716743  -0.70732751  0.58605723  2.16177027]\n",
      "[-7.19839813 -6.30565185 -4.77792153 -2.50473096 -3.40766644 -2.58564317\n",
      " -0.5716743  -0.68989253  0.58605723  2.16177027]\n",
      "max\n",
      "[6 8 9]\n",
      "[-6.24391327 -6.40191863 -7.40799116 -2.492638   -3.01294138 -3.94357176\n",
      "  0.44172888 -1.93133539 -0.46179825  2.405311  ]\n",
      "[-5.78002191 -5.93802726 -6.94409979 -2.02874663 -2.54905002 -3.47968039\n",
      " -0.4394729  -1.46744402  0.3744582   2.86920237]\n",
      "[-5.93678015 -6.09478551 -7.10085803 -2.18550488 -2.70580826 -3.63643864\n",
      " -0.15966423 -1.00080505  0.12988246  2.71244412]\n",
      "[-5.95055042 -6.10855577 -7.1146283  -2.19927514 -2.71957852 -3.6502089\n",
      " -0.36005509 -1.01457531  0.30418287  2.69867386]\n",
      "max\n",
      "[6 8 9]\n",
      "[-7.89029236 -5.99775077 -4.47362822 -4.95738665 -5.87028636 -3.12663133\n",
      " -0.4005057   0.41907297 -1.06010765  0.92174794]\n",
      "[-7.83600069 -5.94345909 -4.41933655 -4.90309498 -5.81599469 -3.07233966\n",
      " -1.65497492  0.58636437 -1.00581598  0.97603961]\n",
      "[-7.62541103 -5.73286943 -4.20874688 -4.69250531 -5.60540502 -2.86174999\n",
      " -1.44438526  0.79695403 -0.94449033  1.00816164]\n",
      "[-7.97778515 -6.08524356 -4.56112101 -5.04487944 -5.95777915 -4.09806196\n",
      " -1.79675939  0.46461419 -0.55395972  0.61072921]\n",
      "max\n",
      "[8 7 9]\n",
      "[-9.42649186 -8.8250695  -6.21475718 -5.99900849 -7.07366374 -3.22126265\n",
      " -0.0566094  -2.13839095  0.35539643  0.07228089]\n",
      "[-8.58189249 -7.98047013 -5.37015781 -5.15440912 -6.22906437 -2.37666327\n",
      " -0.95700572 -1.29379157  1.1999958   0.95811601]\n",
      "[-8.26390842 -7.66248606 -5.05217374 -4.83642505 -5.9110803  -2.0586792\n",
      " -0.63902165 -0.84385525  0.68179969  1.27610007]\n",
      "[-8.10647416 -7.5050518  -4.89473947 -4.67899078 -5.75364604 -1.77277995\n",
      " -0.69407984 -0.68642098  0.58226094  1.43353434]\n",
      "max\n",
      "[7 8 9]\n",
      "[-8.46451864 -7.60558339 -5.60212687 -3.1875464  -4.37818199 -3.05283703\n",
      " -2.09673793  0.14120476  1.41200565 -0.10859567]\n",
      "[-7.92481345 -7.06587821 -5.06242169 -2.64784121 -3.83847681 -2.51313185\n",
      " -1.55703275 -0.07612427  1.95171083  0.0568016 ]\n",
      "[-8.52755591 -7.66862067 -5.66516415 -3.25058367 -4.44121927 -3.11587431\n",
      " -2.15977521 -0.29488399  1.34896837  0.22622102]\n",
      "[-9.11325771 -8.25432247 -6.25086594 -3.83628547 -5.02692107 -3.70157611\n",
      " -2.745477   -0.68857591  0.76326658  0.60226319]\n",
      "max\n",
      "[7 9 8]\n",
      "[-7.07017718 -6.8248977  -6.54254769 -4.39370584 -5.77598273 -0.35378455\n",
      " -1.73975876 -1.33106114  0.34953719  2.781149  ]\n",
      "[-7.12926694 -6.88398746 -6.60163746 -4.4527956  -5.8350725  -1.75635482\n",
      " -1.79884853 -1.39015091  1.02084039  2.72205923]\n",
      "[-6.90326241 -6.65798293 -6.37563292 -4.22679107 -5.60906797 -1.53035029\n",
      " -1.81827276 -1.78466074  1.01780139  2.94806376]\n",
      "[-7.18767894 -6.94239946 -6.66004945 -4.5112076  -5.8934845  -1.60586723\n",
      " -2.40338588 -2.06907727  1.33802834  2.66364723]\n",
      "max\n",
      "[5 8 9]\n",
      "[-8.19747871 -7.65610037 -6.24424031 -4.18787608 -2.58382867 -0.29983591\n",
      " -2.22974154 -0.22004968  0.21388372  1.03437828]\n",
      "[-8.45267345 -7.91129511 -6.49943505 -4.44307083 -2.83902341 -0.55503066\n",
      " -2.48493629 -1.86941921  0.49125513  0.77918354]\n",
      "[-7.57179388 -7.03041554 -5.61855548 -3.56219126 -1.95814384 -0.69403772\n",
      " -1.60405671 -0.98853963  0.83784254  2.60136133]\n",
      "[-7.89047339 -7.34909505 -5.93723499 -3.88087077 -2.29402806 -0.74074282\n",
      " -1.83837649 -0.51337768  0.45408403  2.28268181]\n",
      "max\n",
      "[7 8 9]\n",
      "[-6.78360828 -8.92260698 -6.35972294 -5.44571182 -4.1638094  -2.96473375\n",
      "  0.89832649 -0.82210204 -0.83630627  1.6279043 ]\n",
      "[-7.37359151 -9.51259022 -6.94970618 -6.03569506 -4.75379264 -3.55471699\n",
      " -2.03492994  0.82549931 -0.70042567  1.03792106]\n",
      "[-7.60338115 -9.74237985 -7.17949582 -6.26548469 -4.98358227 -3.78450663\n",
      " -2.26471957 -0.45732645  0.43026158  1.61635575]\n",
      "[-7.3609223  -9.499921   -6.93703697 -6.02302585 -4.74112342 -3.54204778\n",
      " -2.02226072 -0.57695264  0.54365174  1.85881459]\n",
      "max\n",
      "[7 8 9]\n"
     ]
    }
   ],
   "source": [
    "css = experiment_1()"
   ]
  },
  {
   "cell_type": "code",
   "execution_count": 30,
   "metadata": {},
   "outputs": [],
   "source": [
    "df = pd.DataFrame(css)\n",
    "df.to_clipboard()"
   ]
  },
  {
   "cell_type": "code",
   "execution_count": 31,
   "metadata": {},
   "outputs": [
    {
     "data": {
      "text/html": [
       "<div>\n",
       "<style scoped>\n",
       "    .dataframe tbody tr th:only-of-type {\n",
       "        vertical-align: middle;\n",
       "    }\n",
       "\n",
       "    .dataframe tbody tr th {\n",
       "        vertical-align: top;\n",
       "    }\n",
       "\n",
       "    .dataframe thead th {\n",
       "        text-align: right;\n",
       "    }\n",
       "</style>\n",
       "<table border=\"1\" class=\"dataframe\">\n",
       "  <thead>\n",
       "    <tr style=\"text-align: right;\">\n",
       "      <th></th>\n",
       "      <th>0</th>\n",
       "    </tr>\n",
       "  </thead>\n",
       "  <tbody>\n",
       "    <tr>\n",
       "      <th>0</th>\n",
       "      <td>1.0</td>\n",
       "    </tr>\n",
       "    <tr>\n",
       "      <th>1</th>\n",
       "      <td>1.0</td>\n",
       "    </tr>\n",
       "    <tr>\n",
       "      <th>2</th>\n",
       "      <td>1.0</td>\n",
       "    </tr>\n",
       "    <tr>\n",
       "      <th>3</th>\n",
       "      <td>1.0</td>\n",
       "    </tr>\n",
       "    <tr>\n",
       "      <th>4</th>\n",
       "      <td>1.0</td>\n",
       "    </tr>\n",
       "    <tr>\n",
       "      <th>5</th>\n",
       "      <td>1.0</td>\n",
       "    </tr>\n",
       "    <tr>\n",
       "      <th>6</th>\n",
       "      <td>0.0</td>\n",
       "    </tr>\n",
       "    <tr>\n",
       "      <th>7</th>\n",
       "      <td>1.0</td>\n",
       "    </tr>\n",
       "    <tr>\n",
       "      <th>8</th>\n",
       "      <td>1.0</td>\n",
       "    </tr>\n",
       "    <tr>\n",
       "      <th>9</th>\n",
       "      <td>0.0</td>\n",
       "    </tr>\n",
       "  </tbody>\n",
       "</table>\n",
       "</div>"
      ],
      "text/plain": [
       "     0\n",
       "0  1.0\n",
       "1  1.0\n",
       "2  1.0\n",
       "3  1.0\n",
       "4  1.0\n",
       "5  1.0\n",
       "6  0.0\n",
       "7  1.0\n",
       "8  1.0\n",
       "9  0.0"
      ]
     },
     "execution_count": 31,
     "metadata": {},
     "output_type": "execute_result"
    }
   ],
   "source": [
    "df"
   ]
  },
  {
   "cell_type": "markdown",
   "metadata": {},
   "source": [
    "## Experiments for Law Inventory Example"
   ]
  },
  {
   "cell_type": "markdown",
   "metadata": {},
   "source": [
    "### Maximisation Example (Top 3)"
   ]
  },
  {
   "cell_type": "code",
   "execution_count": null,
   "metadata": {},
   "outputs": [],
   "source": [
    "def experiment_2():\n",
    "    T = 300\n",
    "    increment_t = 100\n",
    "    min_budget = 300\n",
    "    n_0 = 20\n",
    "    delta = 50\n",
    "    n_experiments = 5\n",
    "\n",
    "    #data file for this experiment\n",
    "    ifile_name = 'data/EGLaw_CRN.csv'\n",
    "    \n",
    "    #info for correct selection (maximisation problem)\n",
    "    true_top_m = np.array([6, 7, 8]) \n",
    "    \n",
    "    #incremental budgets 200, 400, .... T\n",
    "    budgets = get_budgets(T, min_budget, increment_t)\n",
    "    \n",
    "    #generate experimental dataset\n",
    "    experiments = experiments_dependent_samples(ifile_name, boots=n_experiments)\n",
    "    \n",
    "    #run numerical experiment\n",
    "    css = numerical_experiment(experiments, budgets, delta, true_top_m, n_0)\n",
    "    \n",
    "    return css"
   ]
  },
  {
   "cell_type": "markdown",
   "metadata": {},
   "source": [
    "### Minimisation Example (Bottom 2)"
   ]
  },
  {
   "cell_type": "code",
   "execution_count": null,
   "metadata": {},
   "outputs": [],
   "source": [
    "def experiment_3():\n",
    "    T = 1000\n",
    "    increment_t = 100\n",
    "    min_budget = 300\n",
    "    n_0 = 20\n",
    "    delta = 50\n",
    "    n_experiments = 10000\n",
    "\n",
    "    #data file for this experiment\n",
    "    ifile_name = 'data/EGLaw_CRN.csv'\n",
    "    \n",
    "    #info for correct selection (maximisation problem)\n",
    "    true_top_m = np.array([1, 2]) \n",
    "    \n",
    "    #incremental budgets 200, 400, .... T\n",
    "    budgets = get_budgets(T, min_budget, increment_t)\n",
    "    \n",
    "    #generate experimental dataset\n",
    "    experiments = experiments_dependent_samples(ifile_name, boots=n_experiments)\n",
    "    \n",
    "    #run numerical experiment\n",
    "    css = numerical_experiment(experiments, budgets, delta, true_top_m, n_0, \n",
    "                               opt='min')\n",
    "    \n",
    "    return css"
   ]
  },
  {
   "cell_type": "markdown",
   "metadata": {},
   "source": [
    "# Run Experiments"
   ]
  },
  {
   "cell_type": "code",
   "execution_count": null,
   "metadata": {},
   "outputs": [],
   "source": [
    "results_law_max = experiment_2()"
   ]
  },
  {
   "cell_type": "code",
   "execution_count": null,
   "metadata": {},
   "outputs": [],
   "source": [
    "pd.DataFrame(results_law_max)"
   ]
  },
  {
   "cell_type": "code",
   "execution_count": null,
   "metadata": {},
   "outputs": [],
   "source": [
    "results_law_min = experiment_3()"
   ]
  },
  {
   "cell_type": "code",
   "execution_count": null,
   "metadata": {},
   "outputs": [],
   "source": [
    "pd.DataFrame(results_law_min)"
   ]
  },
  {
   "cell_type": "code",
   "execution_count": null,
   "metadata": {},
   "outputs": [],
   "source": [
    "#df = pd.DataFrame(css)\n",
    "#df[\"select\"] = top_m_list\n",
    "#df[\"allocations\"] = allocation_list\n",
    "#df[\"means_list\"] = np.around(means_list, decimals=4).tolist()\n",
    "#df.head()"
   ]
  },
  {
   "cell_type": "code",
   "execution_count": null,
   "metadata": {},
   "outputs": [],
   "source": [
    "#print(\"top m: {0}\".format(df[0:1][\"select\"].tolist()))\n",
    "#print(\"Means selected: {0}\".format(df[0:1][\"means_list\"].tolist()))\n",
    "#print(\"Allocations: {0}\".format(df[0:1][\"allocations\"].tolist()))"
   ]
  },
  {
   "cell_type": "code",
   "execution_count": null,
   "metadata": {},
   "outputs": [],
   "source": []
  },
  {
   "cell_type": "code",
   "execution_count": null,
   "metadata": {},
   "outputs": [],
   "source": [
    "budgets = get_budgets(3000, 300, 100)\n",
    "fig = plt.figure(figsize=(10,6))\n",
    "ax = pd.DataFrame(css, columns=budgets).mean(axis=0).plot(style='.-', ms=15)\n",
    "ax.set_ylabel(\"P{CS}\")\n",
    "ax.set_xlabel(\"Budget (max no. replications)\")\n",
    "ax.set_xticks(ticks = [i for i in range(200, 8000, 200)])\n",
    "\n",
    "ax.plot()"
   ]
  },
  {
   "cell_type": "code",
   "execution_count": null,
   "metadata": {},
   "outputs": [],
   "source": [
    "fig = plt.figure(figsize=(10,6))\n",
    "ax = pd.DataFrame(ocs, columns=budgets).mean(axis=0).plot(style='.-', ms=15)\n",
    "ax.set_ylabel(\"E{OC}\")\n",
    "ax.set_xlabel(\"Budget (max no. replications)\")\n",
    "ax.set_xticks(ticks = [i for i in range(200, 8000, 200)])\n",
    "\n",
    "ax.plot()"
   ]
  },
  {
   "cell_type": "code",
   "execution_count": null,
   "metadata": {},
   "outputs": [],
   "source": []
  }
 ],
 "metadata": {
  "kernelspec": {
   "display_name": "Python 3",
   "language": "python",
   "name": "python3"
  },
  "language_info": {
   "codemirror_mode": {
    "name": "ipython",
    "version": 3
   },
   "file_extension": ".py",
   "mimetype": "text/x-python",
   "name": "python",
   "nbconvert_exporter": "python",
   "pygments_lexer": "ipython3",
   "version": "3.7.3"
  }
 },
 "nbformat": 4,
 "nbformat_minor": 4
}
